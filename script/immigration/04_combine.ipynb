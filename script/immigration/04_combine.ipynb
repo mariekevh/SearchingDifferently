{
 "cells": [
  {
   "cell_type": "markdown",
   "metadata": {},
   "source": [
    "# 04 Combine files and descriptive statistics\n",
    "Combine the following files for further analyses and descriptive statistics:\n",
    "- Manually annotated search queries (ICR + 90% sample)\n",
    "- Other search query indicators\n",
    "- Background characteristics\n",
    "\n",
    "This notebook returns files used for LCA analysis and regression analysis in R, descriptive statistics, as well as a file for robustness check (looser selection criteria: at least two valid search queries)."
   ]
  },
  {
   "cell_type": "code",
   "execution_count": 1,
   "metadata": {},
   "outputs": [
    {
     "name": "stderr",
     "output_type": "stream",
     "text": [
      "/Users/marieke/Library/Python/3.8/lib/python/site-packages/outdated/utils.py:14: OutdatedPackageWarning: The package pingouin is out of date. Your version is 0.3.10, the latest is 0.5.1.\n",
      "Set the environment variable OUTDATED_IGNORE=1 to disable these warnings.\n",
      "  return warn(\n",
      "/Users/marieke/Library/Python/3.8/lib/python/site-packages/fuzzywuzzy/fuzz.py:11: UserWarning: Using slow pure-python SequenceMatcher. Install python-Levenshtein to remove this warning\n",
      "  warnings.warn('Using slow pure-python SequenceMatcher. Install python-Levenshtein to remove this warning')\n"
     ]
    }
   ],
   "source": [
    "import pandas as pd\n",
    "import numpy as np\n",
    "import pingouin as pg\n",
    "import json\n",
    "from tqdm import tqdm\n",
    "from fuzzywuzzy import fuzz"
   ]
  },
  {
   "cell_type": "code",
   "execution_count": 2,
   "metadata": {},
   "outputs": [],
   "source": [
    "# setting paths\n",
    "PATH = '/Users/marieke/SearchingForBias'"
   ]
  },
  {
   "cell_type": "code",
   "execution_count": 3,
   "metadata": {},
   "outputs": [
    {
     "data": {
      "text/plain": [
       "(1994, 46)"
      ]
     },
     "execution_count": 3,
     "metadata": {},
     "output_type": "execute_result"
    }
   ],
   "source": [
    "# search query descriptive variables and terms\n",
    "df = pd.read_pickle(PATH+'/data/immigration/02_df_sq_vars.pkl')\n",
    "df.shape"
   ]
  },
  {
   "cell_type": "code",
   "execution_count": 4,
   "metadata": {},
   "outputs": [],
   "source": [
    "#df.head()"
   ]
  },
  {
   "cell_type": "code",
   "execution_count": 5,
   "metadata": {},
   "outputs": [
    {
     "data": {
      "text/plain": [
       "(1994, 34)"
      ]
     },
     "execution_count": 5,
     "metadata": {},
     "output_type": "execute_result"
    }
   ],
   "source": [
    "# background vars\n",
    "bg = pd.read_pickle(PATH+'/data/immigration/02_df_bg.pkl')\n",
    "bg = bg.set_index(\"ID\", drop=True)\n",
    "bg.shape"
   ]
  },
  {
   "cell_type": "code",
   "execution_count": 6,
   "metadata": {},
   "outputs": [],
   "source": [
    "#bg.head()"
   ]
  },
  {
   "cell_type": "code",
   "execution_count": 7,
   "metadata": {},
   "outputs": [],
   "source": [
    "df = pd.merge(df, bg, left_index=True, right_index=True, how=\"left\")\n",
    "df = df.reset_index()"
   ]
  },
  {
   "cell_type": "markdown",
   "metadata": {},
   "source": [
    "#### Manual coding files"
   ]
  },
  {
   "cell_type": "code",
   "execution_count": 8,
   "metadata": {},
   "outputs": [],
   "source": [
    "# annotated\n",
    "# loading a version of the dataset that that manually fixed encoding errors that occured when opening the file in excel.\n",
    "sample90 = pd.read_excel(PATH+'/data/immigration/manual_coding/sample90_16032021_encoding.xlsx', engine='openpyxl')\n",
    "sample10 = pd.read_excel(PATH+\"/data/immigration/manual_coding/ICB_sample_25022021_MVH_fix.xlsx\", engine='openpyxl')"
   ]
  },
  {
   "cell_type": "code",
   "execution_count": 9,
   "metadata": {},
   "outputs": [
    {
     "name": "stdout",
     "output_type": "stream",
     "text": [
      "(274, 23) (2469, 23)\n"
     ]
    }
   ],
   "source": [
    "print(sample10.shape, sample90.shape)"
   ]
  },
  {
   "cell_type": "code",
   "execution_count": 10,
   "metadata": {},
   "outputs": [
    {
     "name": "stderr",
     "output_type": "stream",
     "text": [
      "<ipython-input-10-022749dd229f>:2: FutureWarning: The frame.append method is deprecated and will be removed from pandas in a future version. Use pandas.concat instead.\n",
      "  sq = sample90.append(sample10, ignore_index=True, sort=True)\n"
     ]
    }
   ],
   "source": [
    "# combine annotated files\n",
    "sq = sample90.append(sample10, ignore_index=True, sort=True)"
   ]
  },
  {
   "cell_type": "code",
   "execution_count": 11,
   "metadata": {},
   "outputs": [],
   "source": [
    "# matches (in different word order)\n",
    "with open(PATH+'/data/immigration/manual_coding/sq_matches_09022021.txt', 'r') as fi:\n",
    "    matches = json.load(fi)"
   ]
  },
  {
   "cell_type": "code",
   "execution_count": 12,
   "metadata": {},
   "outputs": [],
   "source": [
    "# add rows to sq for search queries with different word order\n",
    "df_list=[]\n",
    "for k, v in matches.items():\n",
    "    for i in v:\n",
    "        #print(i)\n",
    "        tmpdf = sq.loc[sq['search query'] == k].copy()\n",
    "        tmpdf['search query'] = i\n",
    "        df_list.append(tmpdf)"
   ]
  },
  {
   "cell_type": "code",
   "execution_count": 13,
   "metadata": {},
   "outputs": [
    {
     "name": "stderr",
     "output_type": "stream",
     "text": [
      "<ipython-input-13-38b7c9405222>:2: FutureWarning: The frame.append method is deprecated and will be removed from pandas in a future version. Use pandas.concat instead.\n",
      "  sq_total = sq.append(pd.concat(df_list), ignore_index=True, sort=True)\n"
     ]
    },
    {
     "data": {
      "text/plain": [
       "(2802, 23)"
      ]
     },
     "execution_count": 13,
     "metadata": {},
     "output_type": "execute_result"
    }
   ],
   "source": [
    "# append matches rows to sq tot make sq_total\n",
    "sq_total = sq.append(pd.concat(df_list), ignore_index=True, sort=True)\n",
    "sq_total.shape"
   ]
  },
  {
   "cell_type": "code",
   "execution_count": 14,
   "metadata": {},
   "outputs": [],
   "source": [
    "# append columns for each search query match, for each search query column in the main df."
   ]
  },
  {
   "cell_type": "code",
   "execution_count": 15,
   "metadata": {},
   "outputs": [],
   "source": [
    "# search query col 1\n",
    "tmpdf = sq_total.copy()\n",
    "tmpdf.columns = [c+\"_1\" for c in tmpdf.columns]\n",
    "df = pd.merge(df, tmpdf, left_on=\"MVH_search_im_1_lp\", right_on=\"search query_1\", how=\"left\")"
   ]
  },
  {
   "cell_type": "code",
   "execution_count": 16,
   "metadata": {},
   "outputs": [],
   "source": [
    "# search query col 2\n",
    "tmpdf = sq_total.copy()\n",
    "tmpdf.columns = [c+\"_2\" for c in tmpdf.columns]\n",
    "df = pd.merge(df, tmpdf, left_on=\"MVH_search_im_2_lp\", right_on=\"search query_2\", how=\"left\")"
   ]
  },
  {
   "cell_type": "code",
   "execution_count": 17,
   "metadata": {},
   "outputs": [],
   "source": [
    "# search query col 3\n",
    "tmpdf = sq_total.copy()\n",
    "tmpdf.columns = [c+\"_3\" for c in tmpdf.columns]\n",
    "df = pd.merge(df, tmpdf, left_on=\"MVH_search_im_3_lp\", right_on=\"search query_3\", how=\"left\")"
   ]
  },
  {
   "cell_type": "code",
   "execution_count": 18,
   "metadata": {},
   "outputs": [],
   "source": [
    "# missing search query --> invalid search query\n",
    "df.loc[df['search query_1'].isna(), 'VALID_1'] = 0\n",
    "df.loc[df['search query_2'].isna(), 'VALID_2'] = 0\n",
    "df.loc[df['search query_3'].isna(), 'VALID_3'] = 0"
   ]
  },
  {
   "cell_type": "code",
   "execution_count": 19,
   "metadata": {},
   "outputs": [
    {
     "data": {
      "text/plain": [
       "3.0    1607\n",
       "2.0     164\n",
       "0.0     132\n",
       "1.0      91\n",
       "Name: total_valid, dtype: int64"
      ]
     },
     "execution_count": 19,
     "metadata": {},
     "output_type": "execute_result"
    }
   ],
   "source": [
    "# how many valid search queries per person.\n",
    "df['total_valid'] = df[['VALID_1', 'VALID_2', 'VALID_3']].sum(axis=1)\n",
    "df['total_valid'].value_counts(dropna=False) #,normalize=True)*100"
   ]
  },
  {
   "cell_type": "code",
   "execution_count": 20,
   "metadata": {
    "scrolled": true
   },
   "outputs": [
    {
     "data": {
      "text/plain": [
       "3.0    80.591775\n",
       "2.0     8.224674\n",
       "0.0     6.619860\n",
       "1.0     4.563691\n",
       "Name: total_valid, dtype: float64"
      ]
     },
     "execution_count": 20,
     "metadata": {},
     "output_type": "execute_result"
    }
   ],
   "source": [
    "df['total_valid'].value_counts(dropna=False,normalize=True)*100"
   ]
  },
  {
   "cell_type": "code",
   "execution_count": 21,
   "metadata": {},
   "outputs": [
    {
     "data": {
      "text/plain": [
       "2    52.0\n",
       "3    40.0\n",
       "1     8.0\n",
       "Name: opl_3cat, dtype: float64"
      ]
     },
     "execution_count": 21,
     "metadata": {},
     "output_type": "execute_result"
    }
   ],
   "source": [
    "### descriptives: age, education, gender (inspect differences before and after sample selection)\n",
    "# education\n",
    "round(df.opl_3cat.value_counts(normalize=True, dropna=False)*100)"
   ]
  },
  {
   "cell_type": "code",
   "execution_count": 22,
   "metadata": {},
   "outputs": [
    {
     "data": {
      "text/plain": [
       "1    50.0\n",
       "2    49.0\n",
       "3     0.0\n",
       "Name: base_gender, dtype: float64"
      ]
     },
     "execution_count": 22,
     "metadata": {},
     "output_type": "execute_result"
    }
   ],
   "source": [
    "# gender\n",
    "round(df.base_gender.value_counts(normalize=True, dropna=False)*100)"
   ]
  },
  {
   "cell_type": "code",
   "execution_count": 23,
   "metadata": {},
   "outputs": [
    {
     "data": {
      "text/plain": [
       "46"
      ]
     },
     "execution_count": 23,
     "metadata": {},
     "output_type": "execute_result"
    }
   ],
   "source": [
    "# mean age\n",
    "round(df.base_lft.mean())"
   ]
  },
  {
   "cell_type": "code",
   "execution_count": 24,
   "metadata": {},
   "outputs": [],
   "source": [
    "#df.head()"
   ]
  },
  {
   "cell_type": "code",
   "execution_count": 25,
   "metadata": {},
   "outputs": [],
   "source": [
    "# list of search query indicator columns\n",
    "sq_cols = [c for c in sq_total.columns if c not in [\"Comments\", \"search query\"]]\n",
    "#sq_cols"
   ]
  },
  {
   "cell_type": "code",
   "execution_count": 26,
   "metadata": {},
   "outputs": [
    {
     "name": "stdout",
     "output_type": "stream",
     "text": [
      "(1771, 151)\n"
     ]
    }
   ],
   "source": [
    "# FOR ROBUSTNESS CHECK: loose criteria of >= 2 search queries\n",
    "df_loose = df.copy()\n",
    "df_loose = df_loose[((df_loose['total_valid']==2)|(df_loose['total_valid']==3))].copy()\n",
    "print(df_loose.shape) # number of respondents when at least two valid search queries.\n",
    "for c in sq_cols:\n",
    "    df_loose[c] = np.where(df_loose[[f'{c}_1', f'{c}_2', f'{c}_3']].sum(axis=1)>=1, 1, 0)\n",
    "df_loose.to_csv(PATH+\"/data/immigration/robustness_check/df_analysis_2valid.csv\",sep='\\t', index=False)"
   ]
  },
  {
   "cell_type": "code",
   "execution_count": 27,
   "metadata": {},
   "outputs": [
    {
     "data": {
      "text/plain": [
       "(1607, 151)"
      ]
     },
     "execution_count": 27,
     "metadata": {},
     "output_type": "execute_result"
    }
   ],
   "source": [
    "# only include respondents with three valid search queries.\n",
    "df = df[((df.VALID_1==1)&(df.VALID_2==1)&(df.VALID_3==1))].copy()\n",
    "df.shape # new sample size: 1607"
   ]
  },
  {
   "cell_type": "code",
   "execution_count": 28,
   "metadata": {},
   "outputs": [],
   "source": [
    "# combine variables in one 'overall' variable for all three search queries.\n",
    "# Note. Language in codebook has three categories (0=Dutch, 1=English, 2=Other), but 2 didn't occur."
   ]
  },
  {
   "cell_type": "code",
   "execution_count": 29,
   "metadata": {},
   "outputs": [],
   "source": [
    "for c in sq_cols:\n",
    "    df[c] = np.where(df[[f'{c}_1', f'{c}_2', f'{c}_3']].sum(axis=1)>=1, 1, 0)"
   ]
  },
  {
   "cell_type": "code",
   "execution_count": 30,
   "metadata": {},
   "outputs": [],
   "source": [
    "### save df for LCA analysis in R\n",
    "df.to_csv(PATH+\"/data/immigration/df_analysis.csv\",sep='\\t', index=False)"
   ]
  },
  {
   "cell_type": "markdown",
   "metadata": {},
   "source": [
    "## Descriptive Statistics"
   ]
  },
  {
   "cell_type": "code",
   "execution_count": 31,
   "metadata": {},
   "outputs": [],
   "source": [
    "cols_lp = [\"MVH_search_im_1_lp\", \"MVH_search_im_2_lp\", \"MVH_search_im_3_lp\"]"
   ]
  },
  {
   "cell_type": "code",
   "execution_count": 32,
   "metadata": {},
   "outputs": [
    {
     "name": "stdout",
     "output_type": "stream",
     "text": [
      "total number of valid search queries: 4821\n",
      "unique search queries: 2342\n"
     ]
    }
   ],
   "source": [
    "# how many unique search queries\n",
    "all_sq = [item for sublist in df[cols_lp].values.tolist() for item in sublist]\n",
    "print(\"total number of valid search queries:\", len(all_sq))\n",
    "tmplst = set(all_sq)\n",
    "print(\"unique search queries:\", len(tmplst))"
   ]
  },
  {
   "cell_type": "code",
   "execution_count": 33,
   "metadata": {},
   "outputs": [
    {
     "name": "stderr",
     "output_type": "stream",
     "text": [
      "100%|██████████| 2342/2342 [04:08<00:00,  9.44it/s] \n"
     ]
    }
   ],
   "source": [
    "doubles = []\n",
    "for i, element in enumerate(tqdm(tmplst)):\n",
    "    for sq in list(tmplst)[i+1:]:\n",
    "        if fuzz.token_sort_ratio(element, sq)>=100:\n",
    "            doubles.append(element)\n",
    "        else:\n",
    "            pass"
   ]
  },
  {
   "cell_type": "code",
   "execution_count": 34,
   "metadata": {},
   "outputs": [
    {
     "name": "stdout",
     "output_type": "stream",
     "text": [
      "unique search queries regardless of word order: 2287\n"
     ]
    }
   ],
   "source": [
    "u_sq = [c for c in list(tmplst) if c not in doubles]\n",
    "print(\"unique search queries regardless of word order:\", len(u_sq))"
   ]
  },
  {
   "cell_type": "code",
   "execution_count": 35,
   "metadata": {},
   "outputs": [
    {
     "data": {
      "text/plain": [
       "count    1607.000000\n",
       "mean       18.764987\n",
       "std         9.733000\n",
       "min         3.333333\n",
       "25%        11.666667\n",
       "50%        16.333333\n",
       "75%        23.666667\n",
       "max       116.333333\n",
       "Name: im_len_mean, dtype: float64"
      ]
     },
     "execution_count": 35,
     "metadata": {},
     "output_type": "execute_result"
    }
   ],
   "source": [
    "# average length of search queries\n",
    "df[\"im_len_mean\"].describe()"
   ]
  },
  {
   "cell_type": "code",
   "execution_count": 36,
   "metadata": {},
   "outputs": [
    {
     "data": {
      "text/plain": [
       "count    1607.000000\n",
       "mean        2.137731\n",
       "std         1.450193\n",
       "min         1.000000\n",
       "25%         1.000000\n",
       "50%         1.666667\n",
       "75%         2.666667\n",
       "max        17.000000\n",
       "Name: im_nwords_mean, dtype: float64"
      ]
     },
     "execution_count": 36,
     "metadata": {},
     "output_type": "execute_result"
    }
   ],
   "source": [
    "# average number of words per search query.\n",
    "df['im_nwords_mean'].describe()"
   ]
  },
  {
   "cell_type": "markdown",
   "metadata": {},
   "source": [
    "#### Descriptive statistics for search query indicators"
   ]
  },
  {
   "cell_type": "code",
   "execution_count": 37,
   "metadata": {},
   "outputs": [],
   "source": [
    "varnames1 = ['SPECIFIC', 'EFFECTIVE', 'QUESTION', 'LANGUAGE']\n",
    "varnames2=['DEBATE', 'PROBLEMS', 'ADMISSION', 'AZC',\n",
    "       'HOUSING', 'INTEGRATION', 'CRIME', 'RACISM', 'ECONOMY', 'FINANCIAL_SUPPORT',\n",
    "       'CULTURE_RELIGION', 'CAUSES', 'POLITICS', 'STATISTICS', 'ORIGIN', 'NEWS']\n",
    "terms = ['immigrant', 'buitenlander', 'gelukszoeker', 'statushouder', 'allochtoon', 'vluchteling', 'expat', 'asielzoeker']"
   ]
  },
  {
   "cell_type": "code",
   "execution_count": 38,
   "metadata": {},
   "outputs": [],
   "source": [
    "#tmp1 = pd.DataFrame([(df[varnames1].mean()*100), (df[varnames1].apply(pd.Series.value_counts).T[1])], columns=[\"Freq (%)\", \"N\"])\n",
    "tmp1 = pd.DataFrame(round(df[varnames1+varnames2+terms].mean()*100, 1), columns=[\"Freq (%)\"])\n",
    "tmp2 = pd.DataFrame((df[varnames1+varnames2+terms].apply(pd.Series.value_counts).T[1]))"
   ]
  },
  {
   "cell_type": "code",
   "execution_count": 39,
   "metadata": {},
   "outputs": [
    {
     "name": "stderr",
     "output_type": "stream",
     "text": [
      "<ipython-input-39-4643e89408d3>:2: FutureWarning: In future versions `DataFrame.to_latex` is expected to utilise the base implementation of `Styler.to_latex` for formatting and rendering. The arguments signature may therefore change. It is recommended instead to use `DataFrame.style.to_latex` which also contains additional functionality.\n",
      "  sq_des.to_latex(PATH+\"/report/tables/sq_descriptives.tex\")\n"
     ]
    },
    {
     "data": {
      "text/html": [
       "<div>\n",
       "<style scoped>\n",
       "    .dataframe tbody tr th:only-of-type {\n",
       "        vertical-align: middle;\n",
       "    }\n",
       "\n",
       "    .dataframe tbody tr th {\n",
       "        vertical-align: top;\n",
       "    }\n",
       "\n",
       "    .dataframe thead th {\n",
       "        text-align: right;\n",
       "    }\n",
       "</style>\n",
       "<table border=\"1\" class=\"dataframe\">\n",
       "  <thead>\n",
       "    <tr style=\"text-align: right;\">\n",
       "      <th></th>\n",
       "      <th>Freq (%)</th>\n",
       "      <th>1</th>\n",
       "    </tr>\n",
       "  </thead>\n",
       "  <tbody>\n",
       "    <tr>\n",
       "      <th>SPECIFIC</th>\n",
       "      <td>88.7</td>\n",
       "      <td>1425</td>\n",
       "    </tr>\n",
       "    <tr>\n",
       "      <th>EFFECTIVE</th>\n",
       "      <td>98.0</td>\n",
       "      <td>1575</td>\n",
       "    </tr>\n",
       "    <tr>\n",
       "      <th>QUESTION</th>\n",
       "      <td>13.8</td>\n",
       "      <td>221</td>\n",
       "    </tr>\n",
       "    <tr>\n",
       "      <th>LANGUAGE</th>\n",
       "      <td>1.3</td>\n",
       "      <td>21</td>\n",
       "    </tr>\n",
       "    <tr>\n",
       "      <th>DEBATE</th>\n",
       "      <td>3.4</td>\n",
       "      <td>54</td>\n",
       "    </tr>\n",
       "    <tr>\n",
       "      <th>PROBLEMS</th>\n",
       "      <td>5.2</td>\n",
       "      <td>84</td>\n",
       "    </tr>\n",
       "    <tr>\n",
       "      <th>ADMISSION</th>\n",
       "      <td>27.9</td>\n",
       "      <td>448</td>\n",
       "    </tr>\n",
       "    <tr>\n",
       "      <th>AZC</th>\n",
       "      <td>12.3</td>\n",
       "      <td>197</td>\n",
       "    </tr>\n",
       "    <tr>\n",
       "      <th>HOUSING</th>\n",
       "      <td>6.1</td>\n",
       "      <td>98</td>\n",
       "    </tr>\n",
       "    <tr>\n",
       "      <th>INTEGRATION</th>\n",
       "      <td>14.6</td>\n",
       "      <td>235</td>\n",
       "    </tr>\n",
       "    <tr>\n",
       "      <th>CRIME</th>\n",
       "      <td>6.5</td>\n",
       "      <td>104</td>\n",
       "    </tr>\n",
       "    <tr>\n",
       "      <th>RACISM</th>\n",
       "      <td>3.6</td>\n",
       "      <td>58</td>\n",
       "    </tr>\n",
       "    <tr>\n",
       "      <th>ECONOMY</th>\n",
       "      <td>4.2</td>\n",
       "      <td>67</td>\n",
       "    </tr>\n",
       "    <tr>\n",
       "      <th>FINANCIAL_SUPPORT</th>\n",
       "      <td>3.2</td>\n",
       "      <td>51</td>\n",
       "    </tr>\n",
       "    <tr>\n",
       "      <th>CULTURE_RELIGION</th>\n",
       "      <td>5.5</td>\n",
       "      <td>88</td>\n",
       "    </tr>\n",
       "    <tr>\n",
       "      <th>CAUSES</th>\n",
       "      <td>7.8</td>\n",
       "      <td>126</td>\n",
       "    </tr>\n",
       "    <tr>\n",
       "      <th>POLITICS</th>\n",
       "      <td>6.3</td>\n",
       "      <td>102</td>\n",
       "    </tr>\n",
       "    <tr>\n",
       "      <th>STATISTICS</th>\n",
       "      <td>21.2</td>\n",
       "      <td>341</td>\n",
       "    </tr>\n",
       "    <tr>\n",
       "      <th>ORIGIN</th>\n",
       "      <td>6.2</td>\n",
       "      <td>100</td>\n",
       "    </tr>\n",
       "    <tr>\n",
       "      <th>NEWS</th>\n",
       "      <td>2.3</td>\n",
       "      <td>37</td>\n",
       "    </tr>\n",
       "    <tr>\n",
       "      <th>immigrant</th>\n",
       "      <td>27.5</td>\n",
       "      <td>442</td>\n",
       "    </tr>\n",
       "    <tr>\n",
       "      <th>buitenlander</th>\n",
       "      <td>12.2</td>\n",
       "      <td>196</td>\n",
       "    </tr>\n",
       "    <tr>\n",
       "      <th>gelukszoeker</th>\n",
       "      <td>1.9</td>\n",
       "      <td>30</td>\n",
       "    </tr>\n",
       "    <tr>\n",
       "      <th>statushouder</th>\n",
       "      <td>1.6</td>\n",
       "      <td>26</td>\n",
       "    </tr>\n",
       "    <tr>\n",
       "      <th>allochtoon</th>\n",
       "      <td>6.7</td>\n",
       "      <td>107</td>\n",
       "    </tr>\n",
       "    <tr>\n",
       "      <th>vluchteling</th>\n",
       "      <td>33.2</td>\n",
       "      <td>533</td>\n",
       "    </tr>\n",
       "    <tr>\n",
       "      <th>expat</th>\n",
       "      <td>1.6</td>\n",
       "      <td>25</td>\n",
       "    </tr>\n",
       "    <tr>\n",
       "      <th>asielzoeker</th>\n",
       "      <td>27.9</td>\n",
       "      <td>449</td>\n",
       "    </tr>\n",
       "  </tbody>\n",
       "</table>\n",
       "</div>"
      ],
      "text/plain": [
       "                   Freq (%)     1\n",
       "SPECIFIC               88.7  1425\n",
       "EFFECTIVE              98.0  1575\n",
       "QUESTION               13.8   221\n",
       "LANGUAGE                1.3    21\n",
       "DEBATE                  3.4    54\n",
       "PROBLEMS                5.2    84\n",
       "ADMISSION              27.9   448\n",
       "AZC                    12.3   197\n",
       "HOUSING                 6.1    98\n",
       "INTEGRATION            14.6   235\n",
       "CRIME                   6.5   104\n",
       "RACISM                  3.6    58\n",
       "ECONOMY                 4.2    67\n",
       "FINANCIAL_SUPPORT       3.2    51\n",
       "CULTURE_RELIGION        5.5    88\n",
       "CAUSES                  7.8   126\n",
       "POLITICS                6.3   102\n",
       "STATISTICS             21.2   341\n",
       "ORIGIN                  6.2   100\n",
       "NEWS                    2.3    37\n",
       "immigrant              27.5   442\n",
       "buitenlander           12.2   196\n",
       "gelukszoeker            1.9    30\n",
       "statushouder            1.6    26\n",
       "allochtoon              6.7   107\n",
       "vluchteling            33.2   533\n",
       "expat                   1.6    25\n",
       "asielzoeker            27.9   449"
      ]
     },
     "execution_count": 39,
     "metadata": {},
     "output_type": "execute_result"
    }
   ],
   "source": [
    "sq_des = tmp1.join(tmp2)\n",
    "sq_des.to_latex(PATH+\"/report/tables/sq_descriptives.tex\")\n",
    "sq_des"
   ]
  },
  {
   "cell_type": "code",
   "execution_count": 40,
   "metadata": {},
   "outputs": [
    {
     "name": "stderr",
     "output_type": "stream",
     "text": [
      "<ipython-input-40-3002d543a6b4>:4: FutureWarning: The frame.append method is deprecated and will be removed from pandas in a future version. Use pandas.concat instead.\n",
      "  sq_des2 = tmp1.append(tmp2)\n"
     ]
    }
   ],
   "source": [
    "### percentages only\n",
    "tmp1 = pd.DataFrame(round(df[varnames2].mean()*100, 1), columns=[\"Freq (%)\"]).sort_values(by='Freq (%)', ascending=False)\n",
    "tmp2 = pd.DataFrame(round(df[terms].mean()*100, 1), columns=[\"Freq (%)\"]).sort_values(by='Freq (%)', ascending=False)\n",
    "sq_des2 = tmp1.append(tmp2)\n",
    "#sq_des2"
   ]
  },
  {
   "cell_type": "code",
   "execution_count": 41,
   "metadata": {},
   "outputs": [],
   "source": [
    "# clean up dataframe\n",
    "#drop valid,specific,language,question,effectief\n",
    "names = {'DEBATE':'Debate',\n",
    "         'PROBLEMS':'Problems',\n",
    "         'ADMISSION':'Admission',\n",
    "         'AZC':'Accommodation center',\n",
    "         'HOUSING':'Housing',\n",
    "         'INTEGRATION':'Integration',\n",
    "         'CRIME':'Crime',\n",
    "         'RACISM':'Racism',\n",
    "         'ECONOMY':'Economy',\n",
    "         'FINANCIAL_SUPPORT':'Financial support',\n",
    "         'CULTURE_RELIGION':'Culture and religion',\n",
    "         'CAUSES':'Causes',\n",
    "         'POLITICS':'Politics',\n",
    "         'STATISTICS':'Statistics',\n",
    "         'ORIGIN':'Origin',\n",
    "         'NEWS':'News',\n",
    "         'immigrant':'Immigrant',\n",
    "         'buitenlander':'Buitenlander',\n",
    "         'gelukszoeker':'Gelukszoeker',\n",
    "         'statushouder':'Statushouder',\n",
    "         'allochtoon':'Allochtoon',\n",
    "         'vluchteling':'Vluchteling',\n",
    "         'expat':'Expat',\n",
    "         'asielzoeker':'Asielzoeker'\n",
    "        }\n",
    "sq_des2 = sq_des2[~sq_des2.index.isin(['SPECIFIC','VALID','EFFECTIVE', 'QUESTION','LANGUAGE'])]\n",
    "sq_des2['label']=np.where(sq_des2.index.isin(terms), 'terms', 'topics')\n",
    "sq_des2.index=sq_des2.index.map(names)"
   ]
  },
  {
   "cell_type": "code",
   "execution_count": 42,
   "metadata": {},
   "outputs": [
    {
     "data": {
      "text/plain": [
       "<Figure size 3240x5400 with 0 Axes>"
      ]
     },
     "execution_count": 42,
     "metadata": {},
     "output_type": "execute_result"
    },
    {
     "data": {
      "text/plain": [
       "<Figure size 3240x5400 with 0 Axes>"
      ]
     },
     "metadata": {},
     "output_type": "display_data"
    }
   ],
   "source": [
    "# bar graph\n",
    "import matplotlib\n",
    "import matplotlib.pyplot as plt\n",
    "import seaborn as sns\n",
    "sns.set_context(\"paper\")\n",
    "sns.set(font='serif')\n",
    "sns.set_style(\"whitegrid\")\n",
    "#sns.set_style(\"whitegrid\", {\"font.family\":\"serif\", \"font.serif\":[\"Times\", \"Palatino\", \"serif\"], \"xtick.bottom\":True})\n",
    "#sns.set(rc={\"xtick.bottom\":True, font='serif'})                                                                                                                                                     \n",
    "#plt.figure(figsize=(15,25))\n",
    "plt.figure(figsize=(45,75))"
   ]
  },
  {
   "cell_type": "code",
   "execution_count": 43,
   "metadata": {},
   "outputs": [],
   "source": [
    "from matplotlib import *\n",
    "from numpy import *\n",
    "\n",
    "rcParams['mathtext.it'] = 'STIXGeneral:italic'"
   ]
  },
  {
   "cell_type": "code",
   "execution_count": 44,
   "metadata": {},
   "outputs": [],
   "source": [
    "italics= [\"$\\it{\"+str(e)+\"}$\" if e in list(names.values())[-8:] else e for e in sq_des2.index]\n",
    "sq_des2.index = italics"
   ]
  },
  {
   "cell_type": "code",
   "execution_count": 45,
   "metadata": {},
   "outputs": [
    {
     "data": {
      "image/png": "[encoded data removed]",
      "text/plain": [
       "<Figure size 504x360 with 1 Axes>"
      ]
     },
     "metadata": {},
     "output_type": "display_data"
    }
   ],
   "source": [
    "plt.figure(figsize=(7,5))\n",
    "plt.xlabel('Frequency (%)')\n",
    "plt.gca().invert_yaxis()\n",
    "plt.xlim([0, 50])\n",
    "plt.grid(False)\n",
    "for index, value in enumerate(sq_des2['Freq (%)']):\n",
    "    plt.text(value, index, \"  \"+str(value), va='center_baseline')\n",
    "plt.barh(sq_des2.index, sq_des2['Freq (%)'])\n",
    "plt.savefig(PATH+\"/report/figures/sq_descriptives.eps\", format='eps', dpi=600, bbox_inches='tight', pad_inches = 0)\n",
    "plt.show()"
   ]
  },
  {
   "cell_type": "code",
   "execution_count": 46,
   "metadata": {},
   "outputs": [
    {
     "data": {
      "text/plain": [
       "3.0    70.690728\n",
       "2.0    20.970753\n",
       "1.0     6.347231\n",
       "0.0     1.991288\n",
       "Name: total_effective, dtype: float64"
      ]
     },
     "execution_count": 46,
     "metadata": {},
     "output_type": "execute_result"
    }
   ],
   "source": [
    "# how many effective search queries per person.\n",
    "df['total_effective'] = df[['EFFECTIVE_1', 'EFFECTIVE_2', 'EFFECTIVE_3']].sum(axis=1)\n",
    "df['total_effective'].value_counts(dropna=False,normalize=True)*100"
   ]
  },
  {
   "cell_type": "code",
   "execution_count": 47,
   "metadata": {},
   "outputs": [
    {
     "data": {
      "text/plain": [
       "3.0    1136\n",
       "2.0     337\n",
       "1.0     102\n",
       "0.0      32\n",
       "Name: total_effective, dtype: int64"
      ]
     },
     "execution_count": 47,
     "metadata": {},
     "output_type": "execute_result"
    }
   ],
   "source": [
    "df['total_effective'].value_counts(dropna=False) #, normalize=True)*100"
   ]
  },
  {
   "cell_type": "code",
   "execution_count": 48,
   "metadata": {},
   "outputs": [
    {
     "data": {
      "text/plain": [
       "599"
      ]
     },
     "execution_count": 48,
     "metadata": {},
     "output_type": "execute_result"
    }
   ],
   "source": [
    "len(df[df['EFFECTIVE_1']==0])+len(df[df['EFFECTIVE_2']==0])+len(df[df['EFFECTIVE_3']==0])"
   ]
  },
  {
   "cell_type": "code",
   "execution_count": 49,
   "metadata": {},
   "outputs": [
    {
     "data": {
      "text/plain": [
       "3.0    32.047293\n",
       "2.0    31.860610\n",
       "1.0    24.766646\n",
       "0.0    11.325451\n",
       "Name: total_specific, dtype: float64"
      ]
     },
     "execution_count": 49,
     "metadata": {},
     "output_type": "execute_result"
    }
   ],
   "source": [
    "# how many specific search queries per person.\n",
    "df['total_specific'] = df[['SPECIFIC_1', 'SPECIFIC_2', 'SPECIFIC_3']].sum(axis=1)\n",
    "df['total_specific'].value_counts(dropna=False,normalize=True)*100"
   ]
  },
  {
   "cell_type": "code",
   "execution_count": 50,
   "metadata": {},
   "outputs": [
    {
     "data": {
      "text/plain": [
       "1    39.079029\n",
       "2    32.109521\n",
       "0    17.983821\n",
       "3    10.392035\n",
       "4     0.373367\n",
       "5     0.062228\n",
       "Name: total_topics, dtype: float64"
      ]
     },
     "execution_count": 50,
     "metadata": {},
     "output_type": "execute_result"
    }
   ],
   "source": [
    "# how many have zero topics \n",
    "df['total_topics'] = df[varnames2].sum(axis=1)\n",
    "df['total_topics'].value_counts(dropna=False, normalize=True)*100"
   ]
  },
  {
   "cell_type": "code",
   "execution_count": 51,
   "metadata": {},
   "outputs": [
    {
     "data": {
      "text/plain": [
       "0.0    54.387057\n",
       "1.0    45.612943\n",
       "Name: SPECIFIC_1, dtype: float64"
      ]
     },
     "execution_count": 51,
     "metadata": {},
     "output_type": "execute_result"
    }
   ],
   "source": [
    "df['SPECIFIC_1'].value_counts(dropna=False, normalize=True)*100"
   ]
  },
  {
   "cell_type": "code",
   "execution_count": 52,
   "metadata": {},
   "outputs": [
    {
     "data": {
      "text/plain": [
       "1.0    63.658992\n",
       "0.0    36.341008\n",
       "Name: SPECIFIC_2, dtype: float64"
      ]
     },
     "execution_count": 52,
     "metadata": {},
     "output_type": "execute_result"
    }
   ],
   "source": [
    "df['SPECIFIC_2'].value_counts(dropna=False, normalize=True)*100"
   ]
  },
  {
   "cell_type": "code",
   "execution_count": 53,
   "metadata": {},
   "outputs": [
    {
     "data": {
      "text/plain": [
       "1.0    75.35781\n",
       "0.0    24.64219\n",
       "Name: SPECIFIC_3, dtype: float64"
      ]
     },
     "execution_count": 53,
     "metadata": {},
     "output_type": "execute_result"
    }
   ],
   "source": [
    "df['SPECIFIC_3'].value_counts(dropna=False, normalize=True)*100"
   ]
  },
  {
   "cell_type": "code",
   "execution_count": 54,
   "metadata": {},
   "outputs": [
    {
     "data": {
      "text/plain": [
       "0.0    1586\n",
       "1.0      12\n",
       "3.0       6\n",
       "2.0       3\n",
       "Name: total_english, dtype: int64"
      ]
     },
     "execution_count": 54,
     "metadata": {},
     "output_type": "execute_result"
    }
   ],
   "source": [
    "# English versus Dutch\n",
    "df['total_english'] = df[['LANGUAGE_1', 'LANGUAGE_2', 'LANGUAGE_3']].sum(axis=1)\n",
    "df['total_english'].value_counts(dropna=False)"
   ]
  },
  {
   "cell_type": "markdown",
   "metadata": {},
   "source": [
    "#### Descriptive statistics for independent variables"
   ]
  },
  {
   "cell_type": "code",
   "execution_count": 55,
   "metadata": {},
   "outputs": [],
   "source": [
    "df['edu_low'] = np.where(df.opl_3cat==1,1,0)\n",
    "df['edu_mid'] = np.where(df.opl_3cat==2,1,0)\n",
    "df['edu_high'] = np.where(df.opl_3cat==3,1,0)\n",
    "df['base_gender2'] = np.where(df.base_gender==1,1,0)"
   ]
  },
  {
   "cell_type": "code",
   "execution_count": 56,
   "metadata": {},
   "outputs": [
    {
     "data": {
      "text/plain": [
       "1    0.505289\n",
       "0    0.494711\n",
       "Name: edu_mid, dtype: float64"
      ]
     },
     "execution_count": 56,
     "metadata": {},
     "output_type": "execute_result"
    }
   ],
   "source": [
    "df['edu_mid'].value_counts(dropna=False,normalize=True)"
   ]
  },
  {
   "cell_type": "code",
   "execution_count": 57,
   "metadata": {},
   "outputs": [],
   "source": [
    "vote = ['VVD','PVV','CDA','D66','GroenLinks','SP','PvdA','ChristenUnie','PvdD',\n",
    "        '50Plus','SGP','DENK','FvD','Andere_partij']\n",
    "iv_cat = ['edu_low', 'edu_mid', 'edu_high', 'base_gender2']\n",
    "iv_con = ['att_im_mean', 'MVH_att_importance_1', 'base_polar', 'base_intpol', \n",
    "          'base_lft']"
   ]
  },
  {
   "cell_type": "code",
   "execution_count": 58,
   "metadata": {},
   "outputs": [
    {
     "data": {
      "text/html": [
       "<div>\n",
       "<style scoped>\n",
       "    .dataframe tbody tr th:only-of-type {\n",
       "        vertical-align: middle;\n",
       "    }\n",
       "\n",
       "    .dataframe tbody tr th {\n",
       "        vertical-align: top;\n",
       "    }\n",
       "\n",
       "    .dataframe thead th {\n",
       "        text-align: right;\n",
       "    }\n",
       "</style>\n",
       "<table border=\"1\" class=\"dataframe\">\n",
       "  <thead>\n",
       "    <tr style=\"text-align: right;\">\n",
       "      <th></th>\n",
       "      <th>mean</th>\n",
       "      <th>std</th>\n",
       "      <th>min</th>\n",
       "      <th>max</th>\n",
       "    </tr>\n",
       "  </thead>\n",
       "  <tbody>\n",
       "    <tr>\n",
       "      <th>att_im_mean</th>\n",
       "      <td>4.13</td>\n",
       "      <td>1.51</td>\n",
       "      <td>1.0</td>\n",
       "      <td>7.0</td>\n",
       "    </tr>\n",
       "    <tr>\n",
       "      <th>MVH_att_importance_1</th>\n",
       "      <td>3.28</td>\n",
       "      <td>0.98</td>\n",
       "      <td>1.0</td>\n",
       "      <td>5.0</td>\n",
       "    </tr>\n",
       "    <tr>\n",
       "      <th>base_polar</th>\n",
       "      <td>5.11</td>\n",
       "      <td>2.30</td>\n",
       "      <td>0.0</td>\n",
       "      <td>10.0</td>\n",
       "    </tr>\n",
       "    <tr>\n",
       "      <th>base_intpol</th>\n",
       "      <td>5.22</td>\n",
       "      <td>2.53</td>\n",
       "      <td>0.0</td>\n",
       "      <td>10.0</td>\n",
       "    </tr>\n",
       "    <tr>\n",
       "      <th>base_lft</th>\n",
       "      <td>46.26</td>\n",
       "      <td>14.95</td>\n",
       "      <td>18.0</td>\n",
       "      <td>77.0</td>\n",
       "    </tr>\n",
       "    <tr>\n",
       "      <th>edu_low</th>\n",
       "      <td>0.07</td>\n",
       "      <td>0.25</td>\n",
       "      <td>0.0</td>\n",
       "      <td>1.0</td>\n",
       "    </tr>\n",
       "    <tr>\n",
       "      <th>edu_mid</th>\n",
       "      <td>0.51</td>\n",
       "      <td>0.50</td>\n",
       "      <td>0.0</td>\n",
       "      <td>1.0</td>\n",
       "    </tr>\n",
       "    <tr>\n",
       "      <th>edu_high</th>\n",
       "      <td>0.43</td>\n",
       "      <td>0.49</td>\n",
       "      <td>0.0</td>\n",
       "      <td>1.0</td>\n",
       "    </tr>\n",
       "    <tr>\n",
       "      <th>base_gender2</th>\n",
       "      <td>0.49</td>\n",
       "      <td>0.50</td>\n",
       "      <td>0.0</td>\n",
       "      <td>1.0</td>\n",
       "    </tr>\n",
       "  </tbody>\n",
       "</table>\n",
       "</div>"
      ],
      "text/plain": [
       "                       mean    std   min   max\n",
       "att_im_mean            4.13   1.51   1.0   7.0\n",
       "MVH_att_importance_1   3.28   0.98   1.0   5.0\n",
       "base_polar             5.11   2.30   0.0  10.0\n",
       "base_intpol            5.22   2.53   0.0  10.0\n",
       "base_lft              46.26  14.95  18.0  77.0\n",
       "edu_low                0.07   0.25   0.0   1.0\n",
       "edu_mid                0.51   0.50   0.0   1.0\n",
       "edu_high               0.43   0.49   0.0   1.0\n",
       "base_gender2           0.49   0.50   0.0   1.0"
      ]
     },
     "execution_count": 58,
     "metadata": {},
     "output_type": "execute_result"
    }
   ],
   "source": [
    "# mean age, gender and education for search query sample\n",
    "des2 = round(df[iv_con+iv_cat].describe().T[['mean', 'std','min', 'max']],2)\n",
    "des2"
   ]
  },
  {
   "cell_type": "code",
   "execution_count": 59,
   "metadata": {},
   "outputs": [
    {
     "data": {
      "text/plain": [
       "(1607, 180)"
      ]
     },
     "execution_count": 59,
     "metadata": {},
     "output_type": "execute_result"
    }
   ],
   "source": [
    "df.shape"
   ]
  },
  {
   "cell_type": "code",
   "execution_count": 60,
   "metadata": {},
   "outputs": [
    {
     "data": {
      "text/html": [
       "<div>\n",
       "<style scoped>\n",
       "    .dataframe tbody tr th:only-of-type {\n",
       "        vertical-align: middle;\n",
       "    }\n",
       "\n",
       "    .dataframe tbody tr th {\n",
       "        vertical-align: top;\n",
       "    }\n",
       "\n",
       "    .dataframe thead th {\n",
       "        text-align: right;\n",
       "    }\n",
       "</style>\n",
       "<table border=\"1\" class=\"dataframe\">\n",
       "  <thead>\n",
       "    <tr style=\"text-align: right;\">\n",
       "      <th></th>\n",
       "      <th>ID</th>\n",
       "      <th>MVH_search_im_1</th>\n",
       "      <th>MVH_search_im_2</th>\n",
       "      <th>MVH_search_im_3</th>\n",
       "      <th>MVH_search_im_1_lp</th>\n",
       "      <th>MVH_search_im_2_lp</th>\n",
       "      <th>MVH_search_im_3_lp</th>\n",
       "      <th>MVH_search_im_1_lp_ex</th>\n",
       "      <th>MVH_search_im_2_lp_ex</th>\n",
       "      <th>MVH_search_im_3_lp_ex</th>\n",
       "      <th>...</th>\n",
       "      <th>STATISTICS</th>\n",
       "      <th>VALID</th>\n",
       "      <th>total_effective</th>\n",
       "      <th>total_specific</th>\n",
       "      <th>total_topics</th>\n",
       "      <th>total_english</th>\n",
       "      <th>edu_low</th>\n",
       "      <th>edu_mid</th>\n",
       "      <th>edu_high</th>\n",
       "      <th>base_gender2</th>\n",
       "    </tr>\n",
       "  </thead>\n",
       "  <tbody>\n",
       "    <tr>\n",
       "      <th>1</th>\n",
       "      <td>2</td>\n",
       "      <td>asielzoekers</td>\n",
       "      <td>alochtonen</td>\n",
       "      <td>asielzoekerscentrum</td>\n",
       "      <td>asielzoekers</td>\n",
       "      <td>alochtonen</td>\n",
       "      <td>asielzoekerscentrum</td>\n",
       "      <td>asielzoekers</td>\n",
       "      <td>alochtonen</td>\n",
       "      <td>asielzoekerscentrum</td>\n",
       "      <td>...</td>\n",
       "      <td>0</td>\n",
       "      <td>1</td>\n",
       "      <td>3.0</td>\n",
       "      <td>1.0</td>\n",
       "      <td>1</td>\n",
       "      <td>0.0</td>\n",
       "      <td>0</td>\n",
       "      <td>1</td>\n",
       "      <td>0</td>\n",
       "      <td>0</td>\n",
       "    </tr>\n",
       "    <tr>\n",
       "      <th>14</th>\n",
       "      <td>15</td>\n",
       "      <td>Immigratie</td>\n",
       "      <td>Discriminatie</td>\n",
       "      <td>Uitzetting</td>\n",
       "      <td>immigratie</td>\n",
       "      <td>discriminatie</td>\n",
       "      <td>uitzetting</td>\n",
       "      <td>immigratie</td>\n",
       "      <td>discriminatie</td>\n",
       "      <td>uitzetting</td>\n",
       "      <td>...</td>\n",
       "      <td>0</td>\n",
       "      <td>1</td>\n",
       "      <td>2.0</td>\n",
       "      <td>2.0</td>\n",
       "      <td>2</td>\n",
       "      <td>0.0</td>\n",
       "      <td>0</td>\n",
       "      <td>1</td>\n",
       "      <td>0</td>\n",
       "      <td>0</td>\n",
       "    </tr>\n",
       "    <tr>\n",
       "      <th>19</th>\n",
       "      <td>20</td>\n",
       "      <td>Hoeveel mensen vragen asiel aan per jaar</td>\n",
       "      <td>Waar wonen de minste buitenlanders</td>\n",
       "      <td>Mag iedereen hier komen wonen en werken</td>\n",
       "      <td>hoeveel mensen vragen asiel aan per jaar</td>\n",
       "      <td>waar wonen de minste buitenlanders</td>\n",
       "      <td>mag iedereen hier komen wonen en werken</td>\n",
       "      <td>hoeveel mensen vragen asiel aan per jaar</td>\n",
       "      <td>waar wonen de minste buitenlanders</td>\n",
       "      <td>mag iedereen hier komen wonen en werken</td>\n",
       "      <td>...</td>\n",
       "      <td>1</td>\n",
       "      <td>1</td>\n",
       "      <td>3.0</td>\n",
       "      <td>3.0</td>\n",
       "      <td>4</td>\n",
       "      <td>0.0</td>\n",
       "      <td>1</td>\n",
       "      <td>0</td>\n",
       "      <td>0</td>\n",
       "      <td>1</td>\n",
       "    </tr>\n",
       "    <tr>\n",
       "      <th>28</th>\n",
       "      <td>29</td>\n",
       "      <td>immigranten</td>\n",
       "      <td>discussie immigranten</td>\n",
       "      <td>politiek over immigranten</td>\n",
       "      <td>immigranten</td>\n",
       "      <td>discussie immigranten</td>\n",
       "      <td>politiek over immigranten</td>\n",
       "      <td>immigranten</td>\n",
       "      <td>discussie immigranten</td>\n",
       "      <td>politiek over immigranten</td>\n",
       "      <td>...</td>\n",
       "      <td>0</td>\n",
       "      <td>1</td>\n",
       "      <td>3.0</td>\n",
       "      <td>2.0</td>\n",
       "      <td>2</td>\n",
       "      <td>0.0</td>\n",
       "      <td>0</td>\n",
       "      <td>1</td>\n",
       "      <td>0</td>\n",
       "      <td>0</td>\n",
       "    </tr>\n",
       "    <tr>\n",
       "      <th>63</th>\n",
       "      <td>64</td>\n",
       "      <td>Assielzoeker</td>\n",
       "      <td>Migranten</td>\n",
       "      <td>Arbeidsmigranten</td>\n",
       "      <td>assielzoeker</td>\n",
       "      <td>migranten</td>\n",
       "      <td>arbeidsmigranten</td>\n",
       "      <td>assielzoeker</td>\n",
       "      <td>migranten</td>\n",
       "      <td>arbeidsmigranten</td>\n",
       "      <td>...</td>\n",
       "      <td>0</td>\n",
       "      <td>1</td>\n",
       "      <td>3.0</td>\n",
       "      <td>1.0</td>\n",
       "      <td>1</td>\n",
       "      <td>0.0</td>\n",
       "      <td>0</td>\n",
       "      <td>1</td>\n",
       "      <td>0</td>\n",
       "      <td>0</td>\n",
       "    </tr>\n",
       "    <tr>\n",
       "      <th>...</th>\n",
       "      <td>...</td>\n",
       "      <td>...</td>\n",
       "      <td>...</td>\n",
       "      <td>...</td>\n",
       "      <td>...</td>\n",
       "      <td>...</td>\n",
       "      <td>...</td>\n",
       "      <td>...</td>\n",
       "      <td>...</td>\n",
       "      <td>...</td>\n",
       "      <td>...</td>\n",
       "      <td>...</td>\n",
       "      <td>...</td>\n",
       "      <td>...</td>\n",
       "      <td>...</td>\n",
       "      <td>...</td>\n",
       "      <td>...</td>\n",
       "      <td>...</td>\n",
       "      <td>...</td>\n",
       "      <td>...</td>\n",
       "      <td>...</td>\n",
       "    </tr>\n",
       "    <tr>\n",
       "      <th>1909</th>\n",
       "      <td>1910</td>\n",
       "      <td>Pvv</td>\n",
       "      <td>Buitenlanders</td>\n",
       "      <td>Asielzoekers</td>\n",
       "      <td>pvv</td>\n",
       "      <td>buitenlanders</td>\n",
       "      <td>asielzoekers</td>\n",
       "      <td>pvv</td>\n",
       "      <td>buitenlanders</td>\n",
       "      <td>asielzoekers</td>\n",
       "      <td>...</td>\n",
       "      <td>0</td>\n",
       "      <td>1</td>\n",
       "      <td>3.0</td>\n",
       "      <td>1.0</td>\n",
       "      <td>1</td>\n",
       "      <td>0.0</td>\n",
       "      <td>1</td>\n",
       "      <td>0</td>\n",
       "      <td>0</td>\n",
       "      <td>1</td>\n",
       "    </tr>\n",
       "    <tr>\n",
       "      <th>1941</th>\n",
       "      <td>1942</td>\n",
       "      <td>allochtonen</td>\n",
       "      <td>emigratie niet Nederlanders</td>\n",
       "      <td>Niet EU-burgers</td>\n",
       "      <td>allochtonen</td>\n",
       "      <td>emigratie niet nederlanders</td>\n",
       "      <td>niet euburgers</td>\n",
       "      <td>allochtonen</td>\n",
       "      <td>emigratie nederlanders</td>\n",
       "      <td>euburgers</td>\n",
       "      <td>...</td>\n",
       "      <td>0</td>\n",
       "      <td>1</td>\n",
       "      <td>3.0</td>\n",
       "      <td>0.0</td>\n",
       "      <td>0</td>\n",
       "      <td>0.0</td>\n",
       "      <td>0</td>\n",
       "      <td>1</td>\n",
       "      <td>0</td>\n",
       "      <td>1</td>\n",
       "    </tr>\n",
       "    <tr>\n",
       "      <th>1949</th>\n",
       "      <td>1950</td>\n",
       "      <td>immigranten</td>\n",
       "      <td>buitenlandse mensen</td>\n",
       "      <td>marokkanen</td>\n",
       "      <td>immigranten</td>\n",
       "      <td>buitenlandse mensen</td>\n",
       "      <td>marokkanen</td>\n",
       "      <td>immigranten</td>\n",
       "      <td>buitenlandse mensen</td>\n",
       "      <td>marokkanen</td>\n",
       "      <td>...</td>\n",
       "      <td>0</td>\n",
       "      <td>1</td>\n",
       "      <td>3.0</td>\n",
       "      <td>1.0</td>\n",
       "      <td>0</td>\n",
       "      <td>0.0</td>\n",
       "      <td>0</td>\n",
       "      <td>0</td>\n",
       "      <td>1</td>\n",
       "      <td>0</td>\n",
       "    </tr>\n",
       "    <tr>\n",
       "      <th>1969</th>\n",
       "      <td>1970</td>\n",
       "      <td>Nieuwkomers in Nederland</td>\n",
       "      <td>Immigranten</td>\n",
       "      <td>Vluchtelingen in Nederland</td>\n",
       "      <td>nieuwkomers in nederland</td>\n",
       "      <td>immigranten</td>\n",
       "      <td>vluchtelingen in nederland</td>\n",
       "      <td>nieuwkomers in nederland</td>\n",
       "      <td>immigranten</td>\n",
       "      <td>vluchtelingen in nederland</td>\n",
       "      <td>...</td>\n",
       "      <td>0</td>\n",
       "      <td>1</td>\n",
       "      <td>2.0</td>\n",
       "      <td>0.0</td>\n",
       "      <td>0</td>\n",
       "      <td>0.0</td>\n",
       "      <td>0</td>\n",
       "      <td>1</td>\n",
       "      <td>0</td>\n",
       "      <td>1</td>\n",
       "    </tr>\n",
       "    <tr>\n",
       "      <th>1993</th>\n",
       "      <td>1994</td>\n",
       "      <td>Immigranten Nederland</td>\n",
       "      <td>Vluchtelingen Nederland</td>\n",
       "      <td>Eisen om Nederlandse burger te worden</td>\n",
       "      <td>immigranten nederland</td>\n",
       "      <td>vluchtelingen nederland</td>\n",
       "      <td>eisen om nederlandse burger te worden</td>\n",
       "      <td>immigranten nederland</td>\n",
       "      <td>vluchtelingen nederland</td>\n",
       "      <td>eisen om nederlandse burger te worden</td>\n",
       "      <td>...</td>\n",
       "      <td>0</td>\n",
       "      <td>1</td>\n",
       "      <td>3.0</td>\n",
       "      <td>1.0</td>\n",
       "      <td>0</td>\n",
       "      <td>0.0</td>\n",
       "      <td>0</td>\n",
       "      <td>1</td>\n",
       "      <td>0</td>\n",
       "      <td>0</td>\n",
       "    </tr>\n",
       "  </tbody>\n",
       "</table>\n",
       "<p>124 rows × 180 columns</p>\n",
       "</div>"
      ],
      "text/plain": [
       "        ID                           MVH_search_im_1  \\\n",
       "1        2                              asielzoekers   \n",
       "14      15                                Immigratie   \n",
       "19      20  Hoeveel mensen vragen asiel aan per jaar   \n",
       "28      29                               immigranten   \n",
       "63      64                              Assielzoeker   \n",
       "...    ...                                       ...   \n",
       "1909  1910                                       Pvv   \n",
       "1941  1942                               allochtonen   \n",
       "1949  1950                               immigranten   \n",
       "1969  1970                  Nieuwkomers in Nederland   \n",
       "1993  1994                     Immigranten Nederland   \n",
       "\n",
       "                         MVH_search_im_2  \\\n",
       "1                             alochtonen   \n",
       "14                         Discriminatie   \n",
       "19    Waar wonen de minste buitenlanders   \n",
       "28                 discussie immigranten   \n",
       "63                             Migranten   \n",
       "...                                  ...   \n",
       "1909                       Buitenlanders   \n",
       "1941         emigratie niet Nederlanders   \n",
       "1949                 buitenlandse mensen   \n",
       "1969                         Immigranten   \n",
       "1993             Vluchtelingen Nederland   \n",
       "\n",
       "                              MVH_search_im_3  \\\n",
       "1                         asielzoekerscentrum   \n",
       "14                                 Uitzetting   \n",
       "19    Mag iedereen hier komen wonen en werken   \n",
       "28                  politiek over immigranten   \n",
       "63                           Arbeidsmigranten   \n",
       "...                                       ...   \n",
       "1909                             Asielzoekers   \n",
       "1941                          Niet EU-burgers   \n",
       "1949                               marokkanen   \n",
       "1969               Vluchtelingen in Nederland   \n",
       "1993    Eisen om Nederlandse burger te worden   \n",
       "\n",
       "                            MVH_search_im_1_lp  \\\n",
       "1                                 asielzoekers   \n",
       "14                                  immigratie   \n",
       "19    hoeveel mensen vragen asiel aan per jaar   \n",
       "28                                 immigranten   \n",
       "63                                assielzoeker   \n",
       "...                                        ...   \n",
       "1909                                       pvv   \n",
       "1941                               allochtonen   \n",
       "1949                               immigranten   \n",
       "1969                  nieuwkomers in nederland   \n",
       "1993                     immigranten nederland   \n",
       "\n",
       "                      MVH_search_im_2_lp  \\\n",
       "1                             alochtonen   \n",
       "14                         discriminatie   \n",
       "19    waar wonen de minste buitenlanders   \n",
       "28                 discussie immigranten   \n",
       "63                             migranten   \n",
       "...                                  ...   \n",
       "1909                       buitenlanders   \n",
       "1941         emigratie niet nederlanders   \n",
       "1949                 buitenlandse mensen   \n",
       "1969                         immigranten   \n",
       "1993             vluchtelingen nederland   \n",
       "\n",
       "                           MVH_search_im_3_lp  \\\n",
       "1                         asielzoekerscentrum   \n",
       "14                                 uitzetting   \n",
       "19    mag iedereen hier komen wonen en werken   \n",
       "28                  politiek over immigranten   \n",
       "63                           arbeidsmigranten   \n",
       "...                                       ...   \n",
       "1909                             asielzoekers   \n",
       "1941                           niet euburgers   \n",
       "1949                               marokkanen   \n",
       "1969               vluchtelingen in nederland   \n",
       "1993    eisen om nederlandse burger te worden   \n",
       "\n",
       "                         MVH_search_im_1_lp_ex  \\\n",
       "1                                 asielzoekers   \n",
       "14                                  immigratie   \n",
       "19    hoeveel mensen vragen asiel aan per jaar   \n",
       "28                                 immigranten   \n",
       "63                                assielzoeker   \n",
       "...                                        ...   \n",
       "1909                                       pvv   \n",
       "1941                               allochtonen   \n",
       "1949                               immigranten   \n",
       "1969                  nieuwkomers in nederland   \n",
       "1993                     immigranten nederland   \n",
       "\n",
       "                   MVH_search_im_2_lp_ex  \\\n",
       "1                             alochtonen   \n",
       "14                         discriminatie   \n",
       "19    waar wonen de minste buitenlanders   \n",
       "28                 discussie immigranten   \n",
       "63                             migranten   \n",
       "...                                  ...   \n",
       "1909                       buitenlanders   \n",
       "1941              emigratie nederlanders   \n",
       "1949                 buitenlandse mensen   \n",
       "1969                         immigranten   \n",
       "1993             vluchtelingen nederland   \n",
       "\n",
       "                        MVH_search_im_3_lp_ex  ...  STATISTICS  VALID  \\\n",
       "1                         asielzoekerscentrum  ...           0      1   \n",
       "14                                 uitzetting  ...           0      1   \n",
       "19    mag iedereen hier komen wonen en werken  ...           1      1   \n",
       "28                  politiek over immigranten  ...           0      1   \n",
       "63                           arbeidsmigranten  ...           0      1   \n",
       "...                                       ...  ...         ...    ...   \n",
       "1909                             asielzoekers  ...           0      1   \n",
       "1941                                euburgers  ...           0      1   \n",
       "1949                               marokkanen  ...           0      1   \n",
       "1969               vluchtelingen in nederland  ...           0      1   \n",
       "1993    eisen om nederlandse burger te worden  ...           0      1   \n",
       "\n",
       "      total_effective  total_specific  total_topics  total_english  edu_low  \\\n",
       "1                 3.0             1.0             1            0.0        0   \n",
       "14                2.0             2.0             2            0.0        0   \n",
       "19                3.0             3.0             4            0.0        1   \n",
       "28                3.0             2.0             2            0.0        0   \n",
       "63                3.0             1.0             1            0.0        0   \n",
       "...               ...             ...           ...            ...      ...   \n",
       "1909              3.0             1.0             1            0.0        1   \n",
       "1941              3.0             0.0             0            0.0        0   \n",
       "1949              3.0             1.0             0            0.0        0   \n",
       "1969              2.0             0.0             0            0.0        0   \n",
       "1993              3.0             1.0             0            0.0        0   \n",
       "\n",
       "      edu_mid  edu_high  base_gender2  \n",
       "1           1         0             0  \n",
       "14          1         0             0  \n",
       "19          0         0             1  \n",
       "28          1         0             0  \n",
       "63          1         0             0  \n",
       "...       ...       ...           ...  \n",
       "1909        0         0             1  \n",
       "1941        1         0             1  \n",
       "1949        0         1             0  \n",
       "1969        1         0             1  \n",
       "1993        1         0             0  \n",
       "\n",
       "[124 rows x 180 columns]"
      ]
     },
     "execution_count": 60,
     "metadata": {},
     "output_type": "execute_result"
    }
   ],
   "source": [
    "# how many missing?\n",
    "df_miss = df[((df.base_polar.isna())|(df.base_intpol.isna())|(df.base_gender==3))]\n",
    "df_miss"
   ]
  },
  {
   "cell_type": "code",
   "execution_count": 61,
   "metadata": {},
   "outputs": [
    {
     "data": {
      "text/plain": [
       "(124, 180)"
      ]
     },
     "execution_count": 61,
     "metadata": {},
     "output_type": "execute_result"
    }
   ],
   "source": [
    "df_miss.shape"
   ]
  },
  {
   "cell_type": "code",
   "execution_count": 62,
   "metadata": {},
   "outputs": [
    {
     "data": {
      "text/plain": [
       "(1483, 180)"
      ]
     },
     "execution_count": 62,
     "metadata": {},
     "output_type": "execute_result"
    }
   ],
   "source": [
    "# exclude respondents with missing values on key IV\n",
    "#df_reg = df[~((df.Blank==1)|(df.I_do_not_know_yet==1)|(df.I_do_not_want_to_say==1)|\n",
    "#              (df.base_polar.isna())|(df.base_intpol.isna())|(df.base_gender==3))]\n",
    "df_reg = df[~((df.base_polar.isna())|(df.base_intpol.isna())|(df.base_gender==3))]\n",
    "df_reg.shape"
   ]
  },
  {
   "cell_type": "code",
   "execution_count": 63,
   "metadata": {},
   "outputs": [
    {
     "data": {
      "text/plain": [
       "(0.8374546541623229, array([0.823, 0.851]))"
      ]
     },
     "execution_count": 63,
     "metadata": {},
     "output_type": "execute_result"
    }
   ],
   "source": [
    "# cronbach's alpha\n",
    "pg.cronbach_alpha(df[[\"MVH_att_im_1\", \"MVH_att_im_2\", \"MVH_att_im_3\"]])"
   ]
  },
  {
   "cell_type": "code",
   "execution_count": 64,
   "metadata": {},
   "outputs": [
    {
     "name": "stderr",
     "output_type": "stream",
     "text": [
      "<ipython-input-64-f6d025c4afd0>:2: FutureWarning: In future versions `DataFrame.to_latex` is expected to utilise the base implementation of `Styler.to_latex` for formatting and rendering. The arguments signature may therefore change. It is recommended instead to use `DataFrame.style.to_latex` which also contains additional functionality.\n",
      "  des.to_latex(PATH+\"/report/tables/iv_descriptives.tex\")\n"
     ]
    },
    {
     "data": {
      "text/html": [
       "<div>\n",
       "<style scoped>\n",
       "    .dataframe tbody tr th:only-of-type {\n",
       "        vertical-align: middle;\n",
       "    }\n",
       "\n",
       "    .dataframe tbody tr th {\n",
       "        vertical-align: top;\n",
       "    }\n",
       "\n",
       "    .dataframe thead th {\n",
       "        text-align: right;\n",
       "    }\n",
       "</style>\n",
       "<table border=\"1\" class=\"dataframe\">\n",
       "  <thead>\n",
       "    <tr style=\"text-align: right;\">\n",
       "      <th></th>\n",
       "      <th>mean</th>\n",
       "      <th>std</th>\n",
       "      <th>min</th>\n",
       "      <th>max</th>\n",
       "    </tr>\n",
       "  </thead>\n",
       "  <tbody>\n",
       "    <tr>\n",
       "      <th>att_im_mean</th>\n",
       "      <td>4.17</td>\n",
       "      <td>1.51</td>\n",
       "      <td>1.0</td>\n",
       "      <td>7.0</td>\n",
       "    </tr>\n",
       "    <tr>\n",
       "      <th>MVH_att_importance_1</th>\n",
       "      <td>3.31</td>\n",
       "      <td>0.97</td>\n",
       "      <td>1.0</td>\n",
       "      <td>5.0</td>\n",
       "    </tr>\n",
       "    <tr>\n",
       "      <th>base_polar</th>\n",
       "      <td>5.11</td>\n",
       "      <td>2.30</td>\n",
       "      <td>0.0</td>\n",
       "      <td>10.0</td>\n",
       "    </tr>\n",
       "    <tr>\n",
       "      <th>base_intpol</th>\n",
       "      <td>5.42</td>\n",
       "      <td>2.41</td>\n",
       "      <td>0.0</td>\n",
       "      <td>10.0</td>\n",
       "    </tr>\n",
       "    <tr>\n",
       "      <th>base_lft</th>\n",
       "      <td>46.58</td>\n",
       "      <td>14.87</td>\n",
       "      <td>18.0</td>\n",
       "      <td>77.0</td>\n",
       "    </tr>\n",
       "    <tr>\n",
       "      <th>edu_low</th>\n",
       "      <td>0.06</td>\n",
       "      <td>0.25</td>\n",
       "      <td>0.0</td>\n",
       "      <td>1.0</td>\n",
       "    </tr>\n",
       "    <tr>\n",
       "      <th>edu_mid</th>\n",
       "      <td>0.49</td>\n",
       "      <td>0.50</td>\n",
       "      <td>0.0</td>\n",
       "      <td>1.0</td>\n",
       "    </tr>\n",
       "    <tr>\n",
       "      <th>edu_high</th>\n",
       "      <td>0.45</td>\n",
       "      <td>0.50</td>\n",
       "      <td>0.0</td>\n",
       "      <td>1.0</td>\n",
       "    </tr>\n",
       "    <tr>\n",
       "      <th>base_gender2</th>\n",
       "      <td>0.51</td>\n",
       "      <td>0.50</td>\n",
       "      <td>0.0</td>\n",
       "      <td>1.0</td>\n",
       "    </tr>\n",
       "  </tbody>\n",
       "</table>\n",
       "</div>"
      ],
      "text/plain": [
       "                       mean    std   min   max\n",
       "att_im_mean            4.17   1.51   1.0   7.0\n",
       "MVH_att_importance_1   3.31   0.97   1.0   5.0\n",
       "base_polar             5.11   2.30   0.0  10.0\n",
       "base_intpol            5.42   2.41   0.0  10.0\n",
       "base_lft              46.58  14.87  18.0  77.0\n",
       "edu_low                0.06   0.25   0.0   1.0\n",
       "edu_mid                0.49   0.50   0.0   1.0\n",
       "edu_high               0.45   0.50   0.0   1.0\n",
       "base_gender2           0.51   0.50   0.0   1.0"
      ]
     },
     "execution_count": 64,
     "metadata": {},
     "output_type": "execute_result"
    }
   ],
   "source": [
    "des = round(df_reg[iv_con+iv_cat].describe().T[['mean', 'std','min', 'max']],2)\n",
    "des.to_latex(PATH+\"/report/tables/iv_descriptives.tex\")\n",
    "des"
   ]
  },
  {
   "cell_type": "code",
   "execution_count": 65,
   "metadata": {},
   "outputs": [],
   "source": [
    "keep = [c for c in df_reg.columns if not any(z in c for z in (varnames1+varnames2+terms+[\"MVH_search\", 'Comments']))]\n",
    "df_reg = df_reg[keep].copy()"
   ]
  },
  {
   "cell_type": "code",
   "execution_count": 66,
   "metadata": {},
   "outputs": [],
   "source": [
    "### save df for regression analysis in R\n",
    "df_reg.to_csv(PATH+\"/data/immigration/df_reg.csv\", index=False)"
   ]
  }
 ],
 "metadata": {
  "kernelspec": {
   "display_name": "Python 3",
   "language": "python",
   "name": "python3"
  },
  "language_info": {
   "codemirror_mode": {
    "name": "ipython",
    "version": 3
   },
   "file_extension": ".py",
   "mimetype": "text/x-python",
   "name": "python",
   "nbconvert_exporter": "python",
   "pygments_lexer": "ipython3",
   "version": "3.8.2"
  }
 },
 "nbformat": 4,
 "nbformat_minor": 4
}

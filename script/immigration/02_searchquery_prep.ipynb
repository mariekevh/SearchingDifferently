{
 "cells": [
  {
   "cell_type": "markdown",
   "metadata": {},
   "source": [
    "# 02 Search query processing (Immigration)\n",
    "\n",
    "This script processes the ___immigration___ search queries:\n",
    "1. Data cleaning\n",
    "2. Descriptive variables\n",
    "3. Extract terms\n",
    "4. Prepare data for manual coding\n",
    "\n",
    "TO DO: what kind data comes out??"
   ]
  },
  {
   "cell_type": "code",
   "execution_count": 2,
   "metadata": {},
   "outputs": [
    {
     "name": "stderr",
     "output_type": "stream",
     "text": [
      "/Users/marieke/Library/Python/3.8/lib/python/site-packages/fuzzywuzzy/fuzz.py:11: UserWarning: Using slow pure-python SequenceMatcher. Install python-Levenshtein to remove this warning\n",
      "  warnings.warn('Using slow pure-python SequenceMatcher. Install python-Levenshtein to remove this warning')\n"
     ]
    }
   ],
   "source": [
    "import pandas as pd\n",
    "import numpy as np\n",
    "from fuzzywuzzy import fuzz\n",
    "import re\n",
    "from tqdm import tqdm\n",
    "import json\n",
    "import matplotlib.pyplot as plt\n",
    "from collections import Counter\n",
    "from statistics import mean, median\n",
    "import nltk\n",
    "from nltk.corpus import stopwords\n",
    "from datetime import datetime\n",
    "date = datetime.now().strftime('%d%m%Y')"
   ]
  },
  {
   "cell_type": "code",
   "execution_count": 3,
   "metadata": {},
   "outputs": [],
   "source": [
    "#pd.set_option('max_columns', None)\n",
    "#pd.set_option('max_rows', None)"
   ]
  },
  {
   "cell_type": "code",
   "execution_count": 4,
   "metadata": {},
   "outputs": [],
   "source": [
    "#PATH = \"/Users/marieke/surfdrive/Study1/data/\""
   ]
  },
  {
   "cell_type": "code",
   "execution_count": 5,
   "metadata": {},
   "outputs": [],
   "source": [
    "# setting paths\n",
    "PATH = '/Users/marieke/SearchingForBias'"
   ]
  },
  {
   "cell_type": "code",
   "execution_count": 7,
   "metadata": {},
   "outputs": [
    {
     "data": {
      "text/plain": [
       "(1994, 4)"
      ]
     },
     "execution_count": 7,
     "metadata": {},
     "output_type": "execute_result"
    }
   ],
   "source": [
    "# load search query data set\n",
    "df = pd.read_pickle(PATH+\"/data/immigration/01_df_sq.pkl\")\n",
    "df.shape"
   ]
  },
  {
   "cell_type": "code",
   "execution_count": 8,
   "metadata": {},
   "outputs": [],
   "source": [
    "df.set_index('ID', inplace=True)\n",
    "#df.head()"
   ]
  },
  {
   "cell_type": "markdown",
   "metadata": {},
   "source": [
    "### 1. Data cleaning"
   ]
  },
  {
   "cell_type": "code",
   "execution_count": 9,
   "metadata": {},
   "outputs": [],
   "source": [
    "# data cleaning functions\n",
    "def lower_punc(x):\n",
    "    x = re.sub(r'[^\\w\\s]|_', '', x.lower()).strip()\n",
    "    return x\n",
    "\n",
    "EXCLUDE = [\"\", \"geen\", \"nvt\", \"niets\", \"geen idee\", \"niks\", \"weet niet\", \"niet\", \"idem\"]\n",
    "def remove_exclude(x):\n",
    "    x = ' '.join([x for x in x.lower().split() if x not in EXCLUDE])\n",
    "    return x\n",
    "\n",
    "def remove_stopwords(x):\n",
    "    x = [w for w in x.lower() if w not in stopwords.words('dutch')]\n",
    "    return x"
   ]
  },
  {
   "cell_type": "code",
   "execution_count": 10,
   "metadata": {},
   "outputs": [],
   "source": [
    "# lowercase + punctuation removal\n",
    "cols_lp = [str(c)+\"_lp\" for c in df.columns]\n",
    "for old, new in zip(df.columns, cols_lp):\n",
    "    df[new] = df[old].apply(lower_punc)"
   ]
  },
  {
   "cell_type": "code",
   "execution_count": 11,
   "metadata": {},
   "outputs": [],
   "source": [
    "# exclude uninformative words\n",
    "cols_ex = [str(c)+\"_ex\" for c in cols_lp]\n",
    "for old, new in zip(cols_lp, cols_ex):\n",
    "    df[new] = df[old].apply(remove_exclude)"
   ]
  },
  {
   "cell_type": "code",
   "execution_count": 13,
   "metadata": {},
   "outputs": [
    {
     "data": {
      "text/html": [
       "<div>\n",
       "<style scoped>\n",
       "    .dataframe tbody tr th:only-of-type {\n",
       "        vertical-align: middle;\n",
       "    }\n",
       "\n",
       "    .dataframe tbody tr th {\n",
       "        vertical-align: top;\n",
       "    }\n",
       "\n",
       "    .dataframe thead th {\n",
       "        text-align: right;\n",
       "    }\n",
       "</style>\n",
       "<table border=\"1\" class=\"dataframe\">\n",
       "  <thead>\n",
       "    <tr style=\"text-align: right;\">\n",
       "      <th></th>\n",
       "      <th>MVH_search_im_1</th>\n",
       "      <th>MVH_search_im_2</th>\n",
       "      <th>MVH_search_im_3</th>\n",
       "      <th>MVH_search_im_1_lp</th>\n",
       "      <th>MVH_search_im_2_lp</th>\n",
       "      <th>MVH_search_im_3_lp</th>\n",
       "      <th>MVH_search_im_1_lp_ex</th>\n",
       "      <th>MVH_search_im_2_lp_ex</th>\n",
       "      <th>MVH_search_im_3_lp_ex</th>\n",
       "    </tr>\n",
       "    <tr>\n",
       "      <th>ID</th>\n",
       "      <th></th>\n",
       "      <th></th>\n",
       "      <th></th>\n",
       "      <th></th>\n",
       "      <th></th>\n",
       "      <th></th>\n",
       "      <th></th>\n",
       "      <th></th>\n",
       "      <th></th>\n",
       "    </tr>\n",
       "  </thead>\n",
       "  <tbody>\n",
       "    <tr>\n",
       "      <th>1</th>\n",
       "      <td>data criminaliteit allochtonen</td>\n",
       "      <td>immigratie data</td>\n",
       "      <td>criminaliteit demografie</td>\n",
       "      <td>data criminaliteit allochtonen</td>\n",
       "      <td>immigratie data</td>\n",
       "      <td>criminaliteit demografie</td>\n",
       "      <td>data criminaliteit allochtonen</td>\n",
       "      <td>immigratie data</td>\n",
       "      <td>criminaliteit demografie</td>\n",
       "    </tr>\n",
       "    <tr>\n",
       "      <th>2</th>\n",
       "      <td>asielzoekers</td>\n",
       "      <td>alochtonen</td>\n",
       "      <td>asielzoekerscentrum</td>\n",
       "      <td>asielzoekers</td>\n",
       "      <td>alochtonen</td>\n",
       "      <td>asielzoekerscentrum</td>\n",
       "      <td>asielzoekers</td>\n",
       "      <td>alochtonen</td>\n",
       "      <td>asielzoekerscentrum</td>\n",
       "    </tr>\n",
       "    <tr>\n",
       "      <th>3</th>\n",
       "      <td>Immigranten in Nederland laatste 5 jaar CBS</td>\n",
       "      <td>Reden van vluchten immigranten</td>\n",
       "      <td>Refugees in Europe</td>\n",
       "      <td>immigranten in nederland laatste 5 jaar cbs</td>\n",
       "      <td>reden van vluchten immigranten</td>\n",
       "      <td>refugees in europe</td>\n",
       "      <td>immigranten in nederland laatste 5 jaar cbs</td>\n",
       "      <td>reden van vluchten immigranten</td>\n",
       "      <td>refugees in europe</td>\n",
       "    </tr>\n",
       "    <tr>\n",
       "      <th>4</th>\n",
       "      <td>Geen</td>\n",
       "      <td>Geen</td>\n",
       "      <td>Geen</td>\n",
       "      <td>geen</td>\n",
       "      <td>geen</td>\n",
       "      <td>geen</td>\n",
       "      <td></td>\n",
       "      <td></td>\n",
       "      <td></td>\n",
       "    </tr>\n",
       "    <tr>\n",
       "      <th>5</th>\n",
       "      <td>reintegratie vluchtelingen</td>\n",
       "      <td>asielzoekers Nederland</td>\n",
       "      <td>vluchtelingen</td>\n",
       "      <td>reintegratie vluchtelingen</td>\n",
       "      <td>asielzoekers nederland</td>\n",
       "      <td>vluchtelingen</td>\n",
       "      <td>reintegratie vluchtelingen</td>\n",
       "      <td>asielzoekers nederland</td>\n",
       "      <td>vluchtelingen</td>\n",
       "    </tr>\n",
       "  </tbody>\n",
       "</table>\n",
       "</div>"
      ],
      "text/plain": [
       "                                MVH_search_im_1  \\\n",
       "ID                                                \n",
       "1                data criminaliteit allochtonen   \n",
       "2                                  asielzoekers   \n",
       "3   Immigranten in Nederland laatste 5 jaar CBS   \n",
       "4                                          Geen   \n",
       "5                    reintegratie vluchtelingen   \n",
       "\n",
       "                   MVH_search_im_2           MVH_search_im_3  \\\n",
       "ID                                                             \n",
       "1                  immigratie data  criminaliteit demografie   \n",
       "2                       alochtonen       asielzoekerscentrum   \n",
       "3   Reden van vluchten immigranten        Refugees in Europe   \n",
       "4                             Geen                      Geen   \n",
       "5           asielzoekers Nederland             vluchtelingen   \n",
       "\n",
       "                             MVH_search_im_1_lp  \\\n",
       "ID                                                \n",
       "1                data criminaliteit allochtonen   \n",
       "2                                  asielzoekers   \n",
       "3   immigranten in nederland laatste 5 jaar cbs   \n",
       "4                                          geen   \n",
       "5                    reintegratie vluchtelingen   \n",
       "\n",
       "                MVH_search_im_2_lp        MVH_search_im_3_lp  \\\n",
       "ID                                                             \n",
       "1                  immigratie data  criminaliteit demografie   \n",
       "2                       alochtonen       asielzoekerscentrum   \n",
       "3   reden van vluchten immigranten        refugees in europe   \n",
       "4                             geen                      geen   \n",
       "5           asielzoekers nederland             vluchtelingen   \n",
       "\n",
       "                          MVH_search_im_1_lp_ex  \\\n",
       "ID                                                \n",
       "1                data criminaliteit allochtonen   \n",
       "2                                  asielzoekers   \n",
       "3   immigranten in nederland laatste 5 jaar cbs   \n",
       "4                                                 \n",
       "5                    reintegratie vluchtelingen   \n",
       "\n",
       "             MVH_search_im_2_lp_ex     MVH_search_im_3_lp_ex  \n",
       "ID                                                            \n",
       "1                  immigratie data  criminaliteit demografie  \n",
       "2                       alochtonen       asielzoekerscentrum  \n",
       "3   reden van vluchten immigranten        refugees in europe  \n",
       "4                                                             \n",
       "5           asielzoekers nederland             vluchtelingen  "
      ]
     },
     "execution_count": 13,
     "metadata": {},
     "output_type": "execute_result"
    }
   ],
   "source": [
    "df.head()"
   ]
  },
  {
   "cell_type": "markdown",
   "metadata": {},
   "source": [
    "### 2. Descriptive variables"
   ]
  },
  {
   "cell_type": "code",
   "execution_count": 14,
   "metadata": {},
   "outputs": [],
   "source": [
    "def get_nwords(x):\n",
    "    count = len(x.split())\n",
    "    return count\n",
    "\n",
    "def get_length(x):\n",
    "    count = len(x)\n",
    "    return count"
   ]
  },
  {
   "cell_type": "code",
   "execution_count": 15,
   "metadata": {},
   "outputs": [],
   "source": [
    "# number of words\n",
    "c_nwords = []\n",
    "for c in cols_lp:\n",
    "    name = str(c)+\"_nwords\"\n",
    "    df[name] = df[c].apply(get_nwords)\n",
    "    c_nwords.append(name)\n",
    "    \n",
    "df['im_nwords_min'] = df[c_nwords].min(axis=1)\n",
    "df['im_nwords_max'] = df[c_nwords].max(axis=1)\n",
    "df['im_nwords_mean'] = df[c_nwords].mean(axis=1)"
   ]
  },
  {
   "cell_type": "code",
   "execution_count": 16,
   "metadata": {},
   "outputs": [
    {
     "data": {
      "text/html": [
       "<div>\n",
       "<style scoped>\n",
       "    .dataframe tbody tr th:only-of-type {\n",
       "        vertical-align: middle;\n",
       "    }\n",
       "\n",
       "    .dataframe tbody tr th {\n",
       "        vertical-align: top;\n",
       "    }\n",
       "\n",
       "    .dataframe thead th {\n",
       "        text-align: right;\n",
       "    }\n",
       "</style>\n",
       "<table border=\"1\" class=\"dataframe\">\n",
       "  <thead>\n",
       "    <tr style=\"text-align: right;\">\n",
       "      <th></th>\n",
       "      <th>MVH_search_im_1_lp_nwords</th>\n",
       "      <th>MVH_search_im_2_lp_nwords</th>\n",
       "      <th>MVH_search_im_3_lp_nwords</th>\n",
       "      <th>im_nwords_min</th>\n",
       "      <th>im_nwords_max</th>\n",
       "      <th>im_nwords_mean</th>\n",
       "    </tr>\n",
       "    <tr>\n",
       "      <th>ID</th>\n",
       "      <th></th>\n",
       "      <th></th>\n",
       "      <th></th>\n",
       "      <th></th>\n",
       "      <th></th>\n",
       "      <th></th>\n",
       "    </tr>\n",
       "  </thead>\n",
       "  <tbody>\n",
       "    <tr>\n",
       "      <th>1</th>\n",
       "      <td>3</td>\n",
       "      <td>2</td>\n",
       "      <td>2</td>\n",
       "      <td>2</td>\n",
       "      <td>3</td>\n",
       "      <td>2.333333</td>\n",
       "    </tr>\n",
       "    <tr>\n",
       "      <th>2</th>\n",
       "      <td>1</td>\n",
       "      <td>1</td>\n",
       "      <td>1</td>\n",
       "      <td>1</td>\n",
       "      <td>1</td>\n",
       "      <td>1.000000</td>\n",
       "    </tr>\n",
       "    <tr>\n",
       "      <th>3</th>\n",
       "      <td>7</td>\n",
       "      <td>4</td>\n",
       "      <td>3</td>\n",
       "      <td>3</td>\n",
       "      <td>7</td>\n",
       "      <td>4.666667</td>\n",
       "    </tr>\n",
       "    <tr>\n",
       "      <th>4</th>\n",
       "      <td>1</td>\n",
       "      <td>1</td>\n",
       "      <td>1</td>\n",
       "      <td>1</td>\n",
       "      <td>1</td>\n",
       "      <td>1.000000</td>\n",
       "    </tr>\n",
       "    <tr>\n",
       "      <th>5</th>\n",
       "      <td>2</td>\n",
       "      <td>2</td>\n",
       "      <td>1</td>\n",
       "      <td>1</td>\n",
       "      <td>2</td>\n",
       "      <td>1.666667</td>\n",
       "    </tr>\n",
       "  </tbody>\n",
       "</table>\n",
       "</div>"
      ],
      "text/plain": [
       "    MVH_search_im_1_lp_nwords  MVH_search_im_2_lp_nwords  \\\n",
       "ID                                                         \n",
       "1                           3                          2   \n",
       "2                           1                          1   \n",
       "3                           7                          4   \n",
       "4                           1                          1   \n",
       "5                           2                          2   \n",
       "\n",
       "    MVH_search_im_3_lp_nwords  im_nwords_min  im_nwords_max  im_nwords_mean  \n",
       "ID                                                                           \n",
       "1                           2              2              3        2.333333  \n",
       "2                           1              1              1        1.000000  \n",
       "3                           3              3              7        4.666667  \n",
       "4                           1              1              1        1.000000  \n",
       "5                           1              1              2        1.666667  "
      ]
     },
     "execution_count": 16,
     "metadata": {},
     "output_type": "execute_result"
    }
   ],
   "source": [
    "df[c_nwords+['im_nwords_min', 'im_nwords_max', 'im_nwords_mean']].head()"
   ]
  },
  {
   "cell_type": "code",
   "execution_count": 17,
   "metadata": {},
   "outputs": [],
   "source": [
    "# length of search query\n",
    "c_len = []\n",
    "for c in cols_lp:\n",
    "    name = str(c)+\"_len\"\n",
    "    df[name] = df[c].apply(get_length)\n",
    "    c_len.append(name)\n",
    "    \n",
    "df['im_len_min'] = df[c_len].min(axis=1)\n",
    "df['im_len_max'] = df[c_len].max(axis=1)\n",
    "df['im_len_mean'] = df[c_len].mean(axis=1)"
   ]
  },
  {
   "cell_type": "code",
   "execution_count": 18,
   "metadata": {},
   "outputs": [
    {
     "data": {
      "text/html": [
       "<div>\n",
       "<style scoped>\n",
       "    .dataframe tbody tr th:only-of-type {\n",
       "        vertical-align: middle;\n",
       "    }\n",
       "\n",
       "    .dataframe tbody tr th {\n",
       "        vertical-align: top;\n",
       "    }\n",
       "\n",
       "    .dataframe thead th {\n",
       "        text-align: right;\n",
       "    }\n",
       "</style>\n",
       "<table border=\"1\" class=\"dataframe\">\n",
       "  <thead>\n",
       "    <tr style=\"text-align: right;\">\n",
       "      <th></th>\n",
       "      <th>MVH_search_im_1_lp_len</th>\n",
       "      <th>MVH_search_im_2_lp_len</th>\n",
       "      <th>MVH_search_im_3_lp_len</th>\n",
       "      <th>im_len_min</th>\n",
       "      <th>im_len_max</th>\n",
       "      <th>im_len_mean</th>\n",
       "    </tr>\n",
       "    <tr>\n",
       "      <th>ID</th>\n",
       "      <th></th>\n",
       "      <th></th>\n",
       "      <th></th>\n",
       "      <th></th>\n",
       "      <th></th>\n",
       "      <th></th>\n",
       "    </tr>\n",
       "  </thead>\n",
       "  <tbody>\n",
       "    <tr>\n",
       "      <th>1</th>\n",
       "      <td>30</td>\n",
       "      <td>15</td>\n",
       "      <td>24</td>\n",
       "      <td>15</td>\n",
       "      <td>30</td>\n",
       "      <td>23.000000</td>\n",
       "    </tr>\n",
       "    <tr>\n",
       "      <th>2</th>\n",
       "      <td>12</td>\n",
       "      <td>10</td>\n",
       "      <td>19</td>\n",
       "      <td>10</td>\n",
       "      <td>19</td>\n",
       "      <td>13.666667</td>\n",
       "    </tr>\n",
       "    <tr>\n",
       "      <th>3</th>\n",
       "      <td>43</td>\n",
       "      <td>30</td>\n",
       "      <td>18</td>\n",
       "      <td>18</td>\n",
       "      <td>43</td>\n",
       "      <td>30.333333</td>\n",
       "    </tr>\n",
       "    <tr>\n",
       "      <th>4</th>\n",
       "      <td>4</td>\n",
       "      <td>4</td>\n",
       "      <td>4</td>\n",
       "      <td>4</td>\n",
       "      <td>4</td>\n",
       "      <td>4.000000</td>\n",
       "    </tr>\n",
       "    <tr>\n",
       "      <th>5</th>\n",
       "      <td>26</td>\n",
       "      <td>22</td>\n",
       "      <td>13</td>\n",
       "      <td>13</td>\n",
       "      <td>26</td>\n",
       "      <td>20.333333</td>\n",
       "    </tr>\n",
       "  </tbody>\n",
       "</table>\n",
       "</div>"
      ],
      "text/plain": [
       "    MVH_search_im_1_lp_len  MVH_search_im_2_lp_len  MVH_search_im_3_lp_len  \\\n",
       "ID                                                                           \n",
       "1                       30                      15                      24   \n",
       "2                       12                      10                      19   \n",
       "3                       43                      30                      18   \n",
       "4                        4                       4                       4   \n",
       "5                       26                      22                      13   \n",
       "\n",
       "    im_len_min  im_len_max  im_len_mean  \n",
       "ID                                       \n",
       "1           15          30    23.000000  \n",
       "2           10          19    13.666667  \n",
       "3           18          43    30.333333  \n",
       "4            4           4     4.000000  \n",
       "5           13          26    20.333333  "
      ]
     },
     "execution_count": 18,
     "metadata": {},
     "output_type": "execute_result"
    }
   ],
   "source": [
    "df[c_len+['im_len_min', \"im_len_max\", \"im_len_mean\"]].head()"
   ]
  },
  {
   "cell_type": "code",
   "execution_count": 19,
   "metadata": {},
   "outputs": [],
   "source": [
    "#df['im_nwords_mean'].describe()"
   ]
  },
  {
   "cell_type": "markdown",
   "metadata": {},
   "source": [
    "### 3. EXTRACT TERMS"
   ]
  },
  {
   "cell_type": "code",
   "execution_count": 29,
   "metadata": {},
   "outputs": [],
   "source": [
    "# terms to be extracted\n",
    "terms = ['immigrant', 'buitenlander', 'gelukszoeker', 'statushouder', 'allochtoon', 'vluchteling', 'expat', 'asielzoeker']"
   ]
  },
  {
   "cell_type": "code",
   "execution_count": 30,
   "metadata": {},
   "outputs": [],
   "source": [
    "all_sq = [item for sublist in df[cols_lp].values.tolist() for item in sublist]\n",
    "u_sq = set(all_sq)\n",
    "all_words = [item for sublist in all_sq for item in sublist.split()]\n",
    "u_words = set(all_words)"
   ]
  },
  {
   "cell_type": "code",
   "execution_count": 31,
   "metadata": {
    "scrolled": true
   },
   "outputs": [
    {
     "data": {
      "text/plain": [
       "5982"
      ]
     },
     "execution_count": 31,
     "metadata": {},
     "output_type": "execute_result"
    }
   ],
   "source": [
    "# how many search queries total?\n",
    "len(all_sq)"
   ]
  },
  {
   "cell_type": "code",
   "execution_count": 32,
   "metadata": {},
   "outputs": [],
   "source": [
    "# To inform term dictionary with similar words --> all words with similarity >=80\n",
    "sim_dict = {}\n",
    "for t in terms:\n",
    "    lst = [w for w in u_words if fuzz.token_sort_ratio(t, w)>=80]\n",
    "    sim_dict.update({t:lst})"
   ]
  },
  {
   "cell_type": "code",
   "execution_count": 33,
   "metadata": {},
   "outputs": [
    {
     "name": "stdout",
     "output_type": "stream",
     "text": [
      "immigrant ['migrante', 'immigraten', 'immmigratie', 'immigrant', 'migrants', 'immigratie', 'immigranten', 'immigrattue', 'immigratis', 'inmmigratie', 'immigrante', 'imigranten', 'immigrantem', 'immigrants', 'immigraite', 'immigtanten', 'migrant', 'immigration']\n",
      "buitenlander ['buitenlandse', 'buitenlanderd', 'buitenlnders', 'nuitenlandets', 'buitenlanders', 'buiytenland', 'buitelands', 'buitelanders', 'buitenlanďers', 'buitelanderse', 'buitenlander', 'buitenlands', 'buitenland', 'buitenanders']\n",
      "gelukszoeker ['gelukzoekers', 'gelukszoekers', 'gelukszoekertjes', 'gelukzoelers']\n",
      "statushouder ['statushouderd', 'statushouder', 'statushouders']\n",
      "allochtoon ['autochtoon', 'allochtone', 'alochtonen', 'alloctonen', 'allochtonen', 'alochtoon', 'allochtoon']\n",
      "vluchteling ['vluchteljngen', 'nepvluchtelingen', 'vluchten', 'vluvhteling', 'vlichtelingen', 'vluchteling', 'vluchtelinhen', 'vluchteingen', 'vluchtelinge', 'bootvluchteling', 'vluchtlingen', 'vluvhtelingen', 'vluchtenlingen', 'vluchtelingen', 'vluchtelngen', 'vluchtingen']\n",
      "expat ['expat', 'expats']\n",
      "asielzoeker ['asielzoeker', 'azilzoekers', 'asiezoeker', 'asielzo9eker', 'azielzoeker', 'asiepzoeker', 'asielzoekers', 'asielziekers', 'asielzoekcentra', 'assielzoekers', 'azielzoekers', 'asielxoekers', 'assielzoeker']\n"
     ]
    }
   ],
   "source": [
    "for k, v in sim_dict.items():\n",
    "    print(k, v)"
   ]
  },
  {
   "cell_type": "code",
   "execution_count": 34,
   "metadata": {},
   "outputs": [],
   "source": [
    "# Nearly all words (excluding words that do not refer to a person, e.g.\"buitenland\", \"immigratie\", etc.)\n",
    "term_dict = {\"immigrant\":['migrants','immigtanten','migrante','immigraten','immigrant','immigrante','immigrantem',\n",
    "                          'imigranten','immigrants','migrant','immigranten'],\n",
    "             \"buitenlander\":['buitenlanďers','buitenlanderd','buitelanders','buitenlnders','buitenlander','buiytenland', \n",
    "                             'buitenanders','buitenlanders'],\n",
    "             \"gelukszoeker\":['gelukszoekertjes','gelukszoekers','gelukzoelers','gelukzoekers'],\n",
    "             \"statushouder\":['statushouderd', 'statushouder', 'statushouders'],\n",
    "             \"allochtoon\":['allochtone','alochtonen','allochtoon','allochtonen','alochtoon', 'alloctonen'],\n",
    "             \"vluchteling\":['vluvhteling','bootvluchteling','vluchtlingen','vluchtelngen','vluchtingen','vluchtelinge',\n",
    "                            'vluchtenlingen','vluchtelinhen','vluchteljngen','vlichtelingen','vluchteingen','nepvluchtelingen',\n",
    "                            'vluchteling','vluvhtelingen','vluchtelingen'],\n",
    "             \"expat\":['expats', 'expat']\n",
    "            }\n",
    "\n",
    "#special treatment for asielzoeker to exclude asielzoekerscentrum\n",
    "asielzoeker = ['asielzoeker', 'asielzoekers', 'assielzoeker', 'asielzo9eker', 'azilzoekers', 'assielzoekers',\n",
    "               'asielxoekers', 'asiezoeker', 'asielziekers', 'asiepzoeker', 'azielzoekers', 'azielzoeker', 'asiel zoeker']"
   ]
  },
  {
   "cell_type": "code",
   "execution_count": 35,
   "metadata": {},
   "outputs": [],
   "source": [
    "df['total'] = df['MVH_search_im_1_lp']+\" \"+df['MVH_search_im_2_lp']+\" \"+df['MVH_search_im_3_lp']\n",
    "total = df['total'].values.tolist()"
   ]
  },
  {
   "cell_type": "code",
   "execution_count": 36,
   "metadata": {},
   "outputs": [
    {
     "name": "stdout",
     "output_type": "stream",
     "text": [
      "migrants|immigtanten|migrante|immigraten|immigrant|immigrante|immigrantem|imigranten|immigrants|migrant|immigranten\n",
      "buitenlanďers|buitenlanderd|buitelanders|buitenlnders|buitenlander|buiytenland|buitenanders|buitenlanders\n",
      "gelukszoekertjes|gelukszoekers|gelukzoelers|gelukzoekers\n",
      "statushouderd|statushouder|statushouders\n",
      "allochtone|alochtonen|allochtoon|allochtonen|alochtoon|alloctonen\n",
      "vluvhteling|bootvluchteling|vluchtlingen|vluchtelngen|vluchtingen|vluchtelinge|vluchtenlingen|vluchtelinhen|vluchteljngen|vlichtelingen|vluchteingen|nepvluchtelingen|vluchteling|vluvhtelingen|vluchtelingen\n",
      "expats|expat\n"
     ]
    }
   ],
   "source": [
    "# find words in search queries\n",
    "for k, v in term_dict.items():\n",
    "    pattern = \"|\".join(v)\n",
    "    print(pattern)\n",
    "    df[k] = df['total'].str.contains(pattern, regex=True).astype(int)"
   ]
  },
  {
   "cell_type": "code",
   "execution_count": 37,
   "metadata": {},
   "outputs": [
    {
     "name": "stdout",
     "output_type": "stream",
     "text": [
      "asielzoeker\\b|asielzoekers\\b|assielzoeker\\b|asielzo9eker\\b|azilzoekers\\b|assielzoekers\\b|asielxoekers\\b|asiezoeker\\b|asielziekers\\b|asiepzoeker\\b|azielzoekers\\b|azielzoeker\\b|asiel zoeker\\b\n"
     ]
    }
   ],
   "source": [
    "pattern2 = \"|\".join([str(s)+r\"\\b\" for s in asielzoeker])\n",
    "print(pattern2)\n",
    "df['asielzoeker'] = df['total'].str.contains(pattern2, regex=True).astype(int)"
   ]
  },
  {
   "cell_type": "code",
   "execution_count": 38,
   "metadata": {},
   "outputs": [],
   "source": [
    "# check\n",
    "#df[['total']+terms].head(10)"
   ]
  },
  {
   "cell_type": "code",
   "execution_count": 39,
   "metadata": {},
   "outputs": [
    {
     "name": "stdout",
     "output_type": "stream",
     "text": [
      "migrants|immigtanten|migrante|immigraten|immigrant|immigrante|immigrantem|imigranten|immigrants|migrant|immigranten\n",
      "buitenlanďers|buitenlanderd|buitelanders|buitenlnders|buitenlander|buiytenland|buitenanders|buitenlanders\n",
      "gelukszoekertjes|gelukszoekers|gelukzoelers|gelukzoekers\n",
      "statushouderd|statushouder|statushouders\n",
      "allochtone|alochtonen|allochtoon|allochtonen|alochtoon|alloctonen\n",
      "vluvhteling|bootvluchteling|vluchtlingen|vluchtelngen|vluchtingen|vluchtelinge|vluchtenlingen|vluchtelinhen|vluchteljngen|vlichtelingen|vluchteingen|nepvluchtelingen|vluchteling|vluvhtelingen|vluchtelingen\n",
      "expats|expat\n"
     ]
    }
   ],
   "source": [
    "# first query only\n",
    "for k, v in term_dict.items():\n",
    "    pattern = \"|\".join(v)\n",
    "    #print(pattern)\n",
    "    new = k+\"_1\"\n",
    "    df[new] = df['MVH_search_im_1_lp'].str.contains(pattern, regex=True).astype(int)\n",
    "#asielzoeker\n",
    "df['asielzoeker_1'] = df['MVH_search_im_1_lp'].str.contains(pattern2, regex=True).astype(int)"
   ]
  },
  {
   "cell_type": "code",
   "execution_count": 40,
   "metadata": {},
   "outputs": [
    {
     "name": "stdout",
     "output_type": "stream",
     "text": [
      "migrants|immigtanten|migrante|immigraten|immigrant|immigrante|immigrantem|imigranten|immigrants|migrant|immigranten\n",
      "buitenlanďers|buitenlanderd|buitelanders|buitenlnders|buitenlander|buiytenland|buitenanders|buitenlanders\n",
      "gelukszoekertjes|gelukszoekers|gelukzoelers|gelukzoekers\n",
      "statushouderd|statushouder|statushouders\n",
      "allochtone|alochtonen|allochtoon|allochtonen|alochtoon|alloctonen\n",
      "vluvhteling|bootvluchteling|vluchtlingen|vluchtelngen|vluchtingen|vluchtelinge|vluchtenlingen|vluchtelinhen|vluchteljngen|vlichtelingen|vluchteingen|nepvluchtelingen|vluchteling|vluvhtelingen|vluchtelingen\n",
      "expats|expat\n"
     ]
    }
   ],
   "source": [
    "# third query only\n",
    "for k, v in term_dict.items():\n",
    "    pattern = \"|\".join(v)\n",
    "    #print(pattern)\n",
    "    new = k+\"_3\"\n",
    "    df[new] = df['MVH_search_im_3_lp'].str.contains(pattern, regex=True).astype(int)\n",
    "#asielzoeker\n",
    "df['asielzoeker_3'] = df['MVH_search_im_3_lp'].str.contains(pattern2, regex=True).astype(int)"
   ]
  },
  {
   "cell_type": "code",
   "execution_count": 41,
   "metadata": {},
   "outputs": [],
   "source": [
    "# checks\n",
    "#df[['MVH_search_im_3_lp']+[c+\"_3\" for c in term_dict.keys()]]\n",
    "#df[['MVH_search_im_1_lp']+[c+\"_1\" for c in term_dict.keys()]]"
   ]
  },
  {
   "cell_type": "code",
   "execution_count": 43,
   "metadata": {},
   "outputs": [],
   "source": [
    "# save new variables.\n",
    "df.to_pickle(PATH+'/data/immigration/02_df_sq_vars.pkl')"
   ]
  },
  {
   "cell_type": "markdown",
   "metadata": {},
   "source": [
    "### 4. Manual annotation prep\n",
    "- Make list of unique search queries to annotate, export as csv\n",
    "- Make list of matches for reference"
   ]
  },
  {
   "cell_type": "code",
   "execution_count": 44,
   "metadata": {},
   "outputs": [],
   "source": [
    "def fuzzy_matching(sq_list, threshold=100): \n",
    "    '''Takes a list of words. Fuzzy matches search queries\n",
    "    (fuzz.token_sort_ratio) with similarity above treshold (default=100) and creates (a) a list of \n",
    "    unique search queries and (b) a dict including the search query matches (key = search query in annotation list, \n",
    "    values = matches not included in list)'''\n",
    "    \n",
    "    # Note. This method is considerably slow when using python default SequenceMatcher.\n",
    "    # Install python-Levenshtein to speed things up (though install issues on macs). \n",
    "    \n",
    "    sq_list = [w for w in set(sq_list) if w not in EXCLUDE]\n",
    "    \n",
    "    to_annotate = sq_list.copy()\n",
    "    keys=[]\n",
    "    vals=[]\n",
    "    for i, element in enumerate(tqdm(sq_list)):\n",
    "        if not any(element in sublist for sublist in vals):\n",
    "            v_list = []\n",
    "            for choice in sq_list[i+1:]:\n",
    "                if fuzz.token_sort_ratio(element, choice)>=threshold:\n",
    "                    v_list.append(choice)\n",
    "      \n",
    "            if v_list:\n",
    "                vals.append(v_list)\n",
    "                keys.append(element)\n",
    "    lookup = dict(zip(keys,vals))\n",
    "    \n",
    "    remove = [x for v in lookup.values() for x in v]\n",
    "    to_annotate = [x for x in to_annotate if x not in remove]\n",
    "    \n",
    "    print('Number of unique search queries to annotate:', len(to_annotate),\n",
    "         '\\nNumber of doubles removed:', len(remove))\n",
    "    return to_annotate, lookup"
   ]
  },
  {
   "cell_type": "code",
   "execution_count": 45,
   "metadata": {},
   "outputs": [
    {
     "name": "stderr",
     "output_type": "stream",
     "text": [
      "100%|██████████| 2802/2802 [06:35<00:00,  7.08it/s] "
     ]
    },
    {
     "name": "stdout",
     "output_type": "stream",
     "text": [
      "Number of unique search queries to annotate: 2743 \n",
      "Number of doubles removed: 59\n"
     ]
    },
    {
     "name": "stderr",
     "output_type": "stream",
     "text": [
      "\n"
     ]
    }
   ],
   "source": [
    "unique, matches = fuzzy_matching(list(u_sq))"
   ]
  },
  {
   "cell_type": "code",
   "execution_count": 46,
   "metadata": {},
   "outputs": [],
   "source": [
    "# save to csv\n",
    "pd.DataFrame(unique, columns=[\"search query\"]).to_csv(PATH+f'/data/immigration/manual_coding/sq_to_annotate_{date}.csv', sep=\";\", index=False)"
   ]
  },
  {
   "cell_type": "code",
   "execution_count": 47,
   "metadata": {},
   "outputs": [],
   "source": [
    "#store matches\n",
    "with open(PATH+f'/data/immigration/manual_coding/sq_matches_{date}.txt', 'w') as outfile:\n",
    "    json.dump(matches, outfile)"
   ]
  },
  {
   "cell_type": "code",
   "execution_count": 48,
   "metadata": {},
   "outputs": [
    {
     "data": {
      "text/plain": [
       "{'immigratie regels': ['regels immigratie'],\n",
       " 'nederland integratie': ['integratie nederland'],\n",
       " 'nieuws immigranten': ['immigranten nieuws'],\n",
       " 'immigratie nederland': ['nederland immigratie'],\n",
       " 'immigranten criminaliteit': ['immigranten  criminaliteit'],\n",
       " 'buitenlanders  nederland': ['buitenlanders nederland'],\n",
       " 'ind beleid': ['beleid ind'],\n",
       " 'verhuizen naar nederlands': ['naar nederlands verhuizen'],\n",
       " 'cijfers migratie nederland': ['migratie cijfers nederland'],\n",
       " 'nieuws immigratie nederland': ['immigratie nederland nieuws'],\n",
       " 'asielzoekers aantallen': ['aantallen asielzoekers'],\n",
       " 'herkomst immigranten': ['immigranten herkomst'],\n",
       " 'europa immigratie': ['immigratie europa'],\n",
       " 'immigratie beleid': ['beleid immigratie'],\n",
       " 'verblijfsvergunning aanvragen': ['aanvragen verblijfsvergunning'],\n",
       " 'vluchtelingen  nederland': ['vluchtelingen nederland',\n",
       "  'nederland vluchtelingen'],\n",
       " 'migratie cbs': ['cbs migratie'],\n",
       " 'cijfers migratie': ['migratie cijfers'],\n",
       " 'regels immigranten': ['immigranten regels'],\n",
       " 'discussie immigratie': ['immigratie discussie'],\n",
       " 'asiel nederland': ['nederland asiel'],\n",
       " 'statistieken immigratie': ['immigratie statistieken'],\n",
       " 'azc nederland': ['nederland azc'],\n",
       " 'aantallen migranten': ['migranten aantallen'],\n",
       " 'is nederland vol': ['nederland is vol'],\n",
       " 'beleid asielzoekers': ['asielzoekers beleid'],\n",
       " 'herkomst immigranten nederland': ['immigranten nederland herkomst'],\n",
       " 'huisvesting asielzoekers': ['asielzoekers huisvesting'],\n",
       " 'aantal vluchtelingen': ['vluchtelingen aantal'],\n",
       " 'overlast asielzoekers': ['asielzoekers overlast'],\n",
       " 'migranten discussie': ['discussie migranten'],\n",
       " 'immigratie en politiek': ['politiek en immigratie'],\n",
       " 'immigranten integratie': ['integratie immigranten'],\n",
       " 'immigratie cijfers nederland': ['cijfers immigratie nederland'],\n",
       " 'waar komen immigranten vandaan': ['waar vandaan komen immigranten'],\n",
       " 'cijfers vluchtelingen': ['vluchtelingen cijfers'],\n",
       " 'migratie nederland': ['nederland migratie'],\n",
       " 'aantal asielzoekers': ['asielzoekers aantal'],\n",
       " 'immigranten beleid': ['beleid immigranten'],\n",
       " 'hoeveel buitenlanders in nederland wonen': ['hoeveel buitenlanders wonen in nederland'],\n",
       " 'vluchtelingen opvang': ['opvang vluchtelingen'],\n",
       " 'immigratie cijfers': ['cijfers immigratie'],\n",
       " 'in nederland wonen': ['wonen in nederland'],\n",
       " 'immigranten overlast': ['overlast immigranten'],\n",
       " 'vluchtelingen oorzaak': ['oorzaak vluchtelingen'],\n",
       " 'immigratie problemen': ['problemen immigratie'],\n",
       " 'immigratie standpunten politieke partijen': ['standpunten immigratie politieke partijen'],\n",
       " 'politiek immigratie': ['immigratie politiek'],\n",
       " 'asielzoekers veilige landen beleid': ['beleid asielzoekers veilige landen'],\n",
       " 'centrum asielzoekers': ['asielzoekers centrum'],\n",
       " 'beleid vluchtelingen': ['vluchtelingen beleid'],\n",
       " 'wetgeving immigratie': ['immigratie wetgeving'],\n",
       " 'nieuws immigratie': ['immigratie nieuws'],\n",
       " 'immigranten nederland': ['nederland immigranten', 'immigranten  nederland'],\n",
       " 'buitenlanders discussie': ['discussie buitenlanders'],\n",
       " 'asielzoekers herkomst': ['herkomst asielzoekers'],\n",
       " 'immigranten nederland hoeveel': ['hoeveel immigranten nederland']}"
      ]
     },
     "execution_count": 48,
     "metadata": {},
     "output_type": "execute_result"
    }
   ],
   "source": [
    "matches"
   ]
  }
 ],
 "metadata": {
  "kernelspec": {
   "display_name": "Python 3",
   "language": "python",
   "name": "python3"
  },
  "language_info": {
   "codemirror_mode": {
    "name": "ipython",
    "version": 3
   },
   "file_extension": ".py",
   "mimetype": "text/x-python",
   "name": "python",
   "nbconvert_exporter": "python",
   "pygments_lexer": "ipython3",
   "version": "3.8.2"
  }
 },
 "nbformat": 4,
 "nbformat_minor": 4
}

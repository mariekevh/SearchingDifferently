{
 "cells": [
  {
   "cell_type": "markdown",
   "metadata": {},
   "source": [
    "# 01 Data processing (Immigration)\n",
    "Two dataframes are prepared:\n",
    "- df_bg contains all background characteristics used for regression analysis\n",
    "- df_sq contains the ___immigration___ search query columns for further data prep in 02_query_processing\n",
    "\n",
    "Original dataset available at OSF: https://osf.io/yu64r/"
   ]
  },
  {
   "cell_type": "code",
   "execution_count": 1,
   "metadata": {},
   "outputs": [],
   "source": [
    "import pandas as pd\n",
    "import numpy as np"
   ]
  },
  {
   "cell_type": "code",
   "execution_count": 2,
   "metadata": {},
   "outputs": [],
   "source": [
    "# setting paths\n",
    "PATH = '/Users/marieke/SearchingForBias'"
   ]
  },
  {
   "cell_type": "code",
   "execution_count": 3,
   "metadata": {},
   "outputs": [
    {
     "data": {
      "text/plain": [
       "(1994, 479)"
      ]
     },
     "execution_count": 3,
     "metadata": {},
     "output_type": "execute_result"
    }
   ],
   "source": [
    "# load data set\n",
    "df = pd.read_csv(PATH+'/data/DigSocSurvey_26012021.tsv', delimiter='\\t')\n",
    "df.shape"
   ]
  },
  {
   "cell_type": "code",
   "execution_count": 4,
   "metadata": {},
   "outputs": [],
   "source": [
    "#df.head()"
   ]
  },
  {
   "cell_type": "code",
   "execution_count": 5,
   "metadata": {},
   "outputs": [],
   "source": [
    "# column selection\n",
    "vote_cols = ['base_voteInt_1', 'base_voteInt_2','base_voteInt_3', 'base_voteInt_4', 'base_voteInt_5', 'base_voteInt_6',\n",
    "             'base_voteInt_7', 'base_voteInt_8', 'base_voteInt_9', 'base_voteInt_10', 'base_voteInt_11', 'base_voteInt_12',\n",
    "             'base_voteInt_13', 'base_voteInt_14', 'base_voteInt_15', 'base_voteInt_16', 'base_voteInt_17', 'base_voteInt_18',\n",
    "             'base_voteInt_14_TEXT']\n",
    "cols = [\"base_lft\", \"base_gender\", \"base_opl\", \"base_regio\", \"base_polar\", \"base_intpol\", \"base_voteTK2017\", \"base_voteTK2017_14_TEXT\",\n",
    "        \"MVH_att_im_1\", \"MVH_att_im_2\", \"MVH_att_im_3\", \"MVH_att_importance_1\"] + vote_cols\n",
    "sq_cols = [\"MVH_search_im_1\", \"MVH_search_im_2\", \"MVH_search_im_3\"]"
   ]
  },
  {
   "cell_type": "code",
   "execution_count": 6,
   "metadata": {
    "scrolled": true
   },
   "outputs": [
    {
     "data": {
      "text/html": [
       "<div>\n",
       "<style scoped>\n",
       "    .dataframe tbody tr th:only-of-type {\n",
       "        vertical-align: middle;\n",
       "    }\n",
       "\n",
       "    .dataframe tbody tr th {\n",
       "        vertical-align: top;\n",
       "    }\n",
       "\n",
       "    .dataframe thead th {\n",
       "        text-align: right;\n",
       "    }\n",
       "</style>\n",
       "<table border=\"1\" class=\"dataframe\">\n",
       "  <thead>\n",
       "    <tr style=\"text-align: right;\">\n",
       "      <th></th>\n",
       "      <th>ID</th>\n",
       "      <th>MVH_search_im_1</th>\n",
       "      <th>MVH_search_im_2</th>\n",
       "      <th>MVH_search_im_3</th>\n",
       "    </tr>\n",
       "  </thead>\n",
       "  <tbody>\n",
       "    <tr>\n",
       "      <th>0</th>\n",
       "      <td>1</td>\n",
       "      <td>data criminaliteit allochtonen</td>\n",
       "      <td>immigratie data</td>\n",
       "      <td>criminaliteit demografie</td>\n",
       "    </tr>\n",
       "    <tr>\n",
       "      <th>1</th>\n",
       "      <td>2</td>\n",
       "      <td>asielzoekers</td>\n",
       "      <td>alochtonen</td>\n",
       "      <td>asielzoekerscentrum</td>\n",
       "    </tr>\n",
       "    <tr>\n",
       "      <th>2</th>\n",
       "      <td>3</td>\n",
       "      <td>Immigranten in Nederland laatste 5 jaar CBS</td>\n",
       "      <td>Reden van vluchten immigranten</td>\n",
       "      <td>Refugees in Europe</td>\n",
       "    </tr>\n",
       "    <tr>\n",
       "      <th>3</th>\n",
       "      <td>4</td>\n",
       "      <td>Geen</td>\n",
       "      <td>Geen</td>\n",
       "      <td>Geen</td>\n",
       "    </tr>\n",
       "    <tr>\n",
       "      <th>4</th>\n",
       "      <td>5</td>\n",
       "      <td>reintegratie vluchtelingen</td>\n",
       "      <td>asielzoekers Nederland</td>\n",
       "      <td>vluchtelingen</td>\n",
       "    </tr>\n",
       "  </tbody>\n",
       "</table>\n",
       "</div>"
      ],
      "text/plain": [
       "   ID                              MVH_search_im_1  \\\n",
       "0   1               data criminaliteit allochtonen   \n",
       "1   2                                 asielzoekers   \n",
       "2   3  Immigranten in Nederland laatste 5 jaar CBS   \n",
       "3   4                                         Geen   \n",
       "4   5                   reintegratie vluchtelingen   \n",
       "\n",
       "                  MVH_search_im_2           MVH_search_im_3  \n",
       "0                 immigratie data  criminaliteit demografie  \n",
       "1                      alochtonen       asielzoekerscentrum  \n",
       "2  Reden van vluchten immigranten        Refugees in Europe  \n",
       "3                            Geen                      Geen  \n",
       "4          asielzoekers Nederland             vluchtelingen  "
      ]
     },
     "execution_count": 6,
     "metadata": {},
     "output_type": "execute_result"
    }
   ],
   "source": [
    "# search queries \n",
    "df_sq = df[[\"ID\"]+sq_cols].copy()\n",
    "df_sq.head()"
   ]
  },
  {
   "cell_type": "code",
   "execution_count": 7,
   "metadata": {},
   "outputs": [],
   "source": [
    "# save search query columns for further processing in 02_query_processing\n",
    "df_sq.to_pickle(PATH+\"/data/immigration/01_df_sq.pkl\")"
   ]
  },
  {
   "cell_type": "code",
   "execution_count": 8,
   "metadata": {},
   "outputs": [
    {
     "data": {
      "text/html": [
       "<div>\n",
       "<style scoped>\n",
       "    .dataframe tbody tr th:only-of-type {\n",
       "        vertical-align: middle;\n",
       "    }\n",
       "\n",
       "    .dataframe tbody tr th {\n",
       "        vertical-align: top;\n",
       "    }\n",
       "\n",
       "    .dataframe thead th {\n",
       "        text-align: right;\n",
       "    }\n",
       "</style>\n",
       "<table border=\"1\" class=\"dataframe\">\n",
       "  <thead>\n",
       "    <tr style=\"text-align: right;\">\n",
       "      <th></th>\n",
       "      <th>ID</th>\n",
       "      <th>base_lft</th>\n",
       "      <th>base_gender</th>\n",
       "      <th>base_opl</th>\n",
       "      <th>base_regio</th>\n",
       "      <th>base_polar</th>\n",
       "      <th>base_intpol</th>\n",
       "      <th>base_voteTK2017</th>\n",
       "      <th>base_voteTK2017_14_TEXT</th>\n",
       "      <th>MVH_att_im_1</th>\n",
       "      <th>...</th>\n",
       "      <th>base_voteInt_10</th>\n",
       "      <th>base_voteInt_11</th>\n",
       "      <th>base_voteInt_12</th>\n",
       "      <th>base_voteInt_13</th>\n",
       "      <th>base_voteInt_14</th>\n",
       "      <th>base_voteInt_15</th>\n",
       "      <th>base_voteInt_16</th>\n",
       "      <th>base_voteInt_17</th>\n",
       "      <th>base_voteInt_18</th>\n",
       "      <th>base_voteInt_14_TEXT</th>\n",
       "    </tr>\n",
       "  </thead>\n",
       "  <tbody>\n",
       "    <tr>\n",
       "      <th>0</th>\n",
       "      <td>1</td>\n",
       "      <td>36</td>\n",
       "      <td>1</td>\n",
       "      <td>6</td>\n",
       "      <td>4</td>\n",
       "      <td>7.0</td>\n",
       "      <td>5.0</td>\n",
       "      <td>1</td>\n",
       "      <td>NaN</td>\n",
       "      <td>1</td>\n",
       "      <td>...</td>\n",
       "      <td>NaN</td>\n",
       "      <td>NaN</td>\n",
       "      <td>NaN</td>\n",
       "      <td>NaN</td>\n",
       "      <td>NaN</td>\n",
       "      <td>NaN</td>\n",
       "      <td>NaN</td>\n",
       "      <td>NaN</td>\n",
       "      <td>NaN</td>\n",
       "      <td>NaN</td>\n",
       "    </tr>\n",
       "    <tr>\n",
       "      <th>1</th>\n",
       "      <td>2</td>\n",
       "      <td>18</td>\n",
       "      <td>2</td>\n",
       "      <td>3</td>\n",
       "      <td>5</td>\n",
       "      <td>7.0</td>\n",
       "      <td>NaN</td>\n",
       "      <td>16</td>\n",
       "      <td>NaN</td>\n",
       "      <td>3</td>\n",
       "      <td>...</td>\n",
       "      <td>NaN</td>\n",
       "      <td>NaN</td>\n",
       "      <td>NaN</td>\n",
       "      <td>NaN</td>\n",
       "      <td>NaN</td>\n",
       "      <td>NaN</td>\n",
       "      <td>NaN</td>\n",
       "      <td>NaN</td>\n",
       "      <td>NaN</td>\n",
       "      <td>NaN</td>\n",
       "    </tr>\n",
       "    <tr>\n",
       "      <th>2</th>\n",
       "      <td>3</td>\n",
       "      <td>19</td>\n",
       "      <td>2</td>\n",
       "      <td>5</td>\n",
       "      <td>2</td>\n",
       "      <td>4.0</td>\n",
       "      <td>6.0</td>\n",
       "      <td>16</td>\n",
       "      <td>NaN</td>\n",
       "      <td>4</td>\n",
       "      <td>...</td>\n",
       "      <td>NaN</td>\n",
       "      <td>NaN</td>\n",
       "      <td>NaN</td>\n",
       "      <td>NaN</td>\n",
       "      <td>NaN</td>\n",
       "      <td>NaN</td>\n",
       "      <td>NaN</td>\n",
       "      <td>1.0</td>\n",
       "      <td>NaN</td>\n",
       "      <td>NaN</td>\n",
       "    </tr>\n",
       "    <tr>\n",
       "      <th>3</th>\n",
       "      <td>4</td>\n",
       "      <td>43</td>\n",
       "      <td>2</td>\n",
       "      <td>5</td>\n",
       "      <td>12</td>\n",
       "      <td>5.0</td>\n",
       "      <td>5.0</td>\n",
       "      <td>16</td>\n",
       "      <td>NaN</td>\n",
       "      <td>3</td>\n",
       "      <td>...</td>\n",
       "      <td>NaN</td>\n",
       "      <td>NaN</td>\n",
       "      <td>NaN</td>\n",
       "      <td>NaN</td>\n",
       "      <td>NaN</td>\n",
       "      <td>NaN</td>\n",
       "      <td>NaN</td>\n",
       "      <td>1.0</td>\n",
       "      <td>NaN</td>\n",
       "      <td>NaN</td>\n",
       "    </tr>\n",
       "    <tr>\n",
       "      <th>4</th>\n",
       "      <td>5</td>\n",
       "      <td>67</td>\n",
       "      <td>2</td>\n",
       "      <td>3</td>\n",
       "      <td>12</td>\n",
       "      <td>2.0</td>\n",
       "      <td>7.0</td>\n",
       "      <td>7</td>\n",
       "      <td>NaN</td>\n",
       "      <td>4</td>\n",
       "      <td>...</td>\n",
       "      <td>NaN</td>\n",
       "      <td>NaN</td>\n",
       "      <td>NaN</td>\n",
       "      <td>NaN</td>\n",
       "      <td>NaN</td>\n",
       "      <td>NaN</td>\n",
       "      <td>NaN</td>\n",
       "      <td>NaN</td>\n",
       "      <td>NaN</td>\n",
       "      <td>NaN</td>\n",
       "    </tr>\n",
       "  </tbody>\n",
       "</table>\n",
       "<p>5 rows × 32 columns</p>\n",
       "</div>"
      ],
      "text/plain": [
       "   ID  base_lft  base_gender  base_opl  base_regio  base_polar  base_intpol  \\\n",
       "0   1        36            1         6           4         7.0          5.0   \n",
       "1   2        18            2         3           5         7.0          NaN   \n",
       "2   3        19            2         5           2         4.0          6.0   \n",
       "3   4        43            2         5          12         5.0          5.0   \n",
       "4   5        67            2         3          12         2.0          7.0   \n",
       "\n",
       "   base_voteTK2017 base_voteTK2017_14_TEXT  MVH_att_im_1  ...  \\\n",
       "0                1                     NaN             1  ...   \n",
       "1               16                     NaN             3  ...   \n",
       "2               16                     NaN             4  ...   \n",
       "3               16                     NaN             3  ...   \n",
       "4                7                     NaN             4  ...   \n",
       "\n",
       "   base_voteInt_10  base_voteInt_11  base_voteInt_12  base_voteInt_13  \\\n",
       "0              NaN              NaN              NaN              NaN   \n",
       "1              NaN              NaN              NaN              NaN   \n",
       "2              NaN              NaN              NaN              NaN   \n",
       "3              NaN              NaN              NaN              NaN   \n",
       "4              NaN              NaN              NaN              NaN   \n",
       "\n",
       "   base_voteInt_14  base_voteInt_15  base_voteInt_16  base_voteInt_17  \\\n",
       "0              NaN              NaN              NaN              NaN   \n",
       "1              NaN              NaN              NaN              NaN   \n",
       "2              NaN              NaN              NaN              1.0   \n",
       "3              NaN              NaN              NaN              1.0   \n",
       "4              NaN              NaN              NaN              NaN   \n",
       "\n",
       "   base_voteInt_18  base_voteInt_14_TEXT  \n",
       "0              NaN                   NaN  \n",
       "1              NaN                   NaN  \n",
       "2              NaN                   NaN  \n",
       "3              NaN                   NaN  \n",
       "4              NaN                   NaN  \n",
       "\n",
       "[5 rows x 32 columns]"
      ]
     },
     "execution_count": 8,
     "metadata": {},
     "output_type": "execute_result"
    }
   ],
   "source": [
    "# independent variables\n",
    "df_bg = df[[\"ID\"]+cols].copy()\n",
    "df_bg.head()"
   ]
  },
  {
   "cell_type": "markdown",
   "metadata": {},
   "source": [
    "#### Immigration attitude"
   ]
  },
  {
   "cell_type": "code",
   "execution_count": 9,
   "metadata": {},
   "outputs": [
    {
     "name": "stdout",
     "output_type": "stream",
     "text": [
      "4    566\n",
      "3    329\n",
      "5    323\n",
      "6    238\n",
      "1    192\n",
      "7    174\n",
      "2    172\n",
      "Name: MVH_att_im_1, dtype: int64\n",
      "4    502\n",
      "5    457\n",
      "3    289\n",
      "6    256\n",
      "1    182\n",
      "2    170\n",
      "7    138\n",
      "Name: MVH_att_im_2, dtype: int64\n",
      "5    374\n",
      "4    353\n",
      "6    310\n",
      "3    257\n",
      "1    256\n",
      "7    255\n",
      "2    189\n",
      "Name: MVH_att_im_3, dtype: int64\n"
     ]
    }
   ],
   "source": [
    "att_cols = [\"MVH_att_im_1\", \"MVH_att_im_2\", \"MVH_att_im_3\"]\n",
    "for c in att_cols:\n",
    "    print(df_bg[c].value_counts(dropna=False))"
   ]
  },
  {
   "cell_type": "code",
   "execution_count": 10,
   "metadata": {},
   "outputs": [
    {
     "data": {
      "text/plain": [
       "count    1994.000000\n",
       "mean        4.106319\n",
       "std         1.510793\n",
       "min         1.000000\n",
       "25%         3.000000\n",
       "50%         4.333333\n",
       "75%         5.000000\n",
       "max         7.000000\n",
       "Name: att_im_mean, dtype: float64"
      ]
     },
     "execution_count": 10,
     "metadata": {},
     "output_type": "execute_result"
    }
   ],
   "source": [
    "# mean score on three items (cronbach's alpha on final sample size in other script)\n",
    "df_bg[\"att_im_mean\"] = df_bg[att_cols].mean(axis=1)\n",
    "df_bg[\"att_im_mean\"].describe()"
   ]
  },
  {
   "cell_type": "markdown",
   "metadata": {},
   "source": [
    "#### Issue importance"
   ]
  },
  {
   "cell_type": "code",
   "execution_count": 11,
   "metadata": {},
   "outputs": [
    {
     "data": {
      "text/plain": [
       "3    713\n",
       "4    686\n",
       "2    308\n",
       "5    159\n",
       "1    128\n",
       "Name: MVH_att_importance_1, dtype: int64"
      ]
     },
     "execution_count": 11,
     "metadata": {},
     "output_type": "execute_result"
    }
   ],
   "source": [
    "df_bg.MVH_att_importance_1.value_counts(dropna=False)"
   ]
  },
  {
   "cell_type": "markdown",
   "metadata": {},
   "source": [
    "#### Political orientation"
   ]
  },
  {
   "cell_type": "code",
   "execution_count": 12,
   "metadata": {},
   "outputs": [
    {
     "data": {
      "text/plain": [
       "5.0     393\n",
       "7.0     264\n",
       "8.0     220\n",
       "6.0     206\n",
       "4.0     205\n",
       "3.0     205\n",
       "2.0     141\n",
       "11.0    141\n",
       "1.0      71\n",
       "0.0      52\n",
       "10.0     47\n",
       "9.0      41\n",
       "NaN       8\n",
       "Name: base_polar, dtype: int64"
      ]
     },
     "execution_count": 12,
     "metadata": {},
     "output_type": "execute_result"
    }
   ],
   "source": [
    "df_bg.base_polar.value_counts(dropna=False)\n",
    "# 8 respondents missing"
   ]
  },
  {
   "cell_type": "code",
   "execution_count": 13,
   "metadata": {},
   "outputs": [],
   "source": [
    "# set 11 (I don't want to say) to missing.\n",
    "df_bg['base_polar'] = df_bg['base_polar'].replace(11, np.nan)\n",
    "# now 149 respondents missing."
   ]
  },
  {
   "cell_type": "markdown",
   "metadata": {},
   "source": [
    "##### Political interest "
   ]
  },
  {
   "cell_type": "code",
   "execution_count": 14,
   "metadata": {},
   "outputs": [
    {
     "data": {
      "text/plain": [
       "6.0     648\n",
       "7.0     275\n",
       "5.0     193\n",
       "3.0     155\n",
       "0.0     149\n",
       "9.0     133\n",
       "4.0     120\n",
       "2.0     119\n",
       "1.0     104\n",
       "10.0     85\n",
       "NaN      13\n",
       "Name: base_intpol, dtype: int64"
      ]
     },
     "execution_count": 14,
     "metadata": {},
     "output_type": "execute_result"
    }
   ],
   "source": [
    "df_bg.base_intpol.value_counts(dropna=False)\n",
    "# 13 respondents missing."
   ]
  },
  {
   "cell_type": "markdown",
   "metadata": {},
   "source": [
    "#### Vote choice"
   ]
  },
  {
   "cell_type": "code",
   "execution_count": 15,
   "metadata": {},
   "outputs": [
    {
     "data": {
      "text/plain": [
       "1.0    0.469910\n",
       "0.0    0.249248\n",
       "2.0    0.158977\n",
       "3.0    0.121866\n",
       "Name: sum_parties, dtype: float64"
      ]
     },
     "execution_count": 15,
     "metadata": {},
     "output_type": "execute_result"
    }
   ],
   "source": [
    "# how many chose multiple parties\n",
    "party_cols = [\"base_voteInt_\"+str(i) for i in range(1,15)]\n",
    "df_bg['sum_parties']=df_bg[party_cols].sum(axis=1)\n",
    "df_bg.sum_parties.value_counts(normalize=True)"
   ]
  },
  {
   "cell_type": "code",
   "execution_count": 16,
   "metadata": {},
   "outputs": [],
   "source": [
    "parties = {1:'VVD',\n",
    "           2:'PVV',\n",
    "           3:'CDA',\n",
    "           4:'D66',\n",
    "           5:'GroenLinks',\n",
    "           6:'SP',\n",
    "           7:'PvdA',\n",
    "           8:'ChristenUnie',\n",
    "           9:'PvdD',\n",
    "           10:'50Plus',\n",
    "           11:'SGP',\n",
    "           12:'DENK',\n",
    "           13:'FvD',\n",
    "           14:'Andere_partij',\n",
    "           15:'Blank',\n",
    "           16:'I_do_not_know_yet',\n",
    "           17:'I_do_not_want_to_say'\n",
    "          }"
   ]
  },
  {
   "cell_type": "code",
   "execution_count": 17,
   "metadata": {},
   "outputs": [],
   "source": [
    "parties2 = list(parties.values())\n",
    "party_cols2 = party_cols+[\"base_voteInt_15\", \"base_voteInt_16\", \"base_voteInt_17\"]"
   ]
  },
  {
   "cell_type": "code",
   "execution_count": 18,
   "metadata": {},
   "outputs": [],
   "source": [
    "df_bg.rename(columns=dict(zip(party_cols2, parties2)), inplace=True)"
   ]
  },
  {
   "cell_type": "code",
   "execution_count": 19,
   "metadata": {},
   "outputs": [],
   "source": [
    "df_bg[parties2] = df_bg[parties2].fillna(0)"
   ]
  },
  {
   "cell_type": "code",
   "execution_count": 20,
   "metadata": {},
   "outputs": [
    {
     "name": "stdout",
     "output_type": "stream",
     "text": [
      "0.0    1600\n",
      "1.0     394\n",
      "Name: VVD, dtype: int64\n",
      "0.0    1729\n",
      "1.0     265\n",
      "Name: PVV, dtype: int64\n",
      "0.0    1830\n",
      "1.0     164\n",
      "Name: CDA, dtype: int64\n",
      "0.0    1765\n",
      "1.0     229\n",
      "Name: D66, dtype: int64\n",
      "0.0    1709\n",
      "1.0     285\n",
      "Name: GroenLinks, dtype: int64\n",
      "0.0    1786\n",
      "1.0     208\n",
      "Name: SP, dtype: int64\n",
      "0.0    1756\n",
      "1.0     238\n",
      "Name: PvdA, dtype: int64\n",
      "0.0    1885\n",
      "1.0     109\n",
      "Name: ChristenUnie, dtype: int64\n",
      "0.0    1837\n",
      "1.0     157\n",
      "Name: PvdD, dtype: int64\n",
      "0.0    1948\n",
      "1.0      46\n",
      "Name: 50Plus, dtype: int64\n",
      "0.0    1954\n",
      "1.0      40\n",
      "Name: SGP, dtype: int64\n",
      "0.0    1980\n",
      "1.0      14\n",
      "Name: DENK, dtype: int64\n",
      "0.0    1865\n",
      "1.0     129\n",
      "Name: FvD, dtype: int64\n",
      "0.0    1972\n",
      "1.0      22\n",
      "Name: Andere_partij, dtype: int64\n",
      "0.0    1970\n",
      "1.0      24\n",
      "Name: Blank, dtype: int64\n",
      "0.0    1895\n",
      "1.0      99\n",
      "Name: I_do_not_know_yet, dtype: int64\n",
      "0.0    1641\n",
      "1.0     353\n",
      "Name: I_do_not_want_to_say, dtype: int64\n"
     ]
    }
   ],
   "source": [
    "for c in parties2:\n",
    "    print(df_bg[c].value_counts(dropna=False))"
   ]
  },
  {
   "cell_type": "code",
   "execution_count": 21,
   "metadata": {},
   "outputs": [],
   "source": [
    "#df_bg.base_voteInt_14_TEXT.value_counts(dropna=False)"
   ]
  },
  {
   "cell_type": "markdown",
   "metadata": {},
   "source": [
    "#### Education level (low middle high)"
   ]
  },
  {
   "cell_type": "code",
   "execution_count": 22,
   "metadata": {},
   "outputs": [],
   "source": [
    "opl = {1:1,\n",
    "       2:1,\n",
    "       3:2,\n",
    "       4:2,\n",
    "       5:2,\n",
    "       6:3,\n",
    "       7:3,\n",
    "      }\n",
    "df_bg['opl_3cat'] = df_bg['base_opl'].replace(opl)"
   ]
  },
  {
   "cell_type": "code",
   "execution_count": 23,
   "metadata": {},
   "outputs": [
    {
     "data": {
      "text/plain": [
       "2    1036\n",
       "3     792\n",
       "1     166\n",
       "Name: opl_3cat, dtype: int64"
      ]
     },
     "execution_count": 23,
     "metadata": {},
     "output_type": "execute_result"
    }
   ],
   "source": [
    "df_bg.opl_3cat.value_counts(dropna=False)"
   ]
  },
  {
   "cell_type": "markdown",
   "metadata": {},
   "source": [
    "#### Gender"
   ]
  },
  {
   "cell_type": "code",
   "execution_count": 24,
   "metadata": {},
   "outputs": [
    {
     "data": {
      "text/plain": [
       "1    1004\n",
       "2     985\n",
       "3       5\n",
       "Name: base_gender, dtype: int64"
      ]
     },
     "execution_count": 24,
     "metadata": {},
     "output_type": "execute_result"
    }
   ],
   "source": [
    "df_bg.base_gender.value_counts(dropna=False)"
   ]
  },
  {
   "cell_type": "markdown",
   "metadata": {},
   "source": [
    "#### Age"
   ]
  },
  {
   "cell_type": "code",
   "execution_count": 25,
   "metadata": {},
   "outputs": [
    {
     "data": {
      "text/plain": [
       "54    82\n",
       "51    71\n",
       "52    70\n",
       "63    69\n",
       "58    66\n",
       "66    62\n",
       "65    60\n",
       "67    60\n",
       "60    60\n",
       "64    59\n",
       "53    57\n",
       "56    56\n",
       "61    54\n",
       "62    53\n",
       "55    49\n",
       "57    48\n",
       "30    47\n",
       "34    45\n",
       "41    44\n",
       "59    43\n",
       "22    38\n",
       "50    37\n",
       "40    37\n",
       "28    36\n",
       "26    34\n",
       "39    34\n",
       "23    34\n",
       "20    33\n",
       "42    33\n",
       "24    32\n",
       "18    32\n",
       "38    31\n",
       "27    31\n",
       "44    29\n",
       "43    29\n",
       "33    27\n",
       "31    26\n",
       "35    26\n",
       "47    25\n",
       "32    25\n",
       "29    24\n",
       "36    24\n",
       "25    24\n",
       "19    24\n",
       "21    23\n",
       "45    23\n",
       "37    21\n",
       "49    16\n",
       "46    14\n",
       "48    13\n",
       "69     1\n",
       "70     1\n",
       "77     1\n",
       "68     1\n",
       "Name: base_lft, dtype: int64"
      ]
     },
     "execution_count": 25,
     "metadata": {},
     "output_type": "execute_result"
    }
   ],
   "source": [
    "df_bg.base_lft.value_counts(dropna=False)"
   ]
  },
  {
   "cell_type": "code",
   "execution_count": 26,
   "metadata": {},
   "outputs": [],
   "source": [
    "#df_bg.head()"
   ]
  },
  {
   "cell_type": "code",
   "execution_count": 27,
   "metadata": {},
   "outputs": [],
   "source": [
    "df_bg.to_pickle(PATH+\"/data/immigration/02_df_bg.pkl\")"
   ]
  }
 ],
 "metadata": {
  "kernelspec": {
   "display_name": "Python 3",
   "language": "python",
   "name": "python3"
  },
  "language_info": {
   "codemirror_mode": {
    "name": "ipython",
    "version": 3
   },
   "file_extension": ".py",
   "mimetype": "text/x-python",
   "name": "python",
   "nbconvert_exporter": "python",
   "pygments_lexer": "ipython3",
   "version": "3.8.2"
  }
 },
 "nbformat": 4,
 "nbformat_minor": 4
}

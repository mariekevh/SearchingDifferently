{
 "cells": [
  {
   "cell_type": "markdown",
   "metadata": {},
   "source": [
    "# 03a Intercoder reliability: Drawing sample \n",
    "We draw a conventional 10% random sample of the population of search queries. This is above the required sample size based on an estimation of the distribution of the variables (minimum occurance is 1%) and a required significance level of .05 for Krippendorff alpha of .667 (Krippendorff, 2004).\n",
    "\n",
    "[Krippendorff, K. (2004). *Content analysis: An introduction to its methodology.* Sage: Thousand Oaks, CA, 2nd. ed. edition](https://books.google.nl/books?id=q657o3M3C8cC&printsec=frontcover&dq=Klaus+Krippendorff.+Content+analysis:+An+introduction+to+its+methodology.+SAGE,+Thousand+Oaks,+CA,+2nd+ed.+edition,+2004&hl=nl&sa=X&ved=2ahUKEwifxIHH_oTvAhWBPewKHcctD7sQ6AEwAHoECAAQAg#v=onepage&q=Klaus%20Krippendorff.%20Content%20analysis%3A%20An%20introduction%20to%20its%20methodology.%20SAGE%2C%20Thousand%20Oaks%2C%20CA%2C%202nd%20ed.%20edition%2C%202004&f=false)"
   ]
  },
  {
   "cell_type": "code",
   "execution_count": 1,
   "metadata": {},
   "outputs": [],
   "source": [
    "import pandas as pd\n",
    "import numpy as np\n",
    "import random"
   ]
  },
  {
   "cell_type": "code",
   "execution_count": 2,
   "metadata": {},
   "outputs": [],
   "source": [
    "# setting paths\n",
    "PATH = '/Users/marieke/SearchingForBias'"
   ]
  },
  {
   "cell_type": "code",
   "execution_count": 3,
   "metadata": {},
   "outputs": [],
   "source": [
    "data = pd.read_csv(PATH+\"/data/climate/manual_coding/sq_to_annotate_14062021.csv\", sep=\";\")['search query'].to_list()"
   ]
  },
  {
   "cell_type": "code",
   "execution_count": 4,
   "metadata": {},
   "outputs": [
    {
     "data": {
      "text/plain": [
       "2671"
      ]
     },
     "execution_count": 4,
     "metadata": {},
     "output_type": "execute_result"
    }
   ],
   "source": [
    "len(data)"
   ]
  },
  {
   "cell_type": "code",
   "execution_count": 5,
   "metadata": {},
   "outputs": [],
   "source": [
    "#data"
   ]
  },
  {
   "cell_type": "code",
   "execution_count": 6,
   "metadata": {},
   "outputs": [],
   "source": [
    "random.seed(1235)\n",
    "random.shuffle(data)"
   ]
  },
  {
   "cell_type": "code",
   "execution_count": 7,
   "metadata": {},
   "outputs": [],
   "source": [
    "#data"
   ]
  },
  {
   "cell_type": "code",
   "execution_count": 8,
   "metadata": {},
   "outputs": [
    {
     "data": {
      "text/plain": [
       "267"
      ]
     },
     "execution_count": 8,
     "metadata": {},
     "output_type": "execute_result"
    }
   ],
   "source": [
    "# keep 10 percent\n",
    "sample = data[0:int(len(data)*0.1)]\n",
    "len(sample)"
   ]
  },
  {
   "cell_type": "code",
   "execution_count": 9,
   "metadata": {},
   "outputs": [],
   "source": [
    "# save to csv\n",
    "pd.DataFrame(sample, columns=[\"search query\"]).to_csv(PATH+f'/data/climate/manual_coding/cc_MVH_ICR.csv', sep=\";\", index=False)"
   ]
  }
 ],
 "metadata": {
  "kernelspec": {
   "display_name": "Python 3",
   "language": "python",
   "name": "python3"
  },
  "language_info": {
   "codemirror_mode": {
    "name": "ipython",
    "version": 3
   },
   "file_extension": ".py",
   "mimetype": "text/x-python",
   "name": "python",
   "nbconvert_exporter": "python",
   "pygments_lexer": "ipython3",
   "version": "3.8.2"
  }
 },
 "nbformat": 4,
 "nbformat_minor": 4
}

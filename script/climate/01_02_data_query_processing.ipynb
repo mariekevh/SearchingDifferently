{
 "cells": [
  {
   "cell_type": "markdown",
   "metadata": {},
   "source": [
    "# 01 02 Data and search query processing (Climate)\n",
    "This script processes the ___climate___ search queries:\n",
    "1. Data cleaning\n",
    "2. Descriptive variables\n",
    "3. Prepare data for manual coding"
   ]
  },
  {
   "cell_type": "code",
   "execution_count": 1,
   "metadata": {},
   "outputs": [
    {
     "name": "stderr",
     "output_type": "stream",
     "text": [
      "/Users/marieke/Library/Python/3.8/lib/python/site-packages/fuzzywuzzy/fuzz.py:11: UserWarning: Using slow pure-python SequenceMatcher. Install python-Levenshtein to remove this warning\n",
      "  warnings.warn('Using slow pure-python SequenceMatcher. Install python-Levenshtein to remove this warning')\n"
     ]
    }
   ],
   "source": [
    "import pandas as pd\n",
    "import numpy as np\n",
    "from fuzzywuzzy import fuzz\n",
    "import re\n",
    "from tqdm import tqdm\n",
    "import json\n",
    "import matplotlib.pyplot as plt\n",
    "from collections import Counter\n",
    "from statistics import mean, median\n",
    "import nltk\n",
    "from nltk.corpus import stopwords\n",
    "from datetime import datetime\n",
    "date = datetime.now().strftime('%d%m%Y')\n",
    "import random"
   ]
  },
  {
   "cell_type": "code",
   "execution_count": 2,
   "metadata": {},
   "outputs": [],
   "source": [
    "# setting paths\n",
    "PATH = '/Users/marieke/SearchingForBias'"
   ]
  },
  {
   "cell_type": "code",
   "execution_count": 3,
   "metadata": {},
   "outputs": [
    {
     "data": {
      "text/plain": [
       "(1994, 479)"
      ]
     },
     "execution_count": 3,
     "metadata": {},
     "output_type": "execute_result"
    }
   ],
   "source": [
    "df = pd.read_csv(PATH+\"/data/DigSocSurvey_26012021.tsv\", delimiter='\\t')\n",
    "df.shape"
   ]
  },
  {
   "cell_type": "markdown",
   "metadata": {},
   "source": [
    "### Background variables"
   ]
  },
  {
   "cell_type": "code",
   "execution_count": 4,
   "metadata": {},
   "outputs": [],
   "source": [
    "cols = [\"base_lft\", \"base_gender\", \"base_opl\", \"base_regio\", \"base_polar\", \"base_intpol\", \n",
    "        \"MVH_att_cc_1\", \"MVH_att_cc_2\", \"MVH_att_importance_2\"]"
   ]
  },
  {
   "cell_type": "code",
   "execution_count": 5,
   "metadata": {},
   "outputs": [
    {
     "data": {
      "text/plain": [
       "(1994, 10)"
      ]
     },
     "execution_count": 5,
     "metadata": {},
     "output_type": "execute_result"
    }
   ],
   "source": [
    "df_bg = df[[\"ID\"]+cols].copy()\n",
    "df_bg.shape"
   ]
  },
  {
   "cell_type": "code",
   "execution_count": 6,
   "metadata": {},
   "outputs": [
    {
     "name": "stdout",
     "output_type": "stream",
     "text": [
      "2    556\n",
      "1    418\n",
      "3    274\n",
      "5    265\n",
      "4    261\n",
      "6    126\n",
      "7     94\n",
      "Name: MVH_att_cc_1, dtype: int64\n",
      "4    468\n",
      "6    397\n",
      "5    374\n",
      "7    300\n",
      "3    185\n",
      "2    161\n",
      "1    109\n",
      "Name: MVH_att_cc_2, dtype: int64\n"
     ]
    }
   ],
   "source": [
    "att_cols = [\"MVH_att_cc_1\", \"MVH_att_cc_2\"]\n",
    "for c in att_cols:\n",
    "    print(df_bg[c].value_counts(dropna=False))"
   ]
  },
  {
   "cell_type": "code",
   "execution_count": 7,
   "metadata": {},
   "outputs": [
    {
     "data": {
      "text/plain": [
       "count    1994.000000\n",
       "mean        4.771063\n",
       "std         1.516714\n",
       "min         1.000000\n",
       "25%         4.000000\n",
       "50%         5.000000\n",
       "75%         6.000000\n",
       "max         7.000000\n",
       "Name: att_cc_mean, dtype: float64"
      ]
     },
     "execution_count": 7,
     "metadata": {},
     "output_type": "execute_result"
    }
   ],
   "source": [
    "## climate attitudes\n",
    "df_bg[\"MVH_att_cc_1\"] = df_bg[\"MVH_att_cc_1\"].map({1:7, 2:6, 3:5, 4:4, 5:3, 6:2, 7:1}) # reverse scale\n",
    "df_bg[\"att_cc_mean\"] = df_bg[att_cols].mean(axis=1) # mean score\n",
    "df_bg[\"att_cc_mean\"].describe()"
   ]
  },
  {
   "cell_type": "code",
   "execution_count": 8,
   "metadata": {},
   "outputs": [
    {
     "data": {
      "text/plain": [
       "4    887\n",
       "5    510\n",
       "3    397\n",
       "2    129\n",
       "1     71\n",
       "Name: MVH_att_importance_2, dtype: int64"
      ]
     },
     "execution_count": 8,
     "metadata": {},
     "output_type": "execute_result"
    }
   ],
   "source": [
    "# issue attitudes\n",
    "df_bg.MVH_att_importance_2.value_counts(dropna=False)"
   ]
  },
  {
   "cell_type": "code",
   "execution_count": 9,
   "metadata": {},
   "outputs": [],
   "source": [
    "# poltical orientation\n",
    "df_bg.base_polar.value_counts(dropna=False) # 8 respondents missing\n",
    "# set 11 (I don't want to say) to missing.\n",
    "df_bg['base_polar'] = df_bg['base_polar'].replace(11, np.nan) # now 149 respondents missing."
   ]
  },
  {
   "cell_type": "code",
   "execution_count": 10,
   "metadata": {},
   "outputs": [
    {
     "data": {
      "text/plain": [
       "6.0     648\n",
       "7.0     275\n",
       "5.0     193\n",
       "3.0     155\n",
       "0.0     149\n",
       "9.0     133\n",
       "4.0     120\n",
       "2.0     119\n",
       "1.0     104\n",
       "10.0     85\n",
       "NaN      13\n",
       "Name: base_intpol, dtype: int64"
      ]
     },
     "execution_count": 10,
     "metadata": {},
     "output_type": "execute_result"
    }
   ],
   "source": [
    "# politiical interest\n",
    "df_bg.base_intpol.value_counts(dropna=False)\n",
    "# 13 respondents missing."
   ]
  },
  {
   "cell_type": "code",
   "execution_count": 11,
   "metadata": {},
   "outputs": [],
   "source": [
    "# education\n",
    "opl = {1:1,\n",
    "       2:1,\n",
    "       3:2,\n",
    "       4:2,\n",
    "       5:2,\n",
    "       6:3,\n",
    "       7:3,\n",
    "      }\n",
    "\n",
    "df_bg['opl_3cat'] = df_bg['base_opl'].replace(opl)"
   ]
  },
  {
   "cell_type": "code",
   "execution_count": 12,
   "metadata": {},
   "outputs": [
    {
     "data": {
      "text/plain": [
       "2    1036\n",
       "3     792\n",
       "1     166\n",
       "Name: opl_3cat, dtype: int64"
      ]
     },
     "execution_count": 12,
     "metadata": {},
     "output_type": "execute_result"
    }
   ],
   "source": [
    "df_bg.opl_3cat.value_counts(dropna=False)"
   ]
  },
  {
   "cell_type": "code",
   "execution_count": 13,
   "metadata": {},
   "outputs": [
    {
     "data": {
      "text/plain": [
       "1    1004\n",
       "2     985\n",
       "3       5\n",
       "Name: base_gender, dtype: int64"
      ]
     },
     "execution_count": 13,
     "metadata": {},
     "output_type": "execute_result"
    }
   ],
   "source": [
    "# gender\n",
    "df_bg.base_gender.value_counts(dropna=False)"
   ]
  },
  {
   "cell_type": "code",
   "execution_count": 14,
   "metadata": {},
   "outputs": [],
   "source": [
    "# age\n",
    "#df_bg.base_lft.value_counts(dropna=False)"
   ]
  },
  {
   "cell_type": "code",
   "execution_count": 15,
   "metadata": {},
   "outputs": [],
   "source": [
    "df_bg.to_pickle(PATH+'/data/climate/01_df_bg.pkl')"
   ]
  },
  {
   "cell_type": "markdown",
   "metadata": {},
   "source": [
    "### Search queries"
   ]
  },
  {
   "cell_type": "code",
   "execution_count": 16,
   "metadata": {},
   "outputs": [],
   "source": [
    "sq_cols = [\"MVH_search_cc_1\", \"MVH_search_cc_2\", \"MVH_search_cc_3\"]"
   ]
  },
  {
   "cell_type": "code",
   "execution_count": 17,
   "metadata": {},
   "outputs": [],
   "source": [
    "df = df[[\"ID\"]+sq_cols].copy()\n",
    "df.set_index('ID', inplace=True)"
   ]
  },
  {
   "cell_type": "code",
   "execution_count": 18,
   "metadata": {},
   "outputs": [
    {
     "data": {
      "text/html": [
       "<div>\n",
       "<style scoped>\n",
       "    .dataframe tbody tr th:only-of-type {\n",
       "        vertical-align: middle;\n",
       "    }\n",
       "\n",
       "    .dataframe tbody tr th {\n",
       "        vertical-align: top;\n",
       "    }\n",
       "\n",
       "    .dataframe thead th {\n",
       "        text-align: right;\n",
       "    }\n",
       "</style>\n",
       "<table border=\"1\" class=\"dataframe\">\n",
       "  <thead>\n",
       "    <tr style=\"text-align: right;\">\n",
       "      <th></th>\n",
       "      <th>MVH_search_cc_1</th>\n",
       "      <th>MVH_search_cc_2</th>\n",
       "      <th>MVH_search_cc_3</th>\n",
       "    </tr>\n",
       "    <tr>\n",
       "      <th>ID</th>\n",
       "      <th></th>\n",
       "      <th></th>\n",
       "      <th></th>\n",
       "    </tr>\n",
       "  </thead>\n",
       "  <tbody>\n",
       "    <tr>\n",
       "      <th>1</th>\n",
       "      <td>boeit</td>\n",
       "      <td>mij</td>\n",
       "      <td>niet</td>\n",
       "    </tr>\n",
       "    <tr>\n",
       "      <th>2</th>\n",
       "      <td>klimaat</td>\n",
       "      <td>klimaatverandering</td>\n",
       "      <td>wereldwijd klimaat</td>\n",
       "    </tr>\n",
       "    <tr>\n",
       "      <th>3</th>\n",
       "      <td>Climate change</td>\n",
       "      <td>What causes the global warming?</td>\n",
       "      <td>Klimaatverandering</td>\n",
       "    </tr>\n",
       "    <tr>\n",
       "      <th>4</th>\n",
       "      <td>Global warming</td>\n",
       "      <td>C02</td>\n",
       "      <td>Greenhouse gases</td>\n",
       "    </tr>\n",
       "    <tr>\n",
       "      <th>5</th>\n",
       "      <td>klimaatbeleid Nederland</td>\n",
       "      <td>CO2 uitstoot</td>\n",
       "      <td>Klimaat</td>\n",
       "    </tr>\n",
       "  </tbody>\n",
       "</table>\n",
       "</div>"
      ],
      "text/plain": [
       "            MVH_search_cc_1                  MVH_search_cc_2  \\\n",
       "ID                                                             \n",
       "1                     boeit                              mij   \n",
       "2                   klimaat               klimaatverandering   \n",
       "3            Climate change  What causes the global warming?   \n",
       "4            Global warming                              C02   \n",
       "5   klimaatbeleid Nederland                     CO2 uitstoot   \n",
       "\n",
       "       MVH_search_cc_3  \n",
       "ID                      \n",
       "1                 niet  \n",
       "2   wereldwijd klimaat  \n",
       "3   Klimaatverandering  \n",
       "4     Greenhouse gases  \n",
       "5              Klimaat  "
      ]
     },
     "execution_count": 18,
     "metadata": {},
     "output_type": "execute_result"
    }
   ],
   "source": [
    "df.head()"
   ]
  },
  {
   "cell_type": "code",
   "execution_count": 19,
   "metadata": {},
   "outputs": [],
   "source": [
    "# data cleaning functions\n",
    "def lower_punc(x):\n",
    "    #print(x.dtypes)\n",
    "    x = re.sub(r'[^\\w\\s]|_', '', x.lower()).strip()\n",
    "    return x\n",
    "\n",
    "EXCLUDE = [\"\", \"geen\", \"nvt\", \"niets\", \"geen idee\", \"niks\", \"weet niet\", \"niet\", \"idem\"]\n",
    "def remove_exclude(x):\n",
    "    x = ' '.join([x for x in x.lower().split() if x not in EXCLUDE])\n",
    "    return x\n",
    "\n",
    "def remove_stopwords(x):\n",
    "    x = [w for w in x.lower() if w not in stopwords.words('dutch')]\n",
    "    return x"
   ]
  },
  {
   "cell_type": "code",
   "execution_count": 20,
   "metadata": {},
   "outputs": [],
   "source": [
    "cols_lp = [str(c)+\"_lp\" for c in df.columns]"
   ]
  },
  {
   "cell_type": "code",
   "execution_count": 21,
   "metadata": {},
   "outputs": [],
   "source": [
    "# lowercase + punctuation removal\n",
    "for old, new in zip(df.columns, cols_lp):\n",
    "    df[new] = df[old].apply(lower_punc)"
   ]
  },
  {
   "cell_type": "code",
   "execution_count": 22,
   "metadata": {},
   "outputs": [],
   "source": [
    "def get_nwords(x):\n",
    "    count = len(x.split())\n",
    "    return count\n",
    "\n",
    "def get_length(x):\n",
    "    count = len(x)\n",
    "    return count"
   ]
  },
  {
   "cell_type": "code",
   "execution_count": 23,
   "metadata": {},
   "outputs": [],
   "source": [
    "# number of words\n",
    "c_nwords = []\n",
    "for c in cols_lp:\n",
    "    name = str(c)+\"_nwords\"\n",
    "    df[name] = df[c].apply(get_nwords)\n",
    "    c_nwords.append(name)\n",
    "    \n",
    "df['im_nwords_min'] = df[c_nwords].min(axis=1)\n",
    "df['im_nwords_max'] = df[c_nwords].max(axis=1)\n",
    "df['im_nwords_mean'] = df[c_nwords].mean(axis=1)"
   ]
  },
  {
   "cell_type": "code",
   "execution_count": 24,
   "metadata": {},
   "outputs": [],
   "source": [
    "# length of search query\n",
    "c_len = []\n",
    "for c in cols_lp:\n",
    "    name = str(c)+\"_len\"\n",
    "    df[name] = df[c].apply(get_length)\n",
    "    c_len.append(name)\n",
    "    \n",
    "df['im_len_min'] = df[c_len].min(axis=1)\n",
    "df['im_len_max'] = df[c_len].max(axis=1)\n",
    "df['im_len_mean'] = df[c_len].mean(axis=1)"
   ]
  },
  {
   "cell_type": "code",
   "execution_count": 25,
   "metadata": {},
   "outputs": [
    {
     "data": {
      "text/plain": [
       "count    1994.000000\n",
       "mean        2.151789\n",
       "std         1.485289\n",
       "min         0.000000\n",
       "25%         1.333333\n",
       "50%         1.666667\n",
       "75%         2.666667\n",
       "max        14.000000\n",
       "Name: im_nwords_mean, dtype: float64"
      ]
     },
     "execution_count": 25,
     "metadata": {},
     "output_type": "execute_result"
    }
   ],
   "source": [
    "df['im_nwords_mean'].describe()"
   ]
  },
  {
   "cell_type": "code",
   "execution_count": 26,
   "metadata": {},
   "outputs": [],
   "source": [
    "df['total'] = df['MVH_search_cc_1_lp']+\" \"+df['MVH_search_cc_2_lp']+\" \"+df['MVH_search_cc_3_lp']"
   ]
  },
  {
   "cell_type": "code",
   "execution_count": 27,
   "metadata": {},
   "outputs": [],
   "source": [
    "df.to_pickle(PATH+'/data/climate/02_df_sq_vars.pkl')"
   ]
  },
  {
   "cell_type": "markdown",
   "metadata": {},
   "source": [
    "### Prepare search query list for manual annotation."
   ]
  },
  {
   "cell_type": "code",
   "execution_count": 28,
   "metadata": {},
   "outputs": [],
   "source": [
    "# list of all queries and list of all words\n",
    "all_sq = [item for sublist in df[cols_lp].values.tolist() for item in sublist]\n",
    "u_sq = set(all_sq)\n",
    "all_words = [item for sublist in all_sq for item in sublist.split()]\n",
    "u_words = set(all_words)"
   ]
  },
  {
   "cell_type": "code",
   "execution_count": 29,
   "metadata": {},
   "outputs": [
    {
     "data": {
      "text/plain": [
       "2767"
      ]
     },
     "execution_count": 29,
     "metadata": {},
     "output_type": "execute_result"
    }
   ],
   "source": [
    "len(u_sq)"
   ]
  },
  {
   "cell_type": "code",
   "execution_count": 30,
   "metadata": {},
   "outputs": [
    {
     "data": {
      "text/plain": [
       "5982"
      ]
     },
     "execution_count": 30,
     "metadata": {},
     "output_type": "execute_result"
    }
   ],
   "source": [
    "# how many search queries total?\n",
    "len(all_sq) # 1994 x 3"
   ]
  },
  {
   "cell_type": "code",
   "execution_count": 31,
   "metadata": {},
   "outputs": [],
   "source": [
    "def fuzzy_matching(sq_list, threshold=100): \n",
    "    '''Takes a list of words. Fuzzy matches search queries\n",
    "    (fuzz.token_sort_ratio) with similarity above treshold (default=100) and creates (a) a list of \n",
    "    unique search queries and (b) a dict including the search query matches (key = search query in annotation list, \n",
    "    values = matches not included in list)'''\n",
    "    \n",
    "    # Note. This method is considerably slow when using python default SequenceMatcher.\n",
    "    # Install python-Levenshtein to speed things up (though install issues on macs). \n",
    "    \n",
    "    sq_list = [w for w in set(sq_list) if w not in EXCLUDE]\n",
    "    \n",
    "    to_annotate = sq_list.copy()\n",
    "    keys=[]\n",
    "    vals=[]\n",
    "    for i, element in enumerate(tqdm(sq_list)):\n",
    "        if not any(element in sublist for sublist in vals):\n",
    "            v_list = []\n",
    "            for choice in sq_list[i+1:]:\n",
    "                if fuzz.token_sort_ratio(element, choice)>=threshold:\n",
    "                    v_list.append(choice)\n",
    "      \n",
    "            if v_list:\n",
    "                vals.append(v_list)\n",
    "                keys.append(element)\n",
    "    lookup = dict(zip(keys,vals))\n",
    "    \n",
    "    remove = [x for v in lookup.values() for x in v]\n",
    "    to_annotate = [x for x in to_annotate if x not in remove]\n",
    "    \n",
    "    print('Number of unique search queries to annotate:', len(to_annotate),\n",
    "         '\\nNumber of doubles removed:', len(remove))\n",
    "    return to_annotate, lookup"
   ]
  },
  {
   "cell_type": "code",
   "execution_count": 32,
   "metadata": {},
   "outputs": [
    {
     "name": "stderr",
     "output_type": "stream",
     "text": [
      "100%|██████████| 2758/2758 [06:23<00:00,  7.20it/s] "
     ]
    },
    {
     "name": "stdout",
     "output_type": "stream",
     "text": [
      "Number of unique search queries to annotate: 2671 \n",
      "Number of doubles removed: 87\n"
     ]
    },
    {
     "name": "stderr",
     "output_type": "stream",
     "text": [
      "\n"
     ]
    }
   ],
   "source": [
    "unique, matches = fuzzy_matching(list(u_sq))"
   ]
  },
  {
   "cell_type": "code",
   "execution_count": 33,
   "metadata": {},
   "outputs": [],
   "source": [
    "random.seed(1235)\n",
    "random.shuffle(unique)"
   ]
  },
  {
   "cell_type": "code",
   "execution_count": 35,
   "metadata": {},
   "outputs": [],
   "source": [
    "# save to csv\n",
    "pd.DataFrame(unique, columns=[\"search query\"]).to_csv(PATH+f'/data/climate/manual_coding/sq_to_annotate_{date}.csv', sep=\";\", index=False)"
   ]
  },
  {
   "cell_type": "code",
   "execution_count": 36,
   "metadata": {},
   "outputs": [],
   "source": [
    "#store matches\n",
    "with open(PATH+f'/data/climate/manual_coding/sq_matches_{date}.txt', 'w') as outfile:\n",
    "    json.dump(matches, outfile)"
   ]
  },
  {
   "cell_type": "code",
   "execution_count": 37,
   "metadata": {},
   "outputs": [
    {
     "data": {
      "text/plain": [
       "{'overheid klimaat': ['klimaat overheid'],\n",
       " 'zou ik': ['ik zou'],\n",
       " 'klimaat status': ['status klimaat'],\n",
       " 'klimaat geschiedenis': ['geschiedenis klimaat'],\n",
       " 'verandering klimaat': ['klimaat verandering'],\n",
       " 'klimaat actuele situatie': ['actuele situatie klimaat'],\n",
       " 'klimaat nos': ['nos klimaat'],\n",
       " 'knmi klimaat': ['klimaat knmi'],\n",
       " 'kabinet maatregelen klimaat': ['maatregelen kabinet klimaat'],\n",
       " 'verbetering klimaat': ['klimaat verbetering'],\n",
       " 'mens en klimaat': ['klimaat en mens'],\n",
       " 'nederland luchtvervuiling': ['luchtvervuiling nederland'],\n",
       " 'klimaat europa': ['europa klimaat'],\n",
       " 'oorzaak klimaatverandering': ['klimaatverandering oorzaak'],\n",
       " 'overleg klimaat': ['klimaat overleg'],\n",
       " 'klimaat stand van zaken': ['stand van zaken klimaat'],\n",
       " 'klimaat  nl': ['klimaat nl'],\n",
       " 'klimaat en milieu': ['milieu en klimaat'],\n",
       " 'woning verduurzamen': ['verduurzamen woning'],\n",
       " 'maatregelen klimaat': ['klimaat maatregelen'],\n",
       " 'klimaatverandering aanpak': ['aanpak klimaatverandering'],\n",
       " 'europa klimaatdoelen': ['klimaatdoelen europa'],\n",
       " 'informatie klimaat': ['klimaat informatie'],\n",
       " 'klimaat wereldwijd': ['wereldwijd klimaat'],\n",
       " 'klimaat nederland 2020': ['klimaat 2020 nederland'],\n",
       " 'ontwikkelingen klimaat': ['klimaat ontwikkelingen'],\n",
       " 'hoax klimaat': ['klimaat hoax'],\n",
       " 'wetenschap klimaat': ['klimaat wetenschap'],\n",
       " 'politiek klimaat': ['klimaat  politiek', 'klimaat politiek'],\n",
       " 'klimaat en samenleving': ['samenleving en klimaat'],\n",
       " 'parijs klimaatakkoord': ['klimaatakkoord parijs'],\n",
       " 'klimaat debat': ['debat klimaat'],\n",
       " 'klimaat veranderingen': ['veranderingen klimaat'],\n",
       " 'klimaat beleid': ['beleid klimaat'],\n",
       " 'politieke partijen klimaat': ['klimaat politieke partijen'],\n",
       " 'ipcc rapport': ['rapport ipcc'],\n",
       " 'doelstellingen klimaat': ['klimaat doelstellingen'],\n",
       " 'wat kan ik doen aan het klimaat': ['wat kan ik aan het klimaat doen'],\n",
       " 'problemen klimaat': ['klimaat problemen'],\n",
       " 'nieuws klimaat': ['klimaat nieuws'],\n",
       " 'standpunten klimaat politieke partijen': ['standpunten politieke partijen klimaat'],\n",
       " 'huis isoleren': ['isoleren huis'],\n",
       " 'co2 uitstoot 2020': ['uitstoot co2 2020'],\n",
       " 'smelten ijskappen': ['ijskappen smelten'],\n",
       " 'klimaat info': ['info klimaat'],\n",
       " 'klimaat nederland': ['klimaat  nederland', 'nederland klimaat'],\n",
       " 'nieuws klimaatverandering': ['klimaatverandering nieuws'],\n",
       " 'ontwikkeling klimaat': ['klimaat ontwikkeling'],\n",
       " 'klimaat toekomst': ['toekomst klimaat'],\n",
       " 'research climate change': ['climate change research'],\n",
       " 'doelstelling klimaat europa': ['klimaat doelstelling europa'],\n",
       " 'klimaat maatregelen nederland': ['maatregelen klimaat nederland'],\n",
       " 'subsidie windmolens': ['windmolens subsidie'],\n",
       " 'stijging temperatuur': ['temperatuur stijging'],\n",
       " 'klimaat onzin': ['onzin klimaat'],\n",
       " 'klimaat invloed': ['invloed  klimaat', 'invloed klimaat'],\n",
       " 'cijfers klimaat': ['klimaat cijfers'],\n",
       " 'opwarming aarde': ['aarde opwarming'],\n",
       " 'afspraken klimaat': ['klimaat afspraken'],\n",
       " 'politiek en klimaat': ['klimaat en politiek'],\n",
       " 'klimaat nederland aanpak': ['klimaat aanpak nederland'],\n",
       " 'uitstoot co 2': ['co 2 uitstoot'],\n",
       " 'oorzaken klimaatverandering': ['klimaatverandering oorzaken'],\n",
       " 'opwarming klimaat': ['klimaat opwarming'],\n",
       " 'klimaat discussie': ['discussie klimaat'],\n",
       " 'cijfers klimaatverandering': ['klimaatverandering cijfers'],\n",
       " 'toekomst klimaatverandering': ['klimaatverandering toekomst'],\n",
       " 'klimaat doelen': ['doelen klimaat'],\n",
       " 'klimaat akkoord parijs': ['parijs klimaat akkoord'],\n",
       " 'feiten klimaatverandering': ['klimaatverandering feiten'],\n",
       " 'aanpak klimaat': ['klimaat aanpak'],\n",
       " 'co2 uitstoot klimaat': ['klimaat co2 uitstoot'],\n",
       " 'stijging zeespiegel': ['zeespiegel stijging'],\n",
       " 'subsidie klimaat': ['klimaat subsidie'],\n",
       " 'klimaat laatste nieuws': ['laatste nieuws klimaat'],\n",
       " 'klimaat gevolgen': ['gevolgen klimaat'],\n",
       " 'klimaat duurzaamheid': ['duurzaamheid klimaat'],\n",
       " 'uitstoot co2': ['co2 uitstoot'],\n",
       " 'klimaat oplossingen': ['oplossingen klimaat'],\n",
       " 'zeewater stijging': ['stijging zeewater'],\n",
       " 'knmi klimaatverandering': ['klimaatverandering knmi'],\n",
       " 'stemming in nederland 2021': ['stemming 2021 in nederland'],\n",
       " 'subsidie zonnepanelen': ['zonnepanelen subsidie'],\n",
       " 'klimaat wereld': ['wereld klimaat']}"
      ]
     },
     "execution_count": 37,
     "metadata": {},
     "output_type": "execute_result"
    }
   ],
   "source": [
    "matches"
   ]
  },
  {
   "cell_type": "code",
   "execution_count": null,
   "metadata": {},
   "outputs": [],
   "source": []
  }
 ],
 "metadata": {
  "kernelspec": {
   "display_name": "Python 3",
   "language": "python",
   "name": "python3"
  },
  "language_info": {
   "codemirror_mode": {
    "name": "ipython",
    "version": 3
   },
   "file_extension": ".py",
   "mimetype": "text/x-python",
   "name": "python",
   "nbconvert_exporter": "python",
   "pygments_lexer": "ipython3",
   "version": "3.8.2"
  }
 },
 "nbformat": 4,
 "nbformat_minor": 4
}

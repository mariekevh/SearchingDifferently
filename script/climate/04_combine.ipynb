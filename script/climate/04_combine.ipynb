{
 "cells": [
  {
   "cell_type": "markdown",
   "metadata": {},
   "source": [
    "# 04 Combine files and descriptive statistics (Climate)\n",
    "Combine the following files for further analyses and descriptive statistics:\n",
    "- Manually annotated search queries (ICR + 90% sample)\n",
    "- Other search query indicators\n",
    "- Background characteristics\n",
    "\n",
    "This notebook returns files used for LCA analysis and regression analysis in R, descriptive statistics, as well as a file for robustness check (looser selection criteria: at least two valid search queries)."
   ]
  },
  {
   "cell_type": "code",
   "execution_count": 1,
   "metadata": {},
   "outputs": [
    {
     "name": "stderr",
     "output_type": "stream",
     "text": [
      "/Users/marieke/Library/Python/3.8/lib/python/site-packages/outdated/utils.py:14: OutdatedPackageWarning: The package pingouin is out of date. Your version is 0.3.10, the latest is 0.5.1.\n",
      "Set the environment variable OUTDATED_IGNORE=1 to disable these warnings.\n",
      "  return warn(\n",
      "/Users/marieke/Library/Python/3.8/lib/python/site-packages/fuzzywuzzy/fuzz.py:11: UserWarning: Using slow pure-python SequenceMatcher. Install python-Levenshtein to remove this warning\n",
      "  warnings.warn('Using slow pure-python SequenceMatcher. Install python-Levenshtein to remove this warning')\n"
     ]
    }
   ],
   "source": [
    "import pandas as pd\n",
    "import numpy as np\n",
    "import pingouin as pg\n",
    "import json\n",
    "from tqdm import tqdm\n",
    "from fuzzywuzzy import fuzz"
   ]
  },
  {
   "cell_type": "code",
   "execution_count": 2,
   "metadata": {},
   "outputs": [],
   "source": [
    "# setting paths\n",
    "PATH = '/Users/marieke/SearchingForBias'"
   ]
  },
  {
   "cell_type": "code",
   "execution_count": 3,
   "metadata": {},
   "outputs": [
    {
     "data": {
      "text/plain": [
       "(1994, 19)"
      ]
     },
     "execution_count": 3,
     "metadata": {},
     "output_type": "execute_result"
    }
   ],
   "source": [
    "df = pd.read_pickle(PATH+'/data/climate/02_df_sq_vars.pkl')\n",
    "df.shape"
   ]
  },
  {
   "cell_type": "code",
   "execution_count": 4,
   "metadata": {},
   "outputs": [
    {
     "data": {
      "text/plain": [
       "(1994, 12)"
      ]
     },
     "execution_count": 4,
     "metadata": {},
     "output_type": "execute_result"
    }
   ],
   "source": [
    "#BACKGROUND VARS\n",
    "df_bg = pd.read_pickle(PATH+'/data/climate/01_df_bg.pkl')\n",
    "df_bg.shape"
   ]
  },
  {
   "cell_type": "code",
   "execution_count": 5,
   "metadata": {},
   "outputs": [],
   "source": [
    "df_bg = df_bg.set_index(\"ID\", drop=True)"
   ]
  },
  {
   "cell_type": "code",
   "execution_count": 6,
   "metadata": {},
   "outputs": [],
   "source": [
    "## merge \n",
    "df = pd.merge(df, df_bg, left_index=True, right_index=True, how=\"left\")\n",
    "df = df.reset_index()"
   ]
  },
  {
   "cell_type": "code",
   "execution_count": 7,
   "metadata": {},
   "outputs": [],
   "source": [
    "#df.head()"
   ]
  },
  {
   "cell_type": "code",
   "execution_count": 8,
   "metadata": {},
   "outputs": [
    {
     "data": {
      "text/plain": [
       "(2671, 25)"
      ]
     },
     "execution_count": 8,
     "metadata": {},
     "output_type": "execute_result"
    }
   ],
   "source": [
    "## Annotated file (manually fixed encoding issues)\n",
    "sq = pd.read_excel(PATH+\"/data/climate/manual_coding/sq_cc_annotation_18062021_full_coded_TDV_encoding.xlsx\", engine='openpyxl')\n",
    "sq.shape"
   ]
  },
  {
   "cell_type": "code",
   "execution_count": 9,
   "metadata": {},
   "outputs": [],
   "source": [
    "# matches (in different word order)\n",
    "with open(PATH+'/data/climate/manual_coding/sq_matches_14062021.txt', 'r') as fi:\n",
    "    matches = json.load(fi)"
   ]
  },
  {
   "cell_type": "code",
   "execution_count": 10,
   "metadata": {},
   "outputs": [],
   "source": [
    "# add rows to sq for search queries with different word order\n",
    "df_list=[]\n",
    "for k, v in matches.items():\n",
    "    for i in v:\n",
    "        #print(i)\n",
    "        tmpdf = sq.loc[sq['search query'] == k].copy()\n",
    "        tmpdf['search query'] = i\n",
    "        df_list.append(tmpdf)"
   ]
  },
  {
   "cell_type": "code",
   "execution_count": 11,
   "metadata": {},
   "outputs": [
    {
     "name": "stderr",
     "output_type": "stream",
     "text": [
      "<ipython-input-11-38b7c9405222>:2: FutureWarning: The frame.append method is deprecated and will be removed from pandas in a future version. Use pandas.concat instead.\n",
      "  sq_total = sq.append(pd.concat(df_list), ignore_index=True, sort=True)\n"
     ]
    },
    {
     "data": {
      "text/plain": [
       "(2758, 25)"
      ]
     },
     "execution_count": 11,
     "metadata": {},
     "output_type": "execute_result"
    }
   ],
   "source": [
    "# append matches rows to sq tot make sq_total\n",
    "sq_total = sq.append(pd.concat(df_list), ignore_index=True, sort=True)\n",
    "sq_total.shape"
   ]
  },
  {
   "cell_type": "code",
   "execution_count": 12,
   "metadata": {},
   "outputs": [],
   "source": [
    "# append columns for each search query match, for each search query column in the main df.\n",
    "# search query col 1\n",
    "tmpdf = sq_total.copy()\n",
    "tmpdf.columns = [c+\"_1\" for c in tmpdf.columns]\n",
    "df = pd.merge(df, tmpdf, left_on=\"MVH_search_cc_1_lp\", right_on=\"search query_1\", how=\"left\")"
   ]
  },
  {
   "cell_type": "code",
   "execution_count": 13,
   "metadata": {},
   "outputs": [],
   "source": [
    "# search query col 2\n",
    "tmpdf = sq_total.copy()\n",
    "tmpdf.columns = [c+\"_2\" for c in tmpdf.columns]\n",
    "df = pd.merge(df, tmpdf, left_on=\"MVH_search_cc_2_lp\", right_on=\"search query_2\", how=\"left\")"
   ]
  },
  {
   "cell_type": "code",
   "execution_count": 14,
   "metadata": {},
   "outputs": [],
   "source": [
    "# search query col 3\n",
    "tmpdf = sq_total.copy()\n",
    "tmpdf.columns = [c+\"_3\" for c in tmpdf.columns]\n",
    "df = pd.merge(df, tmpdf, left_on=\"MVH_search_cc_3_lp\", right_on=\"search query_3\", how=\"left\")"
   ]
  },
  {
   "cell_type": "code",
   "execution_count": 15,
   "metadata": {},
   "outputs": [],
   "source": [
    "# missing search query --> invalid search query\n",
    "df.loc[df['search query_1'].isna(), 'GELDIG_1'] = 0\n",
    "df.loc[df['search query_2'].isna(), 'GELDIG_2'] = 0\n",
    "df.loc[df['search query_3'].isna(), 'GELDIG_3'] = 0"
   ]
  },
  {
   "cell_type": "code",
   "execution_count": 16,
   "metadata": {},
   "outputs": [
    {
     "data": {
      "text/plain": [
       "3.0    1729\n",
       "2.0      97\n",
       "0.0      92\n",
       "1.0      76\n",
       "Name: total_valid, dtype: int64"
      ]
     },
     "execution_count": 16,
     "metadata": {},
     "output_type": "execute_result"
    }
   ],
   "source": [
    "# how many valid search queries per person.\n",
    "df['total_valid'] = df[['GELDIG_1', 'GELDIG_2', 'GELDIG_3']].sum(axis=1)\n",
    "df['total_valid'].value_counts(dropna=False) #,normalize=True)*100"
   ]
  },
  {
   "cell_type": "code",
   "execution_count": 17,
   "metadata": {},
   "outputs": [
    {
     "data": {
      "text/plain": [
       "3.0    86.710130\n",
       "2.0     4.864594\n",
       "0.0     4.613842\n",
       "1.0     3.811434\n",
       "Name: total_valid, dtype: float64"
      ]
     },
     "execution_count": 17,
     "metadata": {},
     "output_type": "execute_result"
    }
   ],
   "source": [
    "df['total_valid'].value_counts(dropna=False,normalize=True)*100"
   ]
  },
  {
   "cell_type": "code",
   "execution_count": 18,
   "metadata": {},
   "outputs": [
    {
     "data": {
      "text/plain": [
       "2    52.0\n",
       "3    40.0\n",
       "1     8.0\n",
       "Name: opl_3cat, dtype: float64"
      ]
     },
     "execution_count": 18,
     "metadata": {},
     "output_type": "execute_result"
    }
   ],
   "source": [
    "### descriptive: age, education, gender (for sample selection bias)\n",
    "round(df.opl_3cat.value_counts(normalize=True, dropna=False)*100)"
   ]
  },
  {
   "cell_type": "code",
   "execution_count": 19,
   "metadata": {},
   "outputs": [
    {
     "data": {
      "text/plain": [
       "1    50.0\n",
       "2    49.0\n",
       "3     0.0\n",
       "Name: base_gender, dtype: float64"
      ]
     },
     "execution_count": 19,
     "metadata": {},
     "output_type": "execute_result"
    }
   ],
   "source": [
    "round(df.base_gender.value_counts(normalize=True, dropna=False)*100)"
   ]
  },
  {
   "cell_type": "code",
   "execution_count": 20,
   "metadata": {},
   "outputs": [
    {
     "data": {
      "text/plain": [
       "46"
      ]
     },
     "execution_count": 20,
     "metadata": {},
     "output_type": "execute_result"
    }
   ],
   "source": [
    "round(df.base_lft.mean())"
   ]
  },
  {
   "cell_type": "code",
   "execution_count": 21,
   "metadata": {},
   "outputs": [
    {
     "data": {
      "text/plain": [
       "(1729, 107)"
      ]
     },
     "execution_count": 21,
     "metadata": {},
     "output_type": "execute_result"
    }
   ],
   "source": [
    "# only include respondents with three valid search queries.\n",
    "df = df[((df.GELDIG_1==1)&(df.GELDIG_2==1)&(df.GELDIG_3==1))].copy()\n",
    "df.shape # new sample size: 1729"
   ]
  },
  {
   "cell_type": "code",
   "execution_count": 22,
   "metadata": {},
   "outputs": [
    {
     "name": "stdout",
     "output_type": "stream",
     "text": [
      "     TAAL_1\n",
      "0.0    1672\n",
      "1.0      57\n",
      "     TAAL_2\n",
      "0.0    1660\n",
      "1.0      69\n",
      "     TAAL_3\n",
      "0.0    1674\n",
      "1.0      55\n"
     ]
    }
   ],
   "source": [
    "# only Dutch and English present\n",
    "for c in ['TAAL_1', 'TAAL_2', 'TAAL_3']:\n",
    "    print(pd.DataFrame(df[c].value_counts(dropna=False)))"
   ]
  },
  {
   "cell_type": "code",
   "execution_count": 23,
   "metadata": {},
   "outputs": [],
   "source": [
    "# combine variables in one 'overall' variable for all three search queries.\n",
    "sq_cols = [c for c in sq_total.columns if c not in [\"Comments\", \"search query\"]]\n",
    "#sq_cols"
   ]
  },
  {
   "cell_type": "code",
   "execution_count": 24,
   "metadata": {},
   "outputs": [
    {
     "data": {
      "text/plain": [
       "['ACTIVISME',\n",
       " 'CO2',\n",
       " 'DISCUSSIE',\n",
       " 'EFFECTIEF',\n",
       " 'ENERGIE',\n",
       " 'GELDIG',\n",
       " 'GEVOLG',\n",
       " 'INDIVIDUEEL_GEDRAG',\n",
       " 'INDUSTRIE',\n",
       " 'INFO_OPLOSSINGEN',\n",
       " 'INFO_STATUS_QUO',\n",
       " 'MILIEU',\n",
       " 'ONGECATEGORISEERD',\n",
       " 'OORZAKEN',\n",
       " 'POLITIEK_BELEID',\n",
       " 'SCEPTICI',\n",
       " 'SCEPTICI_PERSONEN',\n",
       " 'SPECIFIEK',\n",
       " 'STIKSTOF',\n",
       " 'TAAL',\n",
       " 'VERVOER',\n",
       " 'VOEDSELINDUSTRIE',\n",
       " 'VRAAG']"
      ]
     },
     "execution_count": 24,
     "metadata": {},
     "output_type": "execute_result"
    }
   ],
   "source": [
    "sq_cols"
   ]
  },
  {
   "cell_type": "code",
   "execution_count": 25,
   "metadata": {},
   "outputs": [],
   "source": [
    "for c in sq_cols:\n",
    "    df[c] = np.where(df[[f'{c}_1', f'{c}_2', f'{c}_3']].sum(axis=1)>=1, 1, 0)"
   ]
  },
  {
   "cell_type": "code",
   "execution_count": 26,
   "metadata": {},
   "outputs": [
    {
     "data": {
      "text/html": [
       "<div>\n",
       "<style scoped>\n",
       "    .dataframe tbody tr th:only-of-type {\n",
       "        vertical-align: middle;\n",
       "    }\n",
       "\n",
       "    .dataframe tbody tr th {\n",
       "        vertical-align: top;\n",
       "    }\n",
       "\n",
       "    .dataframe thead th {\n",
       "        text-align: right;\n",
       "    }\n",
       "</style>\n",
       "<table border=\"1\" class=\"dataframe\">\n",
       "  <thead>\n",
       "    <tr style=\"text-align: right;\">\n",
       "      <th></th>\n",
       "      <th>ID</th>\n",
       "      <th>MVH_search_cc_1</th>\n",
       "      <th>MVH_search_cc_2</th>\n",
       "      <th>MVH_search_cc_3</th>\n",
       "      <th>MVH_search_cc_1_lp</th>\n",
       "      <th>MVH_search_cc_2_lp</th>\n",
       "      <th>MVH_search_cc_3_lp</th>\n",
       "      <th>MVH_search_cc_1_lp_nwords</th>\n",
       "      <th>MVH_search_cc_2_lp_nwords</th>\n",
       "      <th>MVH_search_cc_3_lp_nwords</th>\n",
       "      <th>...</th>\n",
       "      <th>OORZAKEN</th>\n",
       "      <th>POLITIEK_BELEID</th>\n",
       "      <th>SCEPTICI</th>\n",
       "      <th>SCEPTICI_PERSONEN</th>\n",
       "      <th>SPECIFIEK</th>\n",
       "      <th>STIKSTOF</th>\n",
       "      <th>TAAL</th>\n",
       "      <th>VERVOER</th>\n",
       "      <th>VOEDSELINDUSTRIE</th>\n",
       "      <th>VRAAG</th>\n",
       "    </tr>\n",
       "  </thead>\n",
       "  <tbody>\n",
       "    <tr>\n",
       "      <th>1</th>\n",
       "      <td>2</td>\n",
       "      <td>klimaat</td>\n",
       "      <td>klimaatverandering</td>\n",
       "      <td>wereldwijd klimaat</td>\n",
       "      <td>klimaat</td>\n",
       "      <td>klimaatverandering</td>\n",
       "      <td>wereldwijd klimaat</td>\n",
       "      <td>1</td>\n",
       "      <td>1</td>\n",
       "      <td>2</td>\n",
       "      <td>...</td>\n",
       "      <td>0</td>\n",
       "      <td>0</td>\n",
       "      <td>0</td>\n",
       "      <td>0</td>\n",
       "      <td>0</td>\n",
       "      <td>0</td>\n",
       "      <td>0</td>\n",
       "      <td>0</td>\n",
       "      <td>0</td>\n",
       "      <td>0</td>\n",
       "    </tr>\n",
       "    <tr>\n",
       "      <th>2</th>\n",
       "      <td>3</td>\n",
       "      <td>Climate change</td>\n",
       "      <td>What causes the global warming?</td>\n",
       "      <td>Klimaatverandering</td>\n",
       "      <td>climate change</td>\n",
       "      <td>what causes the global warming</td>\n",
       "      <td>klimaatverandering</td>\n",
       "      <td>2</td>\n",
       "      <td>5</td>\n",
       "      <td>1</td>\n",
       "      <td>...</td>\n",
       "      <td>1</td>\n",
       "      <td>0</td>\n",
       "      <td>0</td>\n",
       "      <td>0</td>\n",
       "      <td>1</td>\n",
       "      <td>0</td>\n",
       "      <td>1</td>\n",
       "      <td>0</td>\n",
       "      <td>0</td>\n",
       "      <td>1</td>\n",
       "    </tr>\n",
       "    <tr>\n",
       "      <th>3</th>\n",
       "      <td>4</td>\n",
       "      <td>Global warming</td>\n",
       "      <td>C02</td>\n",
       "      <td>Greenhouse gases</td>\n",
       "      <td>global warming</td>\n",
       "      <td>c02</td>\n",
       "      <td>greenhouse gases</td>\n",
       "      <td>2</td>\n",
       "      <td>1</td>\n",
       "      <td>2</td>\n",
       "      <td>...</td>\n",
       "      <td>0</td>\n",
       "      <td>0</td>\n",
       "      <td>0</td>\n",
       "      <td>0</td>\n",
       "      <td>1</td>\n",
       "      <td>0</td>\n",
       "      <td>1</td>\n",
       "      <td>0</td>\n",
       "      <td>0</td>\n",
       "      <td>0</td>\n",
       "    </tr>\n",
       "    <tr>\n",
       "      <th>4</th>\n",
       "      <td>5</td>\n",
       "      <td>klimaatbeleid Nederland</td>\n",
       "      <td>CO2 uitstoot</td>\n",
       "      <td>Klimaat</td>\n",
       "      <td>klimaatbeleid nederland</td>\n",
       "      <td>co2 uitstoot</td>\n",
       "      <td>klimaat</td>\n",
       "      <td>2</td>\n",
       "      <td>2</td>\n",
       "      <td>1</td>\n",
       "      <td>...</td>\n",
       "      <td>0</td>\n",
       "      <td>1</td>\n",
       "      <td>0</td>\n",
       "      <td>0</td>\n",
       "      <td>1</td>\n",
       "      <td>0</td>\n",
       "      <td>0</td>\n",
       "      <td>0</td>\n",
       "      <td>0</td>\n",
       "      <td>0</td>\n",
       "    </tr>\n",
       "    <tr>\n",
       "      <th>5</th>\n",
       "      <td>6</td>\n",
       "      <td>Uitstoot China</td>\n",
       "      <td>Co2</td>\n",
       "      <td>Uitstoot Verenigde Staten</td>\n",
       "      <td>uitstoot china</td>\n",
       "      <td>co2</td>\n",
       "      <td>uitstoot verenigde staten</td>\n",
       "      <td>2</td>\n",
       "      <td>1</td>\n",
       "      <td>3</td>\n",
       "      <td>...</td>\n",
       "      <td>0</td>\n",
       "      <td>0</td>\n",
       "      <td>0</td>\n",
       "      <td>0</td>\n",
       "      <td>1</td>\n",
       "      <td>0</td>\n",
       "      <td>0</td>\n",
       "      <td>0</td>\n",
       "      <td>0</td>\n",
       "      <td>0</td>\n",
       "    </tr>\n",
       "  </tbody>\n",
       "</table>\n",
       "<p>5 rows × 130 columns</p>\n",
       "</div>"
      ],
      "text/plain": [
       "   ID          MVH_search_cc_1                  MVH_search_cc_2  \\\n",
       "1   2                  klimaat               klimaatverandering   \n",
       "2   3           Climate change  What causes the global warming?   \n",
       "3   4           Global warming                              C02   \n",
       "4   5  klimaatbeleid Nederland                     CO2 uitstoot   \n",
       "5   6           Uitstoot China                              Co2   \n",
       "\n",
       "             MVH_search_cc_3       MVH_search_cc_1_lp  \\\n",
       "1         wereldwijd klimaat                  klimaat   \n",
       "2         Klimaatverandering           climate change   \n",
       "3           Greenhouse gases           global warming   \n",
       "4                    Klimaat  klimaatbeleid nederland   \n",
       "5  Uitstoot Verenigde Staten           uitstoot china   \n",
       "\n",
       "               MVH_search_cc_2_lp         MVH_search_cc_3_lp  \\\n",
       "1              klimaatverandering         wereldwijd klimaat   \n",
       "2  what causes the global warming         klimaatverandering   \n",
       "3                             c02           greenhouse gases   \n",
       "4                    co2 uitstoot                    klimaat   \n",
       "5                             co2  uitstoot verenigde staten   \n",
       "\n",
       "   MVH_search_cc_1_lp_nwords  MVH_search_cc_2_lp_nwords  \\\n",
       "1                          1                          1   \n",
       "2                          2                          5   \n",
       "3                          2                          1   \n",
       "4                          2                          2   \n",
       "5                          2                          1   \n",
       "\n",
       "   MVH_search_cc_3_lp_nwords  ...  OORZAKEN  POLITIEK_BELEID  SCEPTICI  \\\n",
       "1                          2  ...         0                0         0   \n",
       "2                          1  ...         1                0         0   \n",
       "3                          2  ...         0                0         0   \n",
       "4                          1  ...         0                1         0   \n",
       "5                          3  ...         0                0         0   \n",
       "\n",
       "   SCEPTICI_PERSONEN  SPECIFIEK  STIKSTOF  TAAL  VERVOER  VOEDSELINDUSTRIE  \\\n",
       "1                  0          0         0     0        0                 0   \n",
       "2                  0          1         0     1        0                 0   \n",
       "3                  0          1         0     1        0                 0   \n",
       "4                  0          1         0     0        0                 0   \n",
       "5                  0          1         0     0        0                 0   \n",
       "\n",
       "  VRAAG  \n",
       "1     0  \n",
       "2     1  \n",
       "3     0  \n",
       "4     0  \n",
       "5     0  \n",
       "\n",
       "[5 rows x 130 columns]"
      ]
     },
     "execution_count": 26,
     "metadata": {},
     "output_type": "execute_result"
    }
   ],
   "source": [
    "df.head()"
   ]
  },
  {
   "cell_type": "code",
   "execution_count": 27,
   "metadata": {},
   "outputs": [],
   "source": [
    "### save df for LCA analysis\n",
    "df.to_csv(PATH+\"/data/climate/df_analysis.csv\",sep='\\t', index=False)"
   ]
  },
  {
   "cell_type": "markdown",
   "metadata": {},
   "source": [
    "### DESCRIPTIVE STATISTICS"
   ]
  },
  {
   "cell_type": "code",
   "execution_count": 28,
   "metadata": {},
   "outputs": [],
   "source": [
    "cols_lp = [\"MVH_search_cc_1_lp\", \"MVH_search_cc_2_lp\", \"MVH_search_cc_3_lp\"]"
   ]
  },
  {
   "cell_type": "code",
   "execution_count": 29,
   "metadata": {},
   "outputs": [
    {
     "name": "stdout",
     "output_type": "stream",
     "text": [
      "total number of valid search queries: 5187\n",
      "unique search queries: 2415\n"
     ]
    }
   ],
   "source": [
    "# how many unique search queries\n",
    "all_sq = [item for sublist in df[cols_lp].values.tolist() for item in sublist]\n",
    "print(\"total number of valid search queries:\", len(all_sq))\n",
    "tmplst = set(all_sq)\n",
    "print(\"unique search queries:\", len(tmplst))"
   ]
  },
  {
   "cell_type": "code",
   "execution_count": 30,
   "metadata": {},
   "outputs": [
    {
     "name": "stderr",
     "output_type": "stream",
     "text": [
      "100%|██████████| 2415/2415 [08:31<00:00,  4.72it/s]\n"
     ]
    }
   ],
   "source": [
    "doubles = []\n",
    "for i, element in enumerate(tqdm(tmplst)):\n",
    "    for sq in list(tmplst)[i+1:]:\n",
    "        if fuzz.token_sort_ratio(element, sq)>=100:\n",
    "            doubles.append(element)\n",
    "        else:\n",
    "            pass"
   ]
  },
  {
   "cell_type": "code",
   "execution_count": 31,
   "metadata": {},
   "outputs": [
    {
     "name": "stdout",
     "output_type": "stream",
     "text": [
      "unique search queries regardless of word order: 2331\n"
     ]
    }
   ],
   "source": [
    "u_sq = [c for c in list(tmplst) if c not in doubles]\n",
    "print(\"unique search queries regardless of word order:\", len(u_sq))"
   ]
  },
  {
   "cell_type": "code",
   "execution_count": 32,
   "metadata": {},
   "outputs": [
    {
     "data": {
      "text/plain": [
       "count    1729.000000\n",
       "mean       17.771930\n",
       "std         8.828548\n",
       "min         2.666667\n",
       "25%        12.000000\n",
       "50%        16.000000\n",
       "75%        22.000000\n",
       "max        77.333333\n",
       "Name: im_len_mean, dtype: float64"
      ]
     },
     "execution_count": 32,
     "metadata": {},
     "output_type": "execute_result"
    }
   ],
   "source": [
    "# average length of search queries\n",
    "df[\"im_len_mean\"].describe()"
   ]
  },
  {
   "cell_type": "code",
   "execution_count": 33,
   "metadata": {},
   "outputs": [
    {
     "data": {
      "text/plain": [
       "count    1729.000000\n",
       "mean        2.217852\n",
       "std         1.437472\n",
       "min         1.000000\n",
       "25%         1.333333\n",
       "50%         1.666667\n",
       "75%         2.666667\n",
       "max        14.000000\n",
       "Name: im_nwords_mean, dtype: float64"
      ]
     },
     "execution_count": 33,
     "metadata": {},
     "output_type": "execute_result"
    }
   ],
   "source": [
    "# average number of words per search query.\n",
    "df['im_nwords_mean'].describe()"
   ]
  },
  {
   "cell_type": "code",
   "execution_count": 34,
   "metadata": {},
   "outputs": [],
   "source": [
    "# descriptives for indicators"
   ]
  },
  {
   "cell_type": "code",
   "execution_count": 35,
   "metadata": {},
   "outputs": [],
   "source": [
    "varnames1 = ['SPECIFIEK', 'EFFECTIEF', 'VRAAG', 'TAAL']\n",
    "varnames2= [c for c in sq_cols if c not in varnames1]"
   ]
  },
  {
   "cell_type": "code",
   "execution_count": 36,
   "metadata": {},
   "outputs": [
    {
     "data": {
      "text/plain": [
       "['ACTIVISME',\n",
       " 'CO2',\n",
       " 'DISCUSSIE',\n",
       " 'ENERGIE',\n",
       " 'GELDIG',\n",
       " 'GEVOLG',\n",
       " 'INDIVIDUEEL_GEDRAG',\n",
       " 'INDUSTRIE',\n",
       " 'INFO_OPLOSSINGEN',\n",
       " 'INFO_STATUS_QUO',\n",
       " 'MILIEU',\n",
       " 'ONGECATEGORISEERD',\n",
       " 'OORZAKEN',\n",
       " 'POLITIEK_BELEID',\n",
       " 'SCEPTICI',\n",
       " 'SCEPTICI_PERSONEN',\n",
       " 'STIKSTOF',\n",
       " 'VERVOER',\n",
       " 'VOEDSELINDUSTRIE']"
      ]
     },
     "execution_count": 36,
     "metadata": {},
     "output_type": "execute_result"
    }
   ],
   "source": [
    "varnames2"
   ]
  },
  {
   "cell_type": "code",
   "execution_count": 37,
   "metadata": {},
   "outputs": [],
   "source": [
    "#tmp1 = pd.DataFrame([(df[varnames1].mean()*100), (df[varnames1].apply(pd.Series.value_counts).T[1])], columns=[\"Freq (%)\", \"N\"])\n",
    "tmp1 = pd.DataFrame(round(df[varnames1+varnames2].mean()*100, 1), columns=[\"Freq (%)\"])\n",
    "tmp2 = pd.DataFrame((df[varnames1+varnames2].apply(pd.Series.value_counts).T[1]))"
   ]
  },
  {
   "cell_type": "code",
   "execution_count": 38,
   "metadata": {},
   "outputs": [
    {
     "name": "stderr",
     "output_type": "stream",
     "text": [
      "<ipython-input-38-0c1d3c95b117>:3: FutureWarning: In future versions `DataFrame.to_latex` is expected to utilise the base implementation of `Styler.to_latex` for formatting and rendering. The arguments signature may therefore change. It is recommended instead to use `DataFrame.style.to_latex` which also contains additional functionality.\n",
      "  sq_des.to_latex(PATH+\"/report/tables/climate/sq_descriptives.tex\")\n"
     ]
    },
    {
     "data": {
      "text/html": [
       "<div>\n",
       "<style scoped>\n",
       "    .dataframe tbody tr th:only-of-type {\n",
       "        vertical-align: middle;\n",
       "    }\n",
       "\n",
       "    .dataframe tbody tr th {\n",
       "        vertical-align: top;\n",
       "    }\n",
       "\n",
       "    .dataframe thead th {\n",
       "        text-align: right;\n",
       "    }\n",
       "</style>\n",
       "<table border=\"1\" class=\"dataframe\">\n",
       "  <thead>\n",
       "    <tr style=\"text-align: right;\">\n",
       "      <th></th>\n",
       "      <th>Freq (%)</th>\n",
       "      <th>1</th>\n",
       "    </tr>\n",
       "  </thead>\n",
       "  <tbody>\n",
       "    <tr>\n",
       "      <th>GELDIG</th>\n",
       "      <td>100.0</td>\n",
       "      <td>1729.0</td>\n",
       "    </tr>\n",
       "    <tr>\n",
       "      <th>SPECIFIEK</th>\n",
       "      <td>98.7</td>\n",
       "      <td>1707.0</td>\n",
       "    </tr>\n",
       "    <tr>\n",
       "      <th>EFFECTIEF</th>\n",
       "      <td>97.3</td>\n",
       "      <td>1683.0</td>\n",
       "    </tr>\n",
       "    <tr>\n",
       "      <th>GEVOLG</th>\n",
       "      <td>41.4</td>\n",
       "      <td>716.0</td>\n",
       "    </tr>\n",
       "    <tr>\n",
       "      <th>POLITIEK_BELEID</th>\n",
       "      <td>35.5</td>\n",
       "      <td>614.0</td>\n",
       "    </tr>\n",
       "    <tr>\n",
       "      <th>INFO_STATUS_QUO</th>\n",
       "      <td>26.5</td>\n",
       "      <td>459.0</td>\n",
       "    </tr>\n",
       "    <tr>\n",
       "      <th>MILIEU</th>\n",
       "      <td>18.4</td>\n",
       "      <td>319.0</td>\n",
       "    </tr>\n",
       "    <tr>\n",
       "      <th>INFO_OPLOSSINGEN</th>\n",
       "      <td>15.1</td>\n",
       "      <td>261.0</td>\n",
       "    </tr>\n",
       "    <tr>\n",
       "      <th>VRAAG</th>\n",
       "      <td>13.8</td>\n",
       "      <td>239.0</td>\n",
       "    </tr>\n",
       "    <tr>\n",
       "      <th>CO2</th>\n",
       "      <td>13.1</td>\n",
       "      <td>226.0</td>\n",
       "    </tr>\n",
       "    <tr>\n",
       "      <th>INDIVIDUEEL_GEDRAG</th>\n",
       "      <td>12.1</td>\n",
       "      <td>209.0</td>\n",
       "    </tr>\n",
       "    <tr>\n",
       "      <th>ENERGIE</th>\n",
       "      <td>11.2</td>\n",
       "      <td>194.0</td>\n",
       "    </tr>\n",
       "    <tr>\n",
       "      <th>TAAL</th>\n",
       "      <td>7.1</td>\n",
       "      <td>123.0</td>\n",
       "    </tr>\n",
       "    <tr>\n",
       "      <th>ONGECATEGORISEERD</th>\n",
       "      <td>5.1</td>\n",
       "      <td>89.0</td>\n",
       "    </tr>\n",
       "    <tr>\n",
       "      <th>SCEPTICI</th>\n",
       "      <td>4.2</td>\n",
       "      <td>72.0</td>\n",
       "    </tr>\n",
       "    <tr>\n",
       "      <th>ACTIVISME</th>\n",
       "      <td>4.1</td>\n",
       "      <td>71.0</td>\n",
       "    </tr>\n",
       "    <tr>\n",
       "      <th>DISCUSSIE</th>\n",
       "      <td>3.9</td>\n",
       "      <td>67.0</td>\n",
       "    </tr>\n",
       "    <tr>\n",
       "      <th>STIKSTOF</th>\n",
       "      <td>3.9</td>\n",
       "      <td>67.0</td>\n",
       "    </tr>\n",
       "    <tr>\n",
       "      <th>VOEDSELINDUSTRIE</th>\n",
       "      <td>3.1</td>\n",
       "      <td>53.0</td>\n",
       "    </tr>\n",
       "    <tr>\n",
       "      <th>OORZAKEN</th>\n",
       "      <td>2.9</td>\n",
       "      <td>51.0</td>\n",
       "    </tr>\n",
       "    <tr>\n",
       "      <th>VERVOER</th>\n",
       "      <td>2.6</td>\n",
       "      <td>45.0</td>\n",
       "    </tr>\n",
       "    <tr>\n",
       "      <th>INDUSTRIE</th>\n",
       "      <td>1.8</td>\n",
       "      <td>31.0</td>\n",
       "    </tr>\n",
       "    <tr>\n",
       "      <th>SCEPTICI_PERSONEN</th>\n",
       "      <td>1.1</td>\n",
       "      <td>19.0</td>\n",
       "    </tr>\n",
       "  </tbody>\n",
       "</table>\n",
       "</div>"
      ],
      "text/plain": [
       "                    Freq (%)       1\n",
       "GELDIG                 100.0  1729.0\n",
       "SPECIFIEK               98.7  1707.0\n",
       "EFFECTIEF               97.3  1683.0\n",
       "GEVOLG                  41.4   716.0\n",
       "POLITIEK_BELEID         35.5   614.0\n",
       "INFO_STATUS_QUO         26.5   459.0\n",
       "MILIEU                  18.4   319.0\n",
       "INFO_OPLOSSINGEN        15.1   261.0\n",
       "VRAAG                   13.8   239.0\n",
       "CO2                     13.1   226.0\n",
       "INDIVIDUEEL_GEDRAG      12.1   209.0\n",
       "ENERGIE                 11.2   194.0\n",
       "TAAL                     7.1   123.0\n",
       "ONGECATEGORISEERD        5.1    89.0\n",
       "SCEPTICI                 4.2    72.0\n",
       "ACTIVISME                4.1    71.0\n",
       "DISCUSSIE                3.9    67.0\n",
       "STIKSTOF                 3.9    67.0\n",
       "VOEDSELINDUSTRIE         3.1    53.0\n",
       "OORZAKEN                 2.9    51.0\n",
       "VERVOER                  2.6    45.0\n",
       "INDUSTRIE                1.8    31.0\n",
       "SCEPTICI_PERSONEN        1.1    19.0"
      ]
     },
     "execution_count": 38,
     "metadata": {},
     "output_type": "execute_result"
    }
   ],
   "source": [
    "sq_des = tmp1.join(tmp2)\n",
    "sq_des = sq_des.sort_values(sq_des.columns[1], ascending=False)\n",
    "sq_des.to_latex(PATH+\"/report/tables/climate/sq_descriptives.tex\")\n",
    "sq_des"
   ]
  },
  {
   "cell_type": "code",
   "execution_count": 39,
   "metadata": {},
   "outputs": [],
   "source": [
    "# clean up dataframe\n",
    "#drop valid,specific,language,question,effectief\n",
    "names = {'GEVOLG':'Consequences',\n",
    "         'POLITIEK_BELEID':'Politics & policy',\n",
    "         'INFO_STATUS_QUO':'Trends and current status',\n",
    "         'MILIEU':'Environmental problems',\n",
    "         'INFO_OPLOSSINGEN':'Solutions',\n",
    "         'CO2':'Carbon',\n",
    "         'INDIVIDUEEL_GEDRAG':'Individual behaviour',\n",
    "         'ENERGIE':'Energy',\n",
    "         'SCEPTICI':'Climate change denial',\n",
    "         'ACTIVISME':'Activism',\n",
    "         'DISCUSSIE':'Debate',\n",
    "         'STIKSTOF':'Nitrogen',\n",
    "         'VOEDSELINDUSTRIE':'Agriculture',\n",
    "         'OORZAKEN':'Causes',\n",
    "         'VERVOER':'Transport',\n",
    "         'INDUSTRIE':'Industry',\n",
    "         'SCEPTICI_PERSONEN':'Climate change deniers'\n",
    "        }\n",
    "sq_des = sq_des[sq_des.index.isin(list(names.keys()))]\n",
    "sq_des.index=sq_des.index.map(names)"
   ]
  },
  {
   "cell_type": "code",
   "execution_count": 40,
   "metadata": {},
   "outputs": [
    {
     "data": {
      "text/plain": [
       "['GEVOLG',\n",
       " 'POLITIEK_BELEID',\n",
       " 'INFO_STATUS_QUO',\n",
       " 'MILIEU',\n",
       " 'INFO_OPLOSSINGEN',\n",
       " 'CO2',\n",
       " 'INDIVIDUEEL_GEDRAG',\n",
       " 'ENERGIE',\n",
       " 'SCEPTICI',\n",
       " 'ACTIVISME',\n",
       " 'DISCUSSIE',\n",
       " 'STIKSTOF',\n",
       " 'VOEDSELINDUSTRIE',\n",
       " 'OORZAKEN',\n",
       " 'VERVOER',\n",
       " 'INDUSTRIE',\n",
       " 'SCEPTICI_PERSONEN']"
      ]
     },
     "execution_count": 40,
     "metadata": {},
     "output_type": "execute_result"
    }
   ],
   "source": [
    "list(names.keys())"
   ]
  },
  {
   "cell_type": "code",
   "execution_count": 41,
   "metadata": {},
   "outputs": [
    {
     "data": {
      "text/html": [
       "<div>\n",
       "<style scoped>\n",
       "    .dataframe tbody tr th:only-of-type {\n",
       "        vertical-align: middle;\n",
       "    }\n",
       "\n",
       "    .dataframe tbody tr th {\n",
       "        vertical-align: top;\n",
       "    }\n",
       "\n",
       "    .dataframe thead th {\n",
       "        text-align: right;\n",
       "    }\n",
       "</style>\n",
       "<table border=\"1\" class=\"dataframe\">\n",
       "  <thead>\n",
       "    <tr style=\"text-align: right;\">\n",
       "      <th></th>\n",
       "      <th>Freq (%)</th>\n",
       "      <th>1</th>\n",
       "    </tr>\n",
       "  </thead>\n",
       "  <tbody>\n",
       "    <tr>\n",
       "      <th>Consequences</th>\n",
       "      <td>41.4</td>\n",
       "      <td>716.0</td>\n",
       "    </tr>\n",
       "    <tr>\n",
       "      <th>Politics &amp; policy</th>\n",
       "      <td>35.5</td>\n",
       "      <td>614.0</td>\n",
       "    </tr>\n",
       "    <tr>\n",
       "      <th>Trends and current status</th>\n",
       "      <td>26.5</td>\n",
       "      <td>459.0</td>\n",
       "    </tr>\n",
       "    <tr>\n",
       "      <th>Environmental problems</th>\n",
       "      <td>18.4</td>\n",
       "      <td>319.0</td>\n",
       "    </tr>\n",
       "    <tr>\n",
       "      <th>Solutions</th>\n",
       "      <td>15.1</td>\n",
       "      <td>261.0</td>\n",
       "    </tr>\n",
       "    <tr>\n",
       "      <th>Carbon</th>\n",
       "      <td>13.1</td>\n",
       "      <td>226.0</td>\n",
       "    </tr>\n",
       "    <tr>\n",
       "      <th>Individual behaviour</th>\n",
       "      <td>12.1</td>\n",
       "      <td>209.0</td>\n",
       "    </tr>\n",
       "    <tr>\n",
       "      <th>Energy</th>\n",
       "      <td>11.2</td>\n",
       "      <td>194.0</td>\n",
       "    </tr>\n",
       "    <tr>\n",
       "      <th>Climate change denial</th>\n",
       "      <td>4.2</td>\n",
       "      <td>72.0</td>\n",
       "    </tr>\n",
       "    <tr>\n",
       "      <th>Activism</th>\n",
       "      <td>4.1</td>\n",
       "      <td>71.0</td>\n",
       "    </tr>\n",
       "    <tr>\n",
       "      <th>Debate</th>\n",
       "      <td>3.9</td>\n",
       "      <td>67.0</td>\n",
       "    </tr>\n",
       "    <tr>\n",
       "      <th>Nitrogen</th>\n",
       "      <td>3.9</td>\n",
       "      <td>67.0</td>\n",
       "    </tr>\n",
       "    <tr>\n",
       "      <th>Agriculture</th>\n",
       "      <td>3.1</td>\n",
       "      <td>53.0</td>\n",
       "    </tr>\n",
       "    <tr>\n",
       "      <th>Causes</th>\n",
       "      <td>2.9</td>\n",
       "      <td>51.0</td>\n",
       "    </tr>\n",
       "    <tr>\n",
       "      <th>Transport</th>\n",
       "      <td>2.6</td>\n",
       "      <td>45.0</td>\n",
       "    </tr>\n",
       "    <tr>\n",
       "      <th>Industry</th>\n",
       "      <td>1.8</td>\n",
       "      <td>31.0</td>\n",
       "    </tr>\n",
       "    <tr>\n",
       "      <th>Climate change deniers</th>\n",
       "      <td>1.1</td>\n",
       "      <td>19.0</td>\n",
       "    </tr>\n",
       "  </tbody>\n",
       "</table>\n",
       "</div>"
      ],
      "text/plain": [
       "                           Freq (%)      1\n",
       "Consequences                   41.4  716.0\n",
       "Politics & policy              35.5  614.0\n",
       "Trends and current status      26.5  459.0\n",
       "Environmental problems         18.4  319.0\n",
       "Solutions                      15.1  261.0\n",
       "Carbon                         13.1  226.0\n",
       "Individual behaviour           12.1  209.0\n",
       "Energy                         11.2  194.0\n",
       "Climate change denial           4.2   72.0\n",
       "Activism                        4.1   71.0\n",
       "Debate                          3.9   67.0\n",
       "Nitrogen                        3.9   67.0\n",
       "Agriculture                     3.1   53.0\n",
       "Causes                          2.9   51.0\n",
       "Transport                       2.6   45.0\n",
       "Industry                        1.8   31.0\n",
       "Climate change deniers          1.1   19.0"
      ]
     },
     "execution_count": 41,
     "metadata": {},
     "output_type": "execute_result"
    }
   ],
   "source": [
    "sq_des"
   ]
  },
  {
   "cell_type": "code",
   "execution_count": 42,
   "metadata": {},
   "outputs": [
    {
     "data": {
      "text/plain": [
       "<Figure size 3240x5400 with 0 Axes>"
      ]
     },
     "execution_count": 42,
     "metadata": {},
     "output_type": "execute_result"
    },
    {
     "data": {
      "text/plain": [
       "<Figure size 3240x5400 with 0 Axes>"
      ]
     },
     "metadata": {},
     "output_type": "display_data"
    }
   ],
   "source": [
    "# bar graph\n",
    "import matplotlib\n",
    "import matplotlib.pyplot as plt\n",
    "import seaborn as sns\n",
    "sns.set_context(\"paper\")\n",
    "sns.set(font='serif')\n",
    "sns.set_style(\"whitegrid\")\n",
    "plt.figure(figsize=(45,75))"
   ]
  },
  {
   "cell_type": "code",
   "execution_count": 43,
   "metadata": {},
   "outputs": [
    {
     "data": {
      "image/png": "[encoded data removed]",
      "text/plain": [
       "<Figure size 504x288 with 1 Axes>"
      ]
     },
     "metadata": {},
     "output_type": "display_data"
    }
   ],
   "source": [
    "plt.figure(figsize=(7,4))\n",
    "plt.xlabel('Frequency (%)')\n",
    "plt.gca().invert_yaxis()\n",
    "plt.xlim([0, 50])\n",
    "plt.grid(False)\n",
    "for index, value in enumerate(sq_des['Freq (%)']):\n",
    "    plt.text(value, index, \"  \"+str(value), va='center_baseline')\n",
    "plt.barh(sq_des.index, sq_des['Freq (%)'])\n",
    "plt.savefig(PATH+\"/report/figures/climate/sq_descriptives.eps\", format='eps', dpi=600, bbox_inches='tight', pad_inches = 0)\n",
    "plt.show()"
   ]
  },
  {
   "cell_type": "code",
   "execution_count": 45,
   "metadata": {},
   "outputs": [
    {
     "data": {
      "text/plain": [
       "3.0    49.566223\n",
       "2.0    39.733950\n",
       "1.0     9.427415\n",
       "0.0     1.272412\n",
       "Name: total_specific, dtype: float64"
      ]
     },
     "execution_count": 45,
     "metadata": {},
     "output_type": "execute_result"
    }
   ],
   "source": [
    "# how many specific search queries per person.\n",
    "df['total_specific'] = df[['SPECIFIEK_1', 'SPECIFIEK_2', 'SPECIFIEK_3']].sum(axis=1)\n",
    "df['total_specific'].value_counts(dropna=False,normalize=True)*100"
   ]
  },
  {
   "cell_type": "markdown",
   "metadata": {},
   "source": [
    "### Independent variables"
   ]
  },
  {
   "cell_type": "code",
   "execution_count": 46,
   "metadata": {},
   "outputs": [],
   "source": [
    "df['edu_low'] = np.where(df.opl_3cat==1,1,0)\n",
    "df['edu_mid'] = np.where(df.opl_3cat==2,1,0)\n",
    "df['edu_high'] = np.where(df.opl_3cat==3,1,0)\n",
    "df['base_gender2'] = np.where(df.base_gender==1,1,0)"
   ]
  },
  {
   "cell_type": "code",
   "execution_count": 47,
   "metadata": {},
   "outputs": [],
   "source": [
    "iv_cat = ['edu_low', 'edu_mid', 'edu_high', 'base_gender2']\n",
    "iv_con = ['att_cc_mean', 'MVH_att_importance_2', 'base_polar', 'base_intpol', \n",
    "          'base_lft']"
   ]
  },
  {
   "cell_type": "code",
   "execution_count": 48,
   "metadata": {},
   "outputs": [
    {
     "data": {
      "text/html": [
       "<div>\n",
       "<style scoped>\n",
       "    .dataframe tbody tr th:only-of-type {\n",
       "        vertical-align: middle;\n",
       "    }\n",
       "\n",
       "    .dataframe tbody tr th {\n",
       "        vertical-align: top;\n",
       "    }\n",
       "\n",
       "    .dataframe thead th {\n",
       "        text-align: right;\n",
       "    }\n",
       "</style>\n",
       "<table border=\"1\" class=\"dataframe\">\n",
       "  <thead>\n",
       "    <tr style=\"text-align: right;\">\n",
       "      <th></th>\n",
       "      <th>mean</th>\n",
       "      <th>std</th>\n",
       "      <th>min</th>\n",
       "      <th>max</th>\n",
       "    </tr>\n",
       "  </thead>\n",
       "  <tbody>\n",
       "    <tr>\n",
       "      <th>att_cc_mean</th>\n",
       "      <td>4.83</td>\n",
       "      <td>1.50</td>\n",
       "      <td>1.0</td>\n",
       "      <td>7.0</td>\n",
       "    </tr>\n",
       "    <tr>\n",
       "      <th>MVH_att_importance_2</th>\n",
       "      <td>3.86</td>\n",
       "      <td>0.98</td>\n",
       "      <td>1.0</td>\n",
       "      <td>5.0</td>\n",
       "    </tr>\n",
       "    <tr>\n",
       "      <th>base_polar</th>\n",
       "      <td>5.09</td>\n",
       "      <td>2.30</td>\n",
       "      <td>0.0</td>\n",
       "      <td>10.0</td>\n",
       "    </tr>\n",
       "    <tr>\n",
       "      <th>base_intpol</th>\n",
       "      <td>5.17</td>\n",
       "      <td>2.55</td>\n",
       "      <td>0.0</td>\n",
       "      <td>10.0</td>\n",
       "    </tr>\n",
       "    <tr>\n",
       "      <th>base_lft</th>\n",
       "      <td>46.11</td>\n",
       "      <td>14.93</td>\n",
       "      <td>18.0</td>\n",
       "      <td>77.0</td>\n",
       "    </tr>\n",
       "    <tr>\n",
       "      <th>edu_low</th>\n",
       "      <td>0.07</td>\n",
       "      <td>0.26</td>\n",
       "      <td>0.0</td>\n",
       "      <td>1.0</td>\n",
       "    </tr>\n",
       "    <tr>\n",
       "      <th>edu_mid</th>\n",
       "      <td>0.51</td>\n",
       "      <td>0.50</td>\n",
       "      <td>0.0</td>\n",
       "      <td>1.0</td>\n",
       "    </tr>\n",
       "    <tr>\n",
       "      <th>edu_high</th>\n",
       "      <td>0.41</td>\n",
       "      <td>0.49</td>\n",
       "      <td>0.0</td>\n",
       "      <td>1.0</td>\n",
       "    </tr>\n",
       "    <tr>\n",
       "      <th>base_gender2</th>\n",
       "      <td>0.49</td>\n",
       "      <td>0.50</td>\n",
       "      <td>0.0</td>\n",
       "      <td>1.0</td>\n",
       "    </tr>\n",
       "  </tbody>\n",
       "</table>\n",
       "</div>"
      ],
      "text/plain": [
       "                       mean    std   min   max\n",
       "att_cc_mean            4.83   1.50   1.0   7.0\n",
       "MVH_att_importance_2   3.86   0.98   1.0   5.0\n",
       "base_polar             5.09   2.30   0.0  10.0\n",
       "base_intpol            5.17   2.55   0.0  10.0\n",
       "base_lft              46.11  14.93  18.0  77.0\n",
       "edu_low                0.07   0.26   0.0   1.0\n",
       "edu_mid                0.51   0.50   0.0   1.0\n",
       "edu_high               0.41   0.49   0.0   1.0\n",
       "base_gender2           0.49   0.50   0.0   1.0"
      ]
     },
     "execution_count": 48,
     "metadata": {},
     "output_type": "execute_result"
    }
   ],
   "source": [
    "# mean age, gender and education for search query sample\n",
    "des2 = round(df[iv_con+iv_cat].describe().T[['mean', 'std','min', 'max']],2)\n",
    "des2"
   ]
  },
  {
   "cell_type": "code",
   "execution_count": 49,
   "metadata": {},
   "outputs": [
    {
     "data": {
      "text/html": [
       "<div>\n",
       "<style scoped>\n",
       "    .dataframe tbody tr th:only-of-type {\n",
       "        vertical-align: middle;\n",
       "    }\n",
       "\n",
       "    .dataframe tbody tr th {\n",
       "        vertical-align: top;\n",
       "    }\n",
       "\n",
       "    .dataframe thead th {\n",
       "        text-align: right;\n",
       "    }\n",
       "</style>\n",
       "<table border=\"1\" class=\"dataframe\">\n",
       "  <thead>\n",
       "    <tr style=\"text-align: right;\">\n",
       "      <th></th>\n",
       "      <th>ID</th>\n",
       "      <th>MVH_search_cc_1</th>\n",
       "      <th>MVH_search_cc_2</th>\n",
       "      <th>MVH_search_cc_3</th>\n",
       "      <th>MVH_search_cc_1_lp</th>\n",
       "      <th>MVH_search_cc_2_lp</th>\n",
       "      <th>MVH_search_cc_3_lp</th>\n",
       "      <th>MVH_search_cc_1_lp_nwords</th>\n",
       "      <th>MVH_search_cc_2_lp_nwords</th>\n",
       "      <th>MVH_search_cc_3_lp_nwords</th>\n",
       "      <th>...</th>\n",
       "      <th>STIKSTOF</th>\n",
       "      <th>TAAL</th>\n",
       "      <th>VERVOER</th>\n",
       "      <th>VOEDSELINDUSTRIE</th>\n",
       "      <th>VRAAG</th>\n",
       "      <th>total_specific</th>\n",
       "      <th>edu_low</th>\n",
       "      <th>edu_mid</th>\n",
       "      <th>edu_high</th>\n",
       "      <th>base_gender2</th>\n",
       "    </tr>\n",
       "  </thead>\n",
       "  <tbody>\n",
       "    <tr>\n",
       "      <th>1</th>\n",
       "      <td>2</td>\n",
       "      <td>klimaat</td>\n",
       "      <td>klimaatverandering</td>\n",
       "      <td>wereldwijd klimaat</td>\n",
       "      <td>klimaat</td>\n",
       "      <td>klimaatverandering</td>\n",
       "      <td>wereldwijd klimaat</td>\n",
       "      <td>1</td>\n",
       "      <td>1</td>\n",
       "      <td>2</td>\n",
       "      <td>...</td>\n",
       "      <td>0</td>\n",
       "      <td>0</td>\n",
       "      <td>0</td>\n",
       "      <td>0</td>\n",
       "      <td>0</td>\n",
       "      <td>0.0</td>\n",
       "      <td>0</td>\n",
       "      <td>1</td>\n",
       "      <td>0</td>\n",
       "      <td>0</td>\n",
       "    </tr>\n",
       "    <tr>\n",
       "      <th>14</th>\n",
       "      <td>15</td>\n",
       "      <td>Klimaat</td>\n",
       "      <td>Verandering</td>\n",
       "      <td>Gevaar</td>\n",
       "      <td>klimaat</td>\n",
       "      <td>verandering</td>\n",
       "      <td>gevaar</td>\n",
       "      <td>1</td>\n",
       "      <td>1</td>\n",
       "      <td>1</td>\n",
       "      <td>...</td>\n",
       "      <td>0</td>\n",
       "      <td>0</td>\n",
       "      <td>0</td>\n",
       "      <td>0</td>\n",
       "      <td>0</td>\n",
       "      <td>1.0</td>\n",
       "      <td>0</td>\n",
       "      <td>1</td>\n",
       "      <td>0</td>\n",
       "      <td>0</td>\n",
       "    </tr>\n",
       "    <tr>\n",
       "      <th>19</th>\n",
       "      <td>20</td>\n",
       "      <td>Klimaat wat kan ik er aan doen</td>\n",
       "      <td>Is het klimaat nog te redden</td>\n",
       "      <td>Wat zijn de gevolgen als we zo doorgaan met he...</td>\n",
       "      <td>klimaat wat kan ik er aan doen</td>\n",
       "      <td>is het klimaat nog te redden</td>\n",
       "      <td>wat zijn de gevolgen als we zo doorgaan met he...</td>\n",
       "      <td>7</td>\n",
       "      <td>6</td>\n",
       "      <td>11</td>\n",
       "      <td>...</td>\n",
       "      <td>0</td>\n",
       "      <td>0</td>\n",
       "      <td>0</td>\n",
       "      <td>0</td>\n",
       "      <td>1</td>\n",
       "      <td>3.0</td>\n",
       "      <td>1</td>\n",
       "      <td>0</td>\n",
       "      <td>0</td>\n",
       "      <td>1</td>\n",
       "    </tr>\n",
       "    <tr>\n",
       "      <th>28</th>\n",
       "      <td>29</td>\n",
       "      <td>Klimaat</td>\n",
       "      <td>politiek</td>\n",
       "      <td>klimaat en politiek</td>\n",
       "      <td>klimaat</td>\n",
       "      <td>politiek</td>\n",
       "      <td>klimaat en politiek</td>\n",
       "      <td>1</td>\n",
       "      <td>1</td>\n",
       "      <td>3</td>\n",
       "      <td>...</td>\n",
       "      <td>0</td>\n",
       "      <td>0</td>\n",
       "      <td>0</td>\n",
       "      <td>0</td>\n",
       "      <td>0</td>\n",
       "      <td>2.0</td>\n",
       "      <td>0</td>\n",
       "      <td>1</td>\n",
       "      <td>0</td>\n",
       "      <td>0</td>\n",
       "    </tr>\n",
       "    <tr>\n",
       "      <th>62</th>\n",
       "      <td>63</td>\n",
       "      <td>klimaat</td>\n",
       "      <td>aarde</td>\n",
       "      <td>natuur</td>\n",
       "      <td>klimaat</td>\n",
       "      <td>aarde</td>\n",
       "      <td>natuur</td>\n",
       "      <td>1</td>\n",
       "      <td>1</td>\n",
       "      <td>1</td>\n",
       "      <td>...</td>\n",
       "      <td>0</td>\n",
       "      <td>0</td>\n",
       "      <td>0</td>\n",
       "      <td>0</td>\n",
       "      <td>0</td>\n",
       "      <td>2.0</td>\n",
       "      <td>0</td>\n",
       "      <td>1</td>\n",
       "      <td>0</td>\n",
       "      <td>1</td>\n",
       "    </tr>\n",
       "    <tr>\n",
       "      <th>...</th>\n",
       "      <td>...</td>\n",
       "      <td>...</td>\n",
       "      <td>...</td>\n",
       "      <td>...</td>\n",
       "      <td>...</td>\n",
       "      <td>...</td>\n",
       "      <td>...</td>\n",
       "      <td>...</td>\n",
       "      <td>...</td>\n",
       "      <td>...</td>\n",
       "      <td>...</td>\n",
       "      <td>...</td>\n",
       "      <td>...</td>\n",
       "      <td>...</td>\n",
       "      <td>...</td>\n",
       "      <td>...</td>\n",
       "      <td>...</td>\n",
       "      <td>...</td>\n",
       "      <td>...</td>\n",
       "      <td>...</td>\n",
       "      <td>...</td>\n",
       "    </tr>\n",
       "    <tr>\n",
       "      <th>1949</th>\n",
       "      <td>1950</td>\n",
       "      <td>klimaatverandering toekomst</td>\n",
       "      <td>klimaatverbetering</td>\n",
       "      <td>status klimaatverandering</td>\n",
       "      <td>klimaatverandering toekomst</td>\n",
       "      <td>klimaatverbetering</td>\n",
       "      <td>status klimaatverandering</td>\n",
       "      <td>2</td>\n",
       "      <td>1</td>\n",
       "      <td>2</td>\n",
       "      <td>...</td>\n",
       "      <td>0</td>\n",
       "      <td>0</td>\n",
       "      <td>0</td>\n",
       "      <td>0</td>\n",
       "      <td>0</td>\n",
       "      <td>3.0</td>\n",
       "      <td>0</td>\n",
       "      <td>0</td>\n",
       "      <td>1</td>\n",
       "      <td>0</td>\n",
       "    </tr>\n",
       "    <tr>\n",
       "      <th>1956</th>\n",
       "      <td>1957</td>\n",
       "      <td>Opwarming aarde</td>\n",
       "      <td>Klimaat</td>\n",
       "      <td>Discussie punt</td>\n",
       "      <td>opwarming aarde</td>\n",
       "      <td>klimaat</td>\n",
       "      <td>discussie punt</td>\n",
       "      <td>2</td>\n",
       "      <td>1</td>\n",
       "      <td>2</td>\n",
       "      <td>...</td>\n",
       "      <td>0</td>\n",
       "      <td>0</td>\n",
       "      <td>0</td>\n",
       "      <td>0</td>\n",
       "      <td>0</td>\n",
       "      <td>2.0</td>\n",
       "      <td>0</td>\n",
       "      <td>1</td>\n",
       "      <td>0</td>\n",
       "      <td>1</td>\n",
       "    </tr>\n",
       "    <tr>\n",
       "      <th>1969</th>\n",
       "      <td>1970</td>\n",
       "      <td>Co2</td>\n",
       "      <td>Stikstof</td>\n",
       "      <td>opwarming aarde</td>\n",
       "      <td>co2</td>\n",
       "      <td>stikstof</td>\n",
       "      <td>opwarming aarde</td>\n",
       "      <td>1</td>\n",
       "      <td>1</td>\n",
       "      <td>2</td>\n",
       "      <td>...</td>\n",
       "      <td>1</td>\n",
       "      <td>0</td>\n",
       "      <td>0</td>\n",
       "      <td>0</td>\n",
       "      <td>0</td>\n",
       "      <td>3.0</td>\n",
       "      <td>0</td>\n",
       "      <td>1</td>\n",
       "      <td>0</td>\n",
       "      <td>1</td>\n",
       "    </tr>\n",
       "    <tr>\n",
       "      <th>1992</th>\n",
       "      <td>1993</td>\n",
       "      <td>geld</td>\n",
       "      <td>energie</td>\n",
       "      <td>windmolen</td>\n",
       "      <td>geld</td>\n",
       "      <td>energie</td>\n",
       "      <td>windmolen</td>\n",
       "      <td>1</td>\n",
       "      <td>1</td>\n",
       "      <td>1</td>\n",
       "      <td>...</td>\n",
       "      <td>0</td>\n",
       "      <td>0</td>\n",
       "      <td>0</td>\n",
       "      <td>0</td>\n",
       "      <td>0</td>\n",
       "      <td>3.0</td>\n",
       "      <td>0</td>\n",
       "      <td>1</td>\n",
       "      <td>0</td>\n",
       "      <td>0</td>\n",
       "    </tr>\n",
       "    <tr>\n",
       "      <th>1993</th>\n",
       "      <td>1994</td>\n",
       "      <td>Climate referendum 2021</td>\n",
       "      <td>Climate change science</td>\n",
       "      <td>How to personally make a difference to help pr...</td>\n",
       "      <td>climate referendum 2021</td>\n",
       "      <td>climate change science</td>\n",
       "      <td>how to personally make a difference to help pr...</td>\n",
       "      <td>3</td>\n",
       "      <td>3</td>\n",
       "      <td>11</td>\n",
       "      <td>...</td>\n",
       "      <td>0</td>\n",
       "      <td>1</td>\n",
       "      <td>0</td>\n",
       "      <td>0</td>\n",
       "      <td>1</td>\n",
       "      <td>3.0</td>\n",
       "      <td>0</td>\n",
       "      <td>1</td>\n",
       "      <td>0</td>\n",
       "      <td>0</td>\n",
       "    </tr>\n",
       "  </tbody>\n",
       "</table>\n",
       "<p>134 rows × 135 columns</p>\n",
       "</div>"
      ],
      "text/plain": [
       "        ID                 MVH_search_cc_1               MVH_search_cc_2  \\\n",
       "1        2                         klimaat            klimaatverandering   \n",
       "14      15                         Klimaat                   Verandering   \n",
       "19      20  Klimaat wat kan ik er aan doen  Is het klimaat nog te redden   \n",
       "28      29                         Klimaat                      politiek   \n",
       "62      63                         klimaat                         aarde   \n",
       "...    ...                             ...                           ...   \n",
       "1949  1950     klimaatverandering toekomst            klimaatverbetering   \n",
       "1956  1957                 Opwarming aarde                       Klimaat   \n",
       "1969  1970                             Co2                      Stikstof   \n",
       "1992  1993                            geld                       energie   \n",
       "1993  1994         Climate referendum 2021        Climate change science   \n",
       "\n",
       "                                        MVH_search_cc_3  \\\n",
       "1                                    wereldwijd klimaat   \n",
       "14                                               Gevaar   \n",
       "19    Wat zijn de gevolgen als we zo doorgaan met he...   \n",
       "28                                  klimaat en politiek   \n",
       "62                                               natuur   \n",
       "...                                                 ...   \n",
       "1949                          status klimaatverandering   \n",
       "1956                                     Discussie punt   \n",
       "1969                                    opwarming aarde   \n",
       "1992                                          windmolen   \n",
       "1993  How to personally make a difference to help pr...   \n",
       "\n",
       "                  MVH_search_cc_1_lp            MVH_search_cc_2_lp  \\\n",
       "1                            klimaat            klimaatverandering   \n",
       "14                           klimaat                   verandering   \n",
       "19    klimaat wat kan ik er aan doen  is het klimaat nog te redden   \n",
       "28                           klimaat                      politiek   \n",
       "62                           klimaat                         aarde   \n",
       "...                              ...                           ...   \n",
       "1949     klimaatverandering toekomst            klimaatverbetering   \n",
       "1956                 opwarming aarde                       klimaat   \n",
       "1969                             co2                      stikstof   \n",
       "1992                            geld                       energie   \n",
       "1993         climate referendum 2021        climate change science   \n",
       "\n",
       "                                     MVH_search_cc_3_lp  \\\n",
       "1                                    wereldwijd klimaat   \n",
       "14                                               gevaar   \n",
       "19    wat zijn de gevolgen als we zo doorgaan met he...   \n",
       "28                                  klimaat en politiek   \n",
       "62                                               natuur   \n",
       "...                                                 ...   \n",
       "1949                          status klimaatverandering   \n",
       "1956                                     discussie punt   \n",
       "1969                                    opwarming aarde   \n",
       "1992                                          windmolen   \n",
       "1993  how to personally make a difference to help pr...   \n",
       "\n",
       "      MVH_search_cc_1_lp_nwords  MVH_search_cc_2_lp_nwords  \\\n",
       "1                             1                          1   \n",
       "14                            1                          1   \n",
       "19                            7                          6   \n",
       "28                            1                          1   \n",
       "62                            1                          1   \n",
       "...                         ...                        ...   \n",
       "1949                          2                          1   \n",
       "1956                          2                          1   \n",
       "1969                          1                          1   \n",
       "1992                          1                          1   \n",
       "1993                          3                          3   \n",
       "\n",
       "      MVH_search_cc_3_lp_nwords  ...  STIKSTOF  TAAL  VERVOER  \\\n",
       "1                             2  ...         0     0        0   \n",
       "14                            1  ...         0     0        0   \n",
       "19                           11  ...         0     0        0   \n",
       "28                            3  ...         0     0        0   \n",
       "62                            1  ...         0     0        0   \n",
       "...                         ...  ...       ...   ...      ...   \n",
       "1949                          2  ...         0     0        0   \n",
       "1956                          2  ...         0     0        0   \n",
       "1969                          2  ...         1     0        0   \n",
       "1992                          1  ...         0     0        0   \n",
       "1993                         11  ...         0     1        0   \n",
       "\n",
       "      VOEDSELINDUSTRIE  VRAAG  total_specific  edu_low  edu_mid  edu_high  \\\n",
       "1                    0      0             0.0        0        1         0   \n",
       "14                   0      0             1.0        0        1         0   \n",
       "19                   0      1             3.0        1        0         0   \n",
       "28                   0      0             2.0        0        1         0   \n",
       "62                   0      0             2.0        0        1         0   \n",
       "...                ...    ...             ...      ...      ...       ...   \n",
       "1949                 0      0             3.0        0        0         1   \n",
       "1956                 0      0             2.0        0        1         0   \n",
       "1969                 0      0             3.0        0        1         0   \n",
       "1992                 0      0             3.0        0        1         0   \n",
       "1993                 0      1             3.0        0        1         0   \n",
       "\n",
       "     base_gender2  \n",
       "1               0  \n",
       "14              0  \n",
       "19              1  \n",
       "28              0  \n",
       "62              1  \n",
       "...           ...  \n",
       "1949            0  \n",
       "1956            1  \n",
       "1969            1  \n",
       "1992            0  \n",
       "1993            0  \n",
       "\n",
       "[134 rows x 135 columns]"
      ]
     },
     "execution_count": 49,
     "metadata": {},
     "output_type": "execute_result"
    }
   ],
   "source": [
    "df_miss = df[((df.base_polar.isna())|(df.base_intpol.isna())|(df.base_gender==3))]\n",
    "df_miss"
   ]
  },
  {
   "cell_type": "code",
   "execution_count": 50,
   "metadata": {},
   "outputs": [
    {
     "data": {
      "text/plain": [
       "(134, 135)"
      ]
     },
     "execution_count": 50,
     "metadata": {},
     "output_type": "execute_result"
    }
   ],
   "source": [
    "df_miss.shape"
   ]
  },
  {
   "cell_type": "code",
   "execution_count": 51,
   "metadata": {},
   "outputs": [
    {
     "data": {
      "text/plain": [
       "(1595, 135)"
      ]
     },
     "execution_count": 51,
     "metadata": {},
     "output_type": "execute_result"
    }
   ],
   "source": [
    "# exclude respondents with missing values on key IV\n",
    "df_reg = df[~((df.base_polar.isna())|(df.base_intpol.isna())|(df.base_gender==3))]\n",
    "df_reg.shape"
   ]
  },
  {
   "cell_type": "code",
   "execution_count": 52,
   "metadata": {},
   "outputs": [
    {
     "data": {
      "text/plain": [
       "(0.7110020241568622, array([0.682, 0.737]))"
      ]
     },
     "execution_count": 52,
     "metadata": {},
     "output_type": "execute_result"
    }
   ],
   "source": [
    "# cronbach's alpha for climate scale\n",
    "pg.cronbach_alpha(df[[\"MVH_att_cc_1\", \"MVH_att_cc_2\"]])"
   ]
  },
  {
   "cell_type": "code",
   "execution_count": 54,
   "metadata": {},
   "outputs": [
    {
     "name": "stderr",
     "output_type": "stream",
     "text": [
      "<ipython-input-54-472cfc52d176>:3: FutureWarning: In future versions `DataFrame.to_latex` is expected to utilise the base implementation of `Styler.to_latex` for formatting and rendering. The arguments signature may therefore change. It is recommended instead to use `DataFrame.style.to_latex` which also contains additional functionality.\n",
      "  des.to_latex(PATH+\"/report/tables/climate/iv_descriptives.tex\")\n"
     ]
    },
    {
     "data": {
      "text/html": [
       "<div>\n",
       "<style scoped>\n",
       "    .dataframe tbody tr th:only-of-type {\n",
       "        vertical-align: middle;\n",
       "    }\n",
       "\n",
       "    .dataframe tbody tr th {\n",
       "        vertical-align: top;\n",
       "    }\n",
       "\n",
       "    .dataframe thead th {\n",
       "        text-align: right;\n",
       "    }\n",
       "</style>\n",
       "<table border=\"1\" class=\"dataframe\">\n",
       "  <thead>\n",
       "    <tr style=\"text-align: right;\">\n",
       "      <th></th>\n",
       "      <th>mean</th>\n",
       "      <th>std</th>\n",
       "      <th>min</th>\n",
       "      <th>max</th>\n",
       "    </tr>\n",
       "  </thead>\n",
       "  <tbody>\n",
       "    <tr>\n",
       "      <th>att_cc_mean</th>\n",
       "      <td>4.85</td>\n",
       "      <td>1.51</td>\n",
       "      <td>1.0</td>\n",
       "      <td>7.0</td>\n",
       "    </tr>\n",
       "    <tr>\n",
       "      <th>MVH_att_importance_2</th>\n",
       "      <td>3.88</td>\n",
       "      <td>0.97</td>\n",
       "      <td>1.0</td>\n",
       "      <td>5.0</td>\n",
       "    </tr>\n",
       "    <tr>\n",
       "      <th>base_polar</th>\n",
       "      <td>5.09</td>\n",
       "      <td>2.29</td>\n",
       "      <td>0.0</td>\n",
       "      <td>10.0</td>\n",
       "    </tr>\n",
       "    <tr>\n",
       "      <th>base_intpol</th>\n",
       "      <td>5.36</td>\n",
       "      <td>2.43</td>\n",
       "      <td>0.0</td>\n",
       "      <td>10.0</td>\n",
       "    </tr>\n",
       "    <tr>\n",
       "      <th>base_lft</th>\n",
       "      <td>46.40</td>\n",
       "      <td>14.87</td>\n",
       "      <td>18.0</td>\n",
       "      <td>77.0</td>\n",
       "    </tr>\n",
       "    <tr>\n",
       "      <th>edu_low</th>\n",
       "      <td>0.07</td>\n",
       "      <td>0.25</td>\n",
       "      <td>0.0</td>\n",
       "      <td>1.0</td>\n",
       "    </tr>\n",
       "    <tr>\n",
       "      <th>edu_mid</th>\n",
       "      <td>0.50</td>\n",
       "      <td>0.50</td>\n",
       "      <td>0.0</td>\n",
       "      <td>1.0</td>\n",
       "    </tr>\n",
       "    <tr>\n",
       "      <th>edu_high</th>\n",
       "      <td>0.43</td>\n",
       "      <td>0.50</td>\n",
       "      <td>0.0</td>\n",
       "      <td>1.0</td>\n",
       "    </tr>\n",
       "    <tr>\n",
       "      <th>base_gender2</th>\n",
       "      <td>0.51</td>\n",
       "      <td>0.50</td>\n",
       "      <td>0.0</td>\n",
       "      <td>1.0</td>\n",
       "    </tr>\n",
       "  </tbody>\n",
       "</table>\n",
       "</div>"
      ],
      "text/plain": [
       "                       mean    std   min   max\n",
       "att_cc_mean            4.85   1.51   1.0   7.0\n",
       "MVH_att_importance_2   3.88   0.97   1.0   5.0\n",
       "base_polar             5.09   2.29   0.0  10.0\n",
       "base_intpol            5.36   2.43   0.0  10.0\n",
       "base_lft              46.40  14.87  18.0  77.0\n",
       "edu_low                0.07   0.25   0.0   1.0\n",
       "edu_mid                0.50   0.50   0.0   1.0\n",
       "edu_high               0.43   0.50   0.0   1.0\n",
       "base_gender2           0.51   0.50   0.0   1.0"
      ]
     },
     "execution_count": 54,
     "metadata": {},
     "output_type": "execute_result"
    }
   ],
   "source": [
    "#des = round(df_reg[iv_con+iv_cat+vote].describe().T[['mean', 'std','min', 'max']],2)\n",
    "des = round(df_reg[iv_con+iv_cat].describe().T[['mean', 'std','min', 'max']],2)\n",
    "des.to_latex(PATH+\"/report/tables/climate/iv_descriptives.tex\")\n",
    "des"
   ]
  },
  {
   "cell_type": "code",
   "execution_count": 55,
   "metadata": {},
   "outputs": [],
   "source": [
    "keep = [c for c in df_reg.columns if not any(z in c for z in (varnames1+varnames2+[\"MVH_search\", 'Comments']))]\n",
    "df_reg = df_reg[keep].copy()"
   ]
  },
  {
   "cell_type": "code",
   "execution_count": 56,
   "metadata": {},
   "outputs": [
    {
     "data": {
      "text/plain": [
       "(1595, 28)"
      ]
     },
     "execution_count": 56,
     "metadata": {},
     "output_type": "execute_result"
    }
   ],
   "source": [
    "df_reg.shape"
   ]
  },
  {
   "cell_type": "code",
   "execution_count": 57,
   "metadata": {},
   "outputs": [],
   "source": [
    "### save df for regression analysis\n",
    "df_reg.to_csv(PATH+\"/data/climate//df_reg.csv\", index=False)"
   ]
  }
 ],
 "metadata": {
  "kernelspec": {
   "display_name": "Python 3",
   "language": "python",
   "name": "python3"
  },
  "language_info": {
   "codemirror_mode": {
    "name": "ipython",
    "version": 3
   },
   "file_extension": ".py",
   "mimetype": "text/x-python",
   "name": "python",
   "nbconvert_exporter": "python",
   "pygments_lexer": "ipython3",
   "version": "3.8.2"
  }
 },
 "nbformat": 4,
 "nbformat_minor": 4
}
